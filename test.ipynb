{
 "cells": [
  {
   "cell_type": "code",
   "execution_count": 2,
   "metadata": {
    "ExecuteTime": {
     "end_time": "2019-05-14T23:54:01.143506Z",
     "start_time": "2019-05-14T23:53:55.878434Z"
    }
   },
   "outputs": [],
   "source": [
    "import numpy as np\n",
    "import os\n",
    "import pandas as pd\n",
    "import matplotlib as mpl\n",
    "mpl.use('Agg')\n",
    "\n",
    "mpl.rcParams['figure.figsize'] = (5,5)\n",
    "mpl.rcParams['figure.facecolor'] = (1,1,1,1)\n",
    "mpl.rcParams.update({'font.size':22})\n",
    "\n",
    "% matplotlib inline\n",
    "\n",
    "import matplotlib.pyplot as plt\n",
    "from matplotlib.patches import Rectangle\n",
    "\n",
    "from importlib import reload"
   ]
  },
  {
   "cell_type": "code",
   "execution_count": 3,
   "metadata": {
    "ExecuteTime": {
     "end_time": "2019-05-14T23:54:09.796200Z",
     "start_time": "2019-05-14T23:54:01.145393Z"
    }
   },
   "outputs": [
    {
     "name": "stderr",
     "output_type": "stream",
     "text": [
      "Using Theano backend.\n"
     ]
    }
   ],
   "source": [
    "import halo_cnn\n",
    "from halo_cnn.model import BaseHaloCNNRegressor\n",
    "from halo_cnn.data import HaloCNNDataManager"
   ]
  },
  {
   "cell_type": "code",
   "execution_count": 4,
   "metadata": {
    "ExecuteTime": {
     "end_time": "2019-05-14T23:54:09.805232Z",
     "start_time": "2019-05-14T23:54:09.798709Z"
    }
   },
   "outputs": [
    {
     "data": {
      "text/plain": [
       "<module 'halo_cnn' from '/home/mho1/halo_cnn/halo_cnn/__init__.py'>"
      ]
     },
     "execution_count": 4,
     "metadata": {},
     "output_type": "execute_result"
    }
   ],
   "source": [
    "reload(halo_cnn)"
   ]
  },
  {
   "cell_type": "code",
   "execution_count": 5,
   "metadata": {
    "ExecuteTime": {
     "end_time": "2019-05-14T23:54:09.815054Z",
     "start_time": "2019-05-14T23:54:09.807212Z"
    }
   },
   "outputs": [],
   "source": [
    "wdir = '/home/mho1/scratch/halo_cnn'\n",
    "imdir = '/home/mho1/halo_cnn/paper_images'"
   ]
  },
  {
   "cell_type": "markdown",
   "metadata": {},
   "source": [
    "# Testing halo_cnn"
   ]
  },
  {
   "cell_type": "code",
   "execution_count": 4,
   "metadata": {
    "ExecuteTime": {
     "end_time": "2019-05-13T23:26:04.970434Z",
     "start_time": "2019-05-13T23:25:59.574261Z"
    }
   },
   "outputs": [],
   "source": [
    "model = halo_cnn.model.BaseHaloCNNRegressor(input_shape=(48,48))\n",
    "data_manager = halo_cnn.data.HaloCNNDataManager(input_shape=(48,48),sample_rate=0.05)"
   ]
  },
  {
   "cell_type": "code",
   "execution_count": 5,
   "metadata": {
    "ExecuteTime": {
     "end_time": "2019-05-13T23:26:09.544215Z",
     "start_time": "2019-05-13T23:26:04.977143Z"
    }
   },
   "outputs": [
    {
     "name": "stdout",
     "output_type": "stream",
     "text": [
      "Loading catalog from: /home/mho1/scratch/halo_cnn/data_mocks/Rockstar_UM_z=0.000_contam.p\n"
     ]
    }
   ],
   "source": [
    "catalog = data_manager.load_catalog('/home/mho1/scratch/halo_cnn/data_mocks/Rockstar_UM_z=0.000_contam.p')"
   ]
  },
  {
   "cell_type": "code",
   "execution_count": 31,
   "metadata": {
    "ExecuteTime": {
     "end_time": "2019-05-13T23:31:46.232025Z",
     "start_time": "2019-05-13T23:31:08.558912Z"
    }
   },
   "outputs": [
    {
     "name": "stderr",
     "output_type": "stream",
     "text": [
      "100%|██████████| 14824/14824 [00:34<00:00, 433.32it/s]\n"
     ]
    }
   ],
   "source": [
    "data = data_manager.preprocess(catalog, ['vlos','Rproj'], n_proc=7)"
   ]
  },
  {
   "cell_type": "code",
   "execution_count": 32,
   "metadata": {
    "ExecuteTime": {
     "end_time": "2019-05-13T23:31:46.799880Z",
     "start_time": "2019-05-13T23:31:46.234665Z"
    }
   },
   "outputs": [],
   "source": [
    "del(catalog)"
   ]
  },
  {
   "cell_type": "code",
   "execution_count": 33,
   "metadata": {
    "ExecuteTime": {
     "end_time": "2019-05-13T23:31:46.815953Z",
     "start_time": "2019-05-13T23:31:46.807865Z"
    }
   },
   "outputs": [],
   "source": [
    "X = data['pdf']\n",
    "Y = data_manager.regularize(data['logmass'])"
   ]
  },
  {
   "cell_type": "code",
   "execution_count": 34,
   "metadata": {
    "ExecuteTime": {
     "end_time": "2019-05-13T23:31:46.825917Z",
     "start_time": "2019-05-13T23:31:46.818013Z"
    }
   },
   "outputs": [
    {
     "data": {
      "text/plain": [
       "True"
      ]
     },
     "execution_count": 34,
     "metadata": {},
     "output_type": "execute_result"
    }
   ],
   "source": [
    "(data['logmass']==data_manager.deregularize(Y)).all()"
   ]
  },
  {
   "cell_type": "code",
   "execution_count": 14,
   "metadata": {},
   "outputs": [
    {
     "data": {
      "text/plain": [
       "(48, 48)"
      ]
     },
     "execution_count": 14,
     "metadata": {},
     "output_type": "execute_result"
    }
   ],
   "source": [
    "X[8].shape"
   ]
  },
  {
   "cell_type": "code",
   "execution_count": 35,
   "metadata": {
    "ExecuteTime": {
     "end_time": "2019-05-13T23:31:47.231242Z",
     "start_time": "2019-05-13T23:31:46.828055Z"
    }
   },
   "outputs": [
    {
     "data": {
      "text/plain": [
       "<matplotlib.image.AxesImage at 0x2ae309df89e8>"
      ]
     },
     "execution_count": 35,
     "metadata": {},
     "output_type": "execute_result"
    },
    {
     "data": {
      "image/png": "[encoded data removed]",
      "text/plain": [
       "<Figure size 720x720 with 1 Axes>"
      ]
     },
     "metadata": {},
     "output_type": "display_data"
    }
   ],
   "source": [
    "plt.imshow(X[8])"
   ]
  },
  {
   "cell_type": "markdown",
   "metadata": {},
   "source": [
    "# Scratch"
   ]
  },
  {
   "cell_type": "code",
   "execution_count": 29,
   "metadata": {
    "ExecuteTime": {
     "end_time": "2019-05-13T23:30:17.517763Z",
     "start_time": "2019-05-13T23:30:17.501412Z"
    }
   },
   "outputs": [],
   "source": [
    "sample = data_manager._build_mesh(['vlos','Rproj'])\n",
    "data = np.stack([catalog.gal[50]['vlos'],catalog.gal[50]['Rproj']],axis=1)\n",
    "kdeval = data_manager.sample_kde(data,sample)"
   ]
  },
  {
   "cell_type": "code",
   "execution_count": 30,
   "metadata": {
    "ExecuteTime": {
     "end_time": "2019-05-13T23:30:19.396604Z",
     "start_time": "2019-05-13T23:30:18.970897Z"
    }
   },
   "outputs": [
    {
     "data": {
      "text/plain": [
       "[<matplotlib.lines.Line2D at 0x2ae30aecf438>]"
      ]
     },
     "execution_count": 30,
     "metadata": {},
     "output_type": "execute_result"
    },
    {
     "data": {
      "image/png": "[encoded data removed]",
      "text/plain": [
       "<Figure size 720x720 with 1 Axes>"
      ]
     },
     "metadata": {},
     "output_type": "display_data"
    }
   ],
   "source": [
    "plt.imshow(kdeval, extent=[0,data_manager.aperture,-data_manager.vcut,data_manager.vcut],origin='lower', aspect='auto')\n",
    "plt.plot((data.T)[1],(data.T)[0],'r.')"
   ]
  },
  {
   "cell_type": "code",
   "execution_count": 40,
   "metadata": {},
   "outputs": [],
   "source": [
    "sample_flat = np.transpose(sample,(len(sample.shape)-1,\n",
    "                                   *np.arange(len(sample.shape)-1)))\n",
    "sample_flat = np.reshape(sample_flat,\n",
    "                     (sample.shape[-1],\n",
    "                      np.product(sample.shape[:-1])))\n",
    "\n",
    "sample_kdeval = np.reshape(sample_flat[0], sample.shape[:-1]).T\n",
    "        "
   ]
  },
  {
   "cell_type": "code",
   "execution_count": 45,
   "metadata": {},
   "outputs": [
    {
     "data": {
      "text/plain": [
       "array([5, 4, 3, 2, 1, 0])"
      ]
     },
     "execution_count": 45,
     "metadata": {},
     "output_type": "execute_result"
    }
   ],
   "source": [
    "np.arange(5,-1, step=-1)"
   ]
  },
  {
   "cell_type": "code",
   "execution_count": 13,
   "metadata": {
    "ExecuteTime": {
     "end_time": "2019-05-13T23:27:02.960679Z",
     "start_time": "2019-05-13T23:27:02.956185Z"
    }
   },
   "outputs": [
    {
     "data": {
      "text/plain": [
       "(48, 1)"
      ]
     },
     "execution_count": 13,
     "metadata": {},
     "output_type": "execute_result"
    }
   ],
   "source": [
    "data_manager._build_mesh(['vlos']).shape"
   ]
  },
  {
   "cell_type": "code",
   "execution_count": null,
   "metadata": {},
   "outputs": [],
   "source": []
  },
  {
   "cell_type": "code",
   "execution_count": null,
   "metadata": {
    "scrolled": true
   },
   "outputs": [],
   "source": [
    "v_pos = np.linspace(-4800, 4800, 48 + 1)\n",
    "a_pos = np.linspace(0, 3, 48 + 1)\n",
    "v_pos = [np.mean(v_pos[[i,i+1]]) for i in range(len(v_pos)-1)]\n",
    "a_pos = [np.mean(a_pos[[i,i+1]]) for i in range(len(a_pos)-1)]\n",
    "\n",
    "mesh = np.meshgrid(a_pos,v_pos)\n",
    "np.transpose(mesh,(1,2,0))"
   ]
  },
  {
   "cell_type": "code",
   "execution_count": 5,
   "metadata": {
    "scrolled": true
   },
   "outputs": [
    {
     "data": {
      "text/plain": [
       "array([[[ 3.12500e-02, -4.70000e+03],\n",
       "        [ 9.37500e-02, -4.70000e+03],\n",
       "        [ 1.56250e-01, -4.70000e+03],\n",
       "        ...,\n",
       "        [ 2.84375e+00, -4.70000e+03],\n",
       "        [ 2.90625e+00, -4.70000e+03],\n",
       "        [ 2.96875e+00, -4.70000e+03]],\n",
       "\n",
       "       [[ 3.12500e-02, -4.50000e+03],\n",
       "        [ 9.37500e-02, -4.50000e+03],\n",
       "        [ 1.56250e-01, -4.50000e+03],\n",
       "        ...,\n",
       "        [ 2.84375e+00, -4.50000e+03],\n",
       "        [ 2.90625e+00, -4.50000e+03],\n",
       "        [ 2.96875e+00, -4.50000e+03]],\n",
       "\n",
       "       [[ 3.12500e-02, -4.30000e+03],\n",
       "        [ 9.37500e-02, -4.30000e+03],\n",
       "        [ 1.56250e-01, -4.30000e+03],\n",
       "        ...,\n",
       "        [ 2.84375e+00, -4.30000e+03],\n",
       "        [ 2.90625e+00, -4.30000e+03],\n",
       "        [ 2.96875e+00, -4.30000e+03]],\n",
       "\n",
       "       ...,\n",
       "\n",
       "       [[ 3.12500e-02,  4.30000e+03],\n",
       "        [ 9.37500e-02,  4.30000e+03],\n",
       "        [ 1.56250e-01,  4.30000e+03],\n",
       "        ...,\n",
       "        [ 2.84375e+00,  4.30000e+03],\n",
       "        [ 2.90625e+00,  4.30000e+03],\n",
       "        [ 2.96875e+00,  4.30000e+03]],\n",
       "\n",
       "       [[ 3.12500e-02,  4.50000e+03],\n",
       "        [ 9.37500e-02,  4.50000e+03],\n",
       "        [ 1.56250e-01,  4.50000e+03],\n",
       "        ...,\n",
       "        [ 2.84375e+00,  4.50000e+03],\n",
       "        [ 2.90625e+00,  4.50000e+03],\n",
       "        [ 2.96875e+00,  4.50000e+03]],\n",
       "\n",
       "       [[ 3.12500e-02,  4.70000e+03],\n",
       "        [ 9.37500e-02,  4.70000e+03],\n",
       "        [ 1.56250e-01,  4.70000e+03],\n",
       "        ...,\n",
       "        [ 2.84375e+00,  4.70000e+03],\n",
       "        [ 2.90625e+00,  4.70000e+03],\n",
       "        [ 2.96875e+00,  4.70000e+03]]])"
      ]
     },
     "execution_count": 5,
     "metadata": {},
     "output_type": "execute_result"
    }
   ],
   "source": [
    "dat = np.zeros(shape=(48,48,2))\n",
    "dat[:,:,0]=mesh[0]\n",
    "dat[:,:,1]=mesh[1]\n",
    "dat"
   ]
  },
  {
   "cell_type": "code",
   "execution_count": 6,
   "metadata": {},
   "outputs": [
    {
     "data": {
      "text/plain": [
       "(4, 2)"
      ]
     },
     "execution_count": 6,
     "metadata": {},
     "output_type": "execute_result"
    }
   ],
   "source": [
    "data = np.array([[0,400],[3,3000],[2,4000],[1,500]])\n",
    "# data = np.reshape(data,(*data.shape,1))\n",
    "data.shape"
   ]
  },
  {
   "cell_type": "code",
   "execution_count": 7,
   "metadata": {},
   "outputs": [
    {
     "ename": "ValueError",
     "evalue": "cannot reshape array of size 2304 into shape (48,)",
     "output_type": "error",
     "traceback": [
      "\u001b[0;31m---------------------------------------------------------------------------\u001b[0m",
      "\u001b[0;31mValueError\u001b[0m                                Traceback (most recent call last)",
      "\u001b[0;32m<ipython-input-7-ad557f1f0821>\u001b[0m in \u001b[0;36m<module>\u001b[0;34m()\u001b[0m\n\u001b[0;32m----> 1\u001b[0;31m \u001b[0mdata_manager\u001b[0m\u001b[0;34m.\u001b[0m\u001b[0msample_kde\u001b[0m\u001b[0;34m(\u001b[0m\u001b[0mdata\u001b[0m\u001b[0;34m,\u001b[0m\u001b[0mdat\u001b[0m\u001b[0;34m)\u001b[0m\u001b[0;34m\u001b[0m\u001b[0m\n\u001b[0m",
      "\u001b[0;32m~/halo_cnn/halo_cnn/data.py\u001b[0m in \u001b[0;36msample_kde\u001b[0;34m(self, data, sample)\u001b[0m\n\u001b[1;32m    154\u001b[0m \u001b[0;34m\u001b[0m\u001b[0m\n\u001b[1;32m    155\u001b[0m         sample_kdeval = np.reshape(sample_kdeval,\n\u001b[0;32m--> 156\u001b[0;31m                                    (*sample.shape[:-1]))\n\u001b[0m\u001b[1;32m    157\u001b[0m         \u001b[0msample_kdeval\u001b[0m \u001b[0;34m/=\u001b[0m \u001b[0mnp\u001b[0m\u001b[0;34m.\u001b[0m\u001b[0msum\u001b[0m\u001b[0;34m(\u001b[0m\u001b[0msample_kdeval\u001b[0m\u001b[0;34m)\u001b[0m\u001b[0;34m\u001b[0m\u001b[0m\n\u001b[1;32m    158\u001b[0m \u001b[0;34m\u001b[0m\u001b[0m\n",
      "\u001b[0;32m~/scratch/anaconda3/envs/jupy/lib/python3.6/site-packages/numpy/core/fromnumeric.py\u001b[0m in \u001b[0;36mreshape\u001b[0;34m(a, newshape, order)\u001b[0m\n\u001b[1;32m    255\u001b[0m            [5, 6]])\n\u001b[1;32m    256\u001b[0m     \"\"\"\n\u001b[0;32m--> 257\u001b[0;31m     \u001b[0;32mreturn\u001b[0m \u001b[0m_wrapfunc\u001b[0m\u001b[0;34m(\u001b[0m\u001b[0ma\u001b[0m\u001b[0;34m,\u001b[0m \u001b[0;34m'reshape'\u001b[0m\u001b[0;34m,\u001b[0m \u001b[0mnewshape\u001b[0m\u001b[0;34m,\u001b[0m \u001b[0morder\u001b[0m\u001b[0;34m=\u001b[0m\u001b[0morder\u001b[0m\u001b[0;34m)\u001b[0m\u001b[0;34m\u001b[0m\u001b[0m\n\u001b[0m\u001b[1;32m    258\u001b[0m \u001b[0;34m\u001b[0m\u001b[0m\n\u001b[1;32m    259\u001b[0m \u001b[0;34m\u001b[0m\u001b[0m\n",
      "\u001b[0;32m~/scratch/anaconda3/envs/jupy/lib/python3.6/site-packages/numpy/core/fromnumeric.py\u001b[0m in \u001b[0;36m_wrapfunc\u001b[0;34m(obj, method, *args, **kwds)\u001b[0m\n\u001b[1;32m     50\u001b[0m \u001b[0;32mdef\u001b[0m \u001b[0m_wrapfunc\u001b[0m\u001b[0;34m(\u001b[0m\u001b[0mobj\u001b[0m\u001b[0;34m,\u001b[0m \u001b[0mmethod\u001b[0m\u001b[0;34m,\u001b[0m \u001b[0;34m*\u001b[0m\u001b[0margs\u001b[0m\u001b[0;34m,\u001b[0m \u001b[0;34m**\u001b[0m\u001b[0mkwds\u001b[0m\u001b[0;34m)\u001b[0m\u001b[0;34m:\u001b[0m\u001b[0;34m\u001b[0m\u001b[0m\n\u001b[1;32m     51\u001b[0m     \u001b[0;32mtry\u001b[0m\u001b[0;34m:\u001b[0m\u001b[0;34m\u001b[0m\u001b[0m\n\u001b[0;32m---> 52\u001b[0;31m         \u001b[0;32mreturn\u001b[0m \u001b[0mgetattr\u001b[0m\u001b[0;34m(\u001b[0m\u001b[0mobj\u001b[0m\u001b[0;34m,\u001b[0m \u001b[0mmethod\u001b[0m\u001b[0;34m)\u001b[0m\u001b[0;34m(\u001b[0m\u001b[0;34m*\u001b[0m\u001b[0margs\u001b[0m\u001b[0;34m,\u001b[0m \u001b[0;34m**\u001b[0m\u001b[0mkwds\u001b[0m\u001b[0;34m)\u001b[0m\u001b[0;34m\u001b[0m\u001b[0m\n\u001b[0m\u001b[1;32m     53\u001b[0m \u001b[0;34m\u001b[0m\u001b[0m\n\u001b[1;32m     54\u001b[0m     \u001b[0;31m# An AttributeError occurs if the object does not have\u001b[0m\u001b[0;34m\u001b[0m\u001b[0;34m\u001b[0m\u001b[0m\n",
      "\u001b[0;31mValueError\u001b[0m: cannot reshape array of size 2304 into shape (48,)"
     ]
    }
   ],
   "source": [
    "data_manager.sample_kde(data,dat)"
   ]
  },
  {
   "cell_type": "code",
   "execution_count": 7,
   "metadata": {},
   "outputs": [
    {
     "data": {
      "text/plain": [
       "array([ 3.125e-02, -4.700e+03])"
      ]
     },
     "execution_count": 7,
     "metadata": {},
     "output_type": "execute_result"
    }
   ],
   "source": []
  },
  {
   "cell_type": "code",
   "execution_count": 24,
   "metadata": {
    "ExecuteTime": {
     "end_time": "2019-05-14T15:17:43.211762Z",
     "start_time": "2019-05-14T15:17:43.205907Z"
    }
   },
   "outputs": [],
   "source": [
    "import colossus\n",
    "from colossus.cosmology import cosmology\n",
    "cosmo = cosmology.setCosmology('planck15');\n",
    "from colossus.lss import mass_function\n",
    "\n",
    "s8_save = cosmo.sigma8\n",
    "Om_save = cosmo.Om0"
   ]
  },
  {
   "cell_type": "code",
   "execution_count": 53,
   "metadata": {
    "ExecuteTime": {
     "end_time": "2019-05-14T15:40:14.379961Z",
     "start_time": "2019-05-14T15:40:12.133450Z"
    }
   },
   "outputs": [
    {
     "data": {
      "image/png": "[encoded data removed]",
      "text/plain": [
       "<Figure size 360x216 with 1 Axes>"
      ]
     },
     "metadata": {},
     "output_type": "display_data"
    }
   ],
   "source": [
    "cosmo = cosmology.setCosmology('planck15');\n",
    "M = 10**np.arange(11.0, 15.5, 0.1)\n",
    "\n",
    "f = plt.figure(figsize=(5,3))\n",
    "for s8 in [0.6,0.7,0.8,0.9]:\n",
    "    cosmo.sigma8 = s8\n",
    "    mfunc = mass_function.massFunction(M, 0.0, mdef = '200c', model = 'tinker08', q_out = 'dndlnM')\n",
    "    plt.plot(M, mfunc, '-', label = '$\\sigma_8$ = %.1f' % s8)\n",
    "    \n",
    "plt.title('Planck15, Tinker08 | $\\sigma_8$', fontsize=15)\n",
    "plt.xlabel('$M_{200c}$ [$M_\\odot/h$]', fontsize=14)\n",
    "plt.ylabel('$dn/d\\ln(M)$ [Mpc$/h$]$^{-3}$', fontsize=14)\n",
    "plt.loglog()\n",
    "plt.xlim(1E11, 4E15)\n",
    "plt.ylim(1E-7, 1E-1)\n",
    "plt.axvspan(1e14,4e15,color='red',alpha=0.10, label='clusters')\n",
    "plt.legend(fontsize=11);\n",
    "\n",
    "f.savefig(os.path.join(imdir, 'HMF_s8.png'),bbox_inches='tight',dpi=400)"
   ]
  },
  {
   "cell_type": "code",
   "execution_count": 56,
   "metadata": {
    "ExecuteTime": {
     "end_time": "2019-05-14T15:42:24.427517Z",
     "start_time": "2019-05-14T15:42:22.249646Z"
    }
   },
   "outputs": [
    {
     "data": {
      "image/png": "[encoded data removed]",
      "text/plain": [
       "<Figure size 360x216 with 1 Axes>"
      ]
     },
     "metadata": {},
     "output_type": "display_data"
    }
   ],
   "source": [
    "cosmo = cosmology.setCosmology('planck15');\n",
    "\n",
    "M = 10**np.arange(11.0, 15.5, 0.1)\n",
    "\n",
    "f = plt.figure(figsize=(5,3))\n",
    "for Om in [0.2,0.25,0.3,0.35]:\n",
    "    cosmo.Om0 = Om\n",
    "    mfunc = mass_function.massFunction(M, 0.0, mdef = '200c', model = 'tinker08', q_out = 'dndlnM')\n",
    "    plt.plot(M, mfunc, '-', label = '$\\Omega_m$ = %.2f' % Om)\n",
    "    \n",
    "plt.title('Planck15, Tinker08 | $\\Omega_m$', fontsize=15)\n",
    "plt.xlabel('$M_{200c}$ [$M_\\odot/h$]', fontsize=14)\n",
    "plt.ylabel('$dn/d\\ln(M)$ [Mpc$/h$]$^{-3}$', fontsize=14)\n",
    "plt.loglog()\n",
    "plt.xlim(1E11, 4E15)\n",
    "plt.ylim(1E-7, 1E-1)\n",
    "plt.axvspan(1e14,4e15,color='red',alpha=0.10, label='clusters')\n",
    "plt.legend(fontsize=11);\n",
    "\n",
    "f.savefig(os.path.join(imdir, 'HMF_Om.png'),bbox_inches='tight',dpi=400)"
   ]
  },
  {
   "cell_type": "code",
   "execution_count": 30,
   "metadata": {
    "ExecuteTime": {
     "end_time": "2019-05-15T00:03:10.573521Z",
     "start_time": "2019-05-15T00:03:10.057056Z"
    }
   },
   "outputs": [
    {
     "data": {
      "image/png": "[encoded data removed]",
      "text/plain": [
       "<Figure size 288x216 with 1 Axes>"
      ]
     },
     "metadata": {},
     "output_type": "display_data"
    }
   ],
   "source": [
    "def N(x,mu,sigma):\n",
    "    return (2*np.pi*sigma**2)**(-0.5)*np.exp(-(x-mu)**2/(2*sigma**2))\n",
    "\n",
    "f,ax = plt.subplots(figsize=(4,3))\n",
    "X = np.arange(-3000,3000,100)\n",
    "plt.plot(X, N(X,0,500),'k')\n",
    "plt.errorbar(0,N(500,0,500),color='r',xerr=500, capsize=10, elinewidth=2.5, capthick=2.5)\n",
    "\n",
    "\n",
    "plt.ylabel('PDF', fontsize=14)\n",
    "plt.xlabel('$v_{los}$ [km/s]', fontsize=14)\n",
    "plt.ticklabel_format(style='sci', axis='y', scilimits=(0,3))\n",
    "f.savefig(os.path.join(imdir, 'v_disp.png'),bbox_inches='tight',dpi=400)"
   ]
  }
 ],
 "metadata": {
  "kernelspec": {
   "display_name": "Python 3",
   "language": "python",
   "name": "python3"
  },
  "language_info": {
   "codemirror_mode": {
    "name": "ipython",
    "version": 3
   },
   "file_extension": ".py",
   "mimetype": "text/x-python",
   "name": "python",
   "nbconvert_exporter": "python",
   "pygments_lexer": "ipython3",
   "version": "3.6.5"
  },
  "toc": {
   "base_numbering": 1,
   "nav_menu": {},
   "number_sections": true,
   "sideBar": true,
   "skip_h1_title": false,
   "title_cell": "Table of Contents",
   "title_sidebar": "Contents",
   "toc_cell": false,
   "toc_position": {},
   "toc_section_display": true,
   "toc_window_display": false
  }
 },
 "nbformat": 4,
 "nbformat_minor": 2
}
