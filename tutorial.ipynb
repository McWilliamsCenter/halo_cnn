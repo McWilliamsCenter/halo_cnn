{
 "cells": [
  {
   "cell_type": "markdown",
   "metadata": {},
   "source": [
    "# halo_cnn tutorial\n",
    "\n",
    "This notebook provides a tutorial for creating a halo_cnn pipeline using the halo_cnn data and model module. \n",
    "\n",
    "In this tutorial, we'll make a data pipeline for the CNN$_{2D}$ model, which regresses $\\log_{10}\\left[M_{200c}\\right]$ over the space of joint $\\{v_{los}, R_{proj}\\}$ distributions. We'll use 10-fold cross-validation to train and evaluate 10 models on independent train and test datasets."
   ]
  },
  {
   "cell_type": "markdown",
   "metadata": {},
   "source": [
    "## Imports"
   ]
  },
  {
   "cell_type": "code",
   "execution_count": 1,
   "metadata": {
    "ExecuteTime": {
     "end_time": "2019-05-22T22:59:17.334592Z",
     "start_time": "2019-05-22T22:59:13.944473Z"
    }
   },
   "outputs": [
    {
     "name": "stderr",
     "output_type": "stream",
     "text": [
      "Using Theano backend.\n"
     ]
    }
   ],
   "source": [
    "import numpy as np\n",
    "import matplotlib as mpl\n",
    "import matplotlib.pyplot as plt\n",
    "\n",
    "% matplotlib inline\n",
    "\n",
    "import halo_cnn\n",
    "from halo_cnn.model import BaseHaloCNNRegressor\n",
    "from halo_cnn.data import HaloCNNDataManager\n",
    "\n",
    "from tools.plot_tools import binned_plot"
   ]
  },
  {
   "cell_type": "code",
   "execution_count": 2,
   "metadata": {
    "ExecuteTime": {
     "end_time": "2019-05-22T22:59:17.339357Z",
     "start_time": "2019-05-22T22:59:17.336825Z"
    }
   },
   "outputs": [],
   "source": [
    "# Global parameters\n",
    "nfolds = 10 # use 10-fold cross-validation\n",
    "epochs = 20 # train for 20 epochs"
   ]
  },
  {
   "cell_type": "markdown",
   "metadata": {},
   "source": [
    "## Load and Preprocess Data"
   ]
  },
  {
   "cell_type": "code",
   "execution_count": 3,
   "metadata": {
    "ExecuteTime": {
     "end_time": "2019-05-22T22:59:17.837435Z",
     "start_time": "2019-05-22T22:59:17.832867Z"
    }
   },
   "outputs": [],
   "source": [
    "data_manager = HaloCNNDataManager(input_shape=(48,48),\n",
    "                                  bandwidth=0.25,\n",
    "                                  nfolds=nfolds,\n",
    "                                  mass_range_train=(None, None), # full range of masses\n",
    "                                  mass_range_test=(10**14, 10**15),\n",
    "                                  dn_dlogm=10.**-5.2, dlogm=0.05\n",
    "                                 )"
   ]
  },
  {
   "cell_type": "code",
   "execution_count": 4,
   "metadata": {
    "ExecuteTime": {
     "end_time": "2019-05-22T22:59:23.354822Z",
     "start_time": "2019-05-22T22:59:18.556307Z"
    }
   },
   "outputs": [
    {
     "name": "stdout",
     "output_type": "stream",
     "text": [
      "Loading catalog from: /home/mho1/scratch/halo_cnn/data_mocks/Rockstar_UM_z=0.000_contam.p\n",
      "\n",
      "~~~~ Catalog Parameters ~~~~\n",
      "catalog_name : Rockstar_UM_z=0.000\n",
      "z : 0.0\n",
      "min_mass : 31622776601683.793\n",
      "min_richness : 10\n",
      "aperture : 1.6\n",
      "vcut : 2500.0\n",
      "cosmo : {'H_0': 100, 'Omega_m': 0.307115, 'Omega_l': 0.692885, 'c': 299792.458}\n"
     ]
    }
   ],
   "source": [
    "# Load catalogs\n",
    "catalog = data_manager.load_catalog('/home/mho1/scratch/halo_cnn/data_mocks/Rockstar_UM_z=0.000_contam.p')\n",
    "\n",
    "print('\\n~~~~ Catalog Parameters ~~~~')\n",
    "for key in catalog.par:\n",
    "    print(key,':',catalog.par[key])"
   ]
  },
  {
   "cell_type": "code",
   "execution_count": 5,
   "metadata": {
    "ExecuteTime": {
     "end_time": "2019-05-22T23:02:35.880288Z",
     "start_time": "2019-05-22T22:59:23.358177Z"
    },
    "scrolled": true
   },
   "outputs": [
    {
     "name": "stderr",
     "output_type": "stream",
     "text": [
      "100%|██████████| 64529/64529 [02:58<00:00, 360.77it/s] \n"
     ]
    }
   ],
   "source": [
    "# Preprocess data\n",
    "data = data_manager.preprocess(catalog, ['vlos','Rproj'], n_proc=10)"
   ]
  },
  {
   "cell_type": "code",
   "execution_count": 6,
   "metadata": {
    "ExecuteTime": {
     "end_time": "2019-05-22T23:02:35.892044Z",
     "start_time": "2019-05-22T23:02:35.882567Z"
    }
   },
   "outputs": [],
   "source": [
    "# Assign variables and regularize dataset\n",
    "X = data['pdf']\n",
    "Y = data_manager.regularize(data['logmass'])\n",
    "\n",
    "in_train = data['in_train']\n",
    "in_test = data['in_test']\n",
    "fold = data['fold']"
   ]
  },
  {
   "cell_type": "code",
   "execution_count": 7,
   "metadata": {
    "ExecuteTime": {
     "end_time": "2019-05-22T23:02:36.767178Z",
     "start_time": "2019-05-22T23:02:35.894139Z"
    }
   },
   "outputs": [
    {
     "data": {
      "text/plain": [
       "<matplotlib.legend.Legend at 0x2b4616034c88>"
      ]
     },
     "execution_count": 7,
     "metadata": {},
     "output_type": "execute_result"
    },
    {
     "data": {
      "image/png": "[encoded data removed]",
      "text/plain": [
       "<Figure size 432x288 with 1 Axes>"
      ]
     },
     "metadata": {},
     "output_type": "display_data"
    }
   ],
   "source": [
    "# Plot mass distribution of train and test sets\n",
    "\n",
    "plt.semilogy()\n",
    "\n",
    "plt.hist(data['logmass'][in_train], \n",
    "         density=True, bins=20, histtype='step', label='in_train')\n",
    "plt.hist(data['logmass'][in_test], \n",
    "         density=True, bins=20, histtype='step', label='in_test')\n",
    "\n",
    "plt.xlabel(r'$\\log_{10}\\left[M_{200c}\\ (M_\\odot h^{-1})\\right]$', fontsize=12)\n",
    "plt.ylabel('PDF')\n",
    "plt.legend()"
   ]
  },
  {
   "cell_type": "markdown",
   "metadata": {},
   "source": [
    "## Initialize and Train Models"
   ]
  },
  {
   "cell_type": "code",
   "execution_count": 8,
   "metadata": {
    "ExecuteTime": {
     "end_time": "2019-05-22T23:02:50.398931Z",
     "start_time": "2019-05-22T23:02:36.769243Z"
    }
   },
   "outputs": [],
   "source": [
    "# Initialize models for each fold\n",
    "models = [BaseHaloCNNRegressor(input_shape=(48,48), epochs=epochs) for i in range(10)]"
   ]
  },
  {
   "cell_type": "code",
   "execution_count": 9,
   "metadata": {
    "ExecuteTime": {
     "end_time": "2019-05-22T23:49:28.206495Z",
     "start_time": "2019-05-22T23:02:50.401131Z"
    },
    "scrolled": true
   },
   "outputs": [
    {
     "name": "stdout",
     "output_type": "stream",
     "text": [
      "\n",
      "~~~~~~~~~~ Fold 0 ~~~~~~~~~~\n",
      "Epoch 1/20\n",
      "20808/20808 [==============================] - 13s 648us/step - loss: 0.0941\n",
      "Epoch 2/20\n",
      "20808/20808 [==============================] - 13s 644us/step - loss: 0.0527\n",
      "Epoch 3/20\n",
      "20808/20808 [==============================] - 13s 646us/step - loss: 0.0423\n",
      "Epoch 4/20\n",
      "20808/20808 [==============================] - 14s 654us/step - loss: 0.0362\n",
      "Epoch 5/20\n",
      "20808/20808 [==============================] - 14s 654us/step - loss: 0.0340\n",
      "Epoch 6/20\n",
      "20808/20808 [==============================] - 14s 658us/step - loss: 0.03220s - los\n",
      "Epoch 7/20\n",
      "20808/20808 [==============================] - 14s 655us/step - loss: 0.0327\n",
      "Epoch 8/20\n",
      "20808/20808 [==============================] - 14s 656us/step - loss: 0.0309\n",
      "Epoch 9/20\n",
      "20808/20808 [==============================] - 14s 660us/step - loss: 0.0305\n",
      "Epoch 10/20\n",
      "20808/20808 [==============================] - 14s 655us/step - loss: 0.0303\n",
      "Epoch 11/20\n",
      "20808/20808 [==============================] - 14s 660us/step - loss: 0.02931s - los - ETA: 0s - l\n",
      "Epoch 12/20\n",
      "20808/20808 [==============================] - 14s 654us/step - loss: 0.0292\n",
      "Epoch 13/20\n",
      "20808/20808 [==============================] - 14s 657us/step - loss: 0.0289\n",
      "Epoch 14/20\n",
      "20808/20808 [==============================] - 14s 652us/step - loss: 0.0281\n",
      "Epoch 15/20\n",
      "20808/20808 [==============================] - 14s 656us/step - loss: 0.0282\n",
      "Epoch 16/20\n",
      "20808/20808 [==============================] - 14s 653us/step - loss: 0.0277\n",
      "Epoch 17/20\n",
      "20808/20808 [==============================] - 14s 652us/step - loss: 0.0278\n",
      "Epoch 18/20\n",
      "20808/20808 [==============================] - 14s 654us/step - loss: 0.0276\n",
      "Epoch 19/20\n",
      "20808/20808 [==============================] - 14s 653us/step - loss: 0.0277\n",
      "Epoch 20/20\n",
      "20808/20808 [==============================] - 14s 655us/step - loss: 0.0271\n",
      "\n",
      "~~~~~~~~~~ Fold 1 ~~~~~~~~~~\n",
      "Epoch 1/20\n",
      "20866/20866 [==============================] - 13s 631us/step - loss: 0.0903\n",
      "Epoch 2/20\n",
      "20866/20866 [==============================] - 13s 644us/step - loss: 0.04370s - loss: 0.043\n",
      "Epoch 3/20\n",
      "20866/20866 [==============================] - 14s 654us/step - loss: 0.0363\n",
      "Epoch 4/20\n",
      "20866/20866 [==============================] - 14s 654us/step - loss: 0.0343\n",
      "Epoch 5/20\n",
      "20866/20866 [==============================] - 14s 653us/step - loss: 0.0323\n",
      "Epoch 6/20\n",
      "20866/20866 [==============================] - 14s 655us/step - loss: 0.0317\n",
      "Epoch 7/20\n",
      "20866/20866 [==============================] - 14s 659us/step - loss: 0.0311\n",
      "Epoch 8/20\n",
      "20866/20866 [==============================] - 14s 655us/step - loss: 0.0310\n",
      "Epoch 9/20\n",
      "20866/20866 [==============================] - 14s 656us/step - loss: 0.0297\n",
      "Epoch 10/20\n",
      "20866/20866 [==============================] - 14s 654us/step - loss: 0.0297\n",
      "Epoch 11/20\n",
      "20866/20866 [==============================] - 14s 652us/step - loss: 0.0288\n",
      "Epoch 12/20\n",
      "20866/20866 [==============================] - 13s 647us/step - loss: 0.0281\n",
      "Epoch 13/20\n",
      "20866/20866 [==============================] - 14s 658us/step - loss: 0.0279\n",
      "Epoch 14/20\n",
      "20866/20866 [==============================] - 14s 655us/step - loss: 0.0275\n",
      "Epoch 15/20\n",
      "20866/20866 [==============================] - 14s 656us/step - loss: 0.0267\n",
      "Epoch 16/20\n",
      "20866/20866 [==============================] - 14s 661us/step - loss: 0.02652s\n",
      "Epoch 17/20\n",
      "20866/20866 [==============================] - 14s 656us/step - loss: 0.02630s - loss: 0.02\n",
      "Epoch 18/20\n",
      "20866/20866 [==============================] - 14s 652us/step - loss: 0.0261\n",
      "Epoch 19/20\n",
      "20866/20866 [==============================] - 14s 655us/step - loss: 0.0264\n",
      "Epoch 20/20\n",
      "20866/20866 [==============================] - 14s 662us/step - loss: 0.0252\n",
      "\n",
      "~~~~~~~~~~ Fold 2 ~~~~~~~~~~\n",
      "Epoch 1/20\n",
      "20908/20908 [==============================] - 13s 616us/step - loss: 0.1260\n",
      "Epoch 2/20\n",
      "20908/20908 [==============================] - 14s 650us/step - loss: 0.0515\n",
      "Epoch 3/20\n",
      "20908/20908 [==============================] - 14s 667us/step - loss: 0.0398\n",
      "Epoch 4/20\n",
      "20908/20908 [==============================] - 14s 667us/step - loss: 0.038110s - loss: 0. -\n",
      "Epoch 5/20\n",
      "20908/20908 [==============================] - 14s 670us/step - loss: 0.03635s - \n",
      "Epoch 6/20\n",
      "20908/20908 [==============================] - 14s 667us/step - loss: 0.0358\n",
      "Epoch 7/20\n",
      "20908/20908 [==============================] - 14s 667us/step - loss: 0.0346\n",
      "Epoch 8/20\n",
      "20908/20908 [==============================] - 14s 655us/step - loss: 0.0340\n",
      "Epoch 9/20\n",
      "20908/20908 [==============================] - 14s 659us/step - loss: 0.03400s - loss: 0.034\n",
      "Epoch 10/20\n",
      "20908/20908 [==============================] - 14s 668us/step - loss: 0.0338\n",
      "Epoch 11/20\n",
      "20908/20908 [==============================] - 14s 671us/step - loss: 0.03292s -\n",
      "Epoch 12/20\n",
      "20908/20908 [==============================] - 14s 668us/step - loss: 0.03260s - loss:\n",
      "Epoch 13/20\n",
      "20908/20908 [==============================] - 14s 671us/step - loss: 0.0330\n",
      "Epoch 14/20\n",
      "20908/20908 [==============================] - 14s 669us/step - loss: 0.0324\n",
      "Epoch 15/20\n",
      "20908/20908 [==============================] - 14s 668us/step - loss: 0.03190s \n",
      "Epoch 16/20\n",
      "20908/20908 [==============================] - 14s 670us/step - loss: 0.03174s - \n",
      "Epoch 17/20\n",
      "20908/20908 [==============================] - 14s 668us/step - loss: 0.03136s - loss: 0. - ETA - ETA: 0s - loss: 0.031\n",
      "Epoch 18/20\n",
      "20908/20908 [==============================] - 14s 671us/step - loss: 0.03100s - loss: 0\n",
      "Epoch 19/20\n",
      "20908/20908 [==============================] - 14s 668us/step - loss: 0.03130s - loss: 0.\n",
      "Epoch 20/20\n",
      "20908/20908 [==============================] - 14s 673us/step - loss: 0.0311\n",
      "\n",
      "~~~~~~~~~~ Fold 3 ~~~~~~~~~~\n",
      "Epoch 1/20\n",
      "20758/20758 [==============================] - 13s 639us/step - loss: 0.0846\n",
      "Epoch 2/20\n",
      "20758/20758 [==============================] - 14s 658us/step - loss: 0.0402\n",
      "Epoch 3/20\n",
      "20758/20758 [==============================] - 14s 678us/step - loss: 0.0355\n",
      "Epoch 4/20\n",
      "20758/20758 [==============================] - 14s 688us/step - loss: 0.0329\n",
      "Epoch 5/20\n",
      "20758/20758 [==============================] - 14s 687us/step - loss: 0.0313\n",
      "Epoch 6/20\n",
      "20758/20758 [==============================] - 14s 689us/step - loss: 0.0305\n",
      "Epoch 7/20\n",
      "20758/20758 [==============================] - 14s 688us/step - loss: 0.0300\n",
      "Epoch 8/20\n",
      "20758/20758 [==============================] - 14s 688us/step - loss: 0.0295\n",
      "Epoch 9/20\n",
      "20758/20758 [==============================] - 14s 693us/step - loss: 0.0288\n",
      "Epoch 10/20\n",
      "20758/20758 [==============================] - 14s 680us/step - loss: 0.0287\n",
      "Epoch 11/20\n",
      "20758/20758 [==============================] - 14s 682us/step - loss: 0.0277\n",
      "Epoch 12/20\n",
      "20758/20758 [==============================] - 14s 687us/step - loss: 0.0274\n",
      "Epoch 13/20\n",
      "20758/20758 [==============================] - 14s 687us/step - loss: 0.0270\n",
      "Epoch 14/20\n",
      "20758/20758 [==============================] - 14s 678us/step - loss: 0.0268\n",
      "Epoch 15/20\n",
      "20758/20758 [==============================] - 14s 690us/step - loss: 0.0261\n",
      "Epoch 16/20\n",
      "20758/20758 [==============================] - 14s 690us/step - loss: 0.0261\n",
      "Epoch 17/20\n",
      "20758/20758 [==============================] - 14s 694us/step - loss: 0.0256\n",
      "Epoch 18/20\n",
      "20758/20758 [==============================] - 14s 688us/step - loss: 0.0255\n",
      "Epoch 19/20\n",
      "20758/20758 [==============================] - 14s 688us/step - loss: 0.0248\n",
      "Epoch 20/20\n",
      "20758/20758 [==============================] - 14s 690us/step - loss: 0.0245\n",
      "\n",
      "~~~~~~~~~~ Fold 4 ~~~~~~~~~~\n",
      "Epoch 1/20\n",
      "20776/20776 [==============================] - 13s 650us/step - loss: 0.0984\n",
      "Epoch 2/20\n",
      "20776/20776 [==============================] - 14s 667us/step - loss: 0.05231s  - ETA: 0s - los\n",
      "Epoch 3/20\n",
      "20776/20776 [==============================] - 14s 676us/step - loss: 0.0401\n",
      "Epoch 4/20\n",
      "20776/20776 [==============================] - 14s 678us/step - loss: 0.0366\n",
      "Epoch 5/20\n",
      "20776/20776 [==============================] - 14s 676us/step - loss: 0.0330\n",
      "Epoch 6/20\n",
      "20776/20776 [==============================] - 14s 684us/step - loss: 0.0322\n",
      "Epoch 7/20\n",
      "20776/20776 [==============================] - 14s 680us/step - loss: 0.0303 0s - loss: 0\n",
      "Epoch 8/20\n",
      "20776/20776 [==============================] - 14s 683us/step - loss: 0.0294\n",
      "Epoch 9/20\n"
     ]
    },
    {
     "name": "stdout",
     "output_type": "stream",
     "text": [
      "20776/20776 [==============================] - 14s 679us/step - loss: 0.0283\n",
      "Epoch 10/20\n",
      "20776/20776 [==============================] - 14s 679us/step - loss: 0.0283\n",
      "Epoch 11/20\n",
      "20776/20776 [==============================] - 14s 676us/step - loss: 0.0275\n",
      "Epoch 12/20\n",
      "20776/20776 [==============================] - 14s 676us/step - loss: 0.0272\n",
      "Epoch 13/20\n",
      "20776/20776 [==============================] - 14s 678us/step - loss: 0.0265\n",
      "Epoch 14/20\n",
      "20776/20776 [==============================] - 14s 678us/step - loss: 0.0262\n",
      "Epoch 15/20\n",
      "20776/20776 [==============================] - 14s 683us/step - loss: 0.0259\n",
      "Epoch 16/20\n",
      "20776/20776 [==============================] - 14s 680us/step - loss: 0.0253\n",
      "Epoch 17/20\n",
      "20776/20776 [==============================] - 14s 681us/step - loss: 0.0257\n",
      "Epoch 18/20\n",
      "20776/20776 [==============================] - 14s 679us/step - loss: 0.0252\n",
      "Epoch 19/20\n",
      "20776/20776 [==============================] - 14s 681us/step - loss: 0.0247\n",
      "Epoch 20/20\n",
      "20776/20776 [==============================] - 14s 675us/step - loss: 0.0247\n",
      "\n",
      "~~~~~~~~~~ Fold 5 ~~~~~~~~~~\n",
      "Epoch 1/20\n",
      "20604/20604 [==============================] - 13s 644us/step - loss: 0.1059\n",
      "Epoch 2/20\n",
      "20604/20604 [==============================] - 14s 664us/step - loss: 0.0595\n",
      "Epoch 3/20\n",
      "20604/20604 [==============================] - 14s 683us/step - loss: 0.0545\n",
      "Epoch 4/20\n",
      "20604/20604 [==============================] - 14s 683us/step - loss: 0.0462\n",
      "Epoch 5/20\n",
      "20604/20604 [==============================] - 14s 684us/step - loss: 0.0398\n",
      "Epoch 6/20\n",
      "20604/20604 [==============================] - 14s 688us/step - loss: 0.0369\n",
      "Epoch 7/20\n",
      "20604/20604 [==============================] - 14s 686us/step - loss: 0.0337\n",
      "Epoch 8/20\n",
      "20604/20604 [==============================] - 14s 690us/step - loss: 0.0335\n",
      "Epoch 9/20\n",
      "20604/20604 [==============================] - 14s 686us/step - loss: 0.0323\n",
      "Epoch 10/20\n",
      "20604/20604 [==============================] - 14s 688us/step - loss: 0.0312\n",
      "Epoch 11/20\n",
      "20604/20604 [==============================] - 14s 686us/step - loss: 0.0308\n",
      "Epoch 12/20\n",
      "20604/20604 [==============================] - 14s 689us/step - loss: 0.0305\n",
      "Epoch 13/20\n",
      "20604/20604 [==============================] - 14s 687us/step - loss: 0.0304\n",
      "Epoch 14/20\n",
      "20604/20604 [==============================] - 14s 688us/step - loss: 0.0297\n",
      "Epoch 15/20\n",
      "20604/20604 [==============================] - 14s 685us/step - loss: 0.0295\n",
      "Epoch 16/20\n",
      "20604/20604 [==============================] - 14s 688us/step - loss: 0.0290\n",
      "Epoch 17/20\n",
      "20604/20604 [==============================] - 14s 688us/step - loss: 0.0291\n",
      "Epoch 18/20\n",
      "20604/20604 [==============================] - 14s 687us/step - loss: 0.0286\n",
      "Epoch 19/20\n",
      "20604/20604 [==============================] - 14s 690us/step - loss: 0.0283\n",
      "Epoch 20/20\n",
      "20604/20604 [==============================] - 14s 687us/step - loss: 0.0278\n",
      "\n",
      "~~~~~~~~~~ Fold 6 ~~~~~~~~~~\n",
      "Epoch 1/20\n",
      "20736/20736 [==============================] - 13s 635us/step - loss: 0.0876\n",
      "Epoch 2/20\n",
      "20736/20736 [==============================] - 13s 636us/step - loss: 0.0389\n",
      "Epoch 3/20\n",
      "20736/20736 [==============================] - 13s 642us/step - loss: 0.0345\n",
      "Epoch 4/20\n",
      "20736/20736 [==============================] - 13s 644us/step - loss: 0.0323\n",
      "Epoch 5/20\n",
      "20736/20736 [==============================] - 13s 647us/step - loss: 0.03120s - l\n",
      "Epoch 6/20\n",
      "20736/20736 [==============================] - 13s 648us/step - loss: 0.0303\n",
      "Epoch 7/20\n",
      "20736/20736 [==============================] - 13s 648us/step - loss: 0.0293\n",
      "Epoch 8/20\n",
      "20736/20736 [==============================] - 14s 651us/step - loss: 0.0301\n",
      "Epoch 9/20\n",
      "20736/20736 [==============================] - 13s 651us/step - loss: 0.0284\n",
      "Epoch 10/20\n",
      "20736/20736 [==============================] - 14s 655us/step - loss: 0.0288\n",
      "Epoch 11/20\n",
      "20736/20736 [==============================] - 13s 651us/step - loss: 0.0284\n",
      "Epoch 12/20\n",
      "20736/20736 [==============================] - 14s 655us/step - loss: 0.0279\n",
      "Epoch 13/20\n",
      "20736/20736 [==============================] - 13s 651us/step - loss: 0.0275\n",
      "Epoch 14/20\n",
      "20736/20736 [==============================] - 13s 651us/step - loss: 0.0274\n",
      "Epoch 15/20\n",
      "20736/20736 [==============================] - 13s 649us/step - loss: 0.0271\n",
      "Epoch 16/20\n",
      "20736/20736 [==============================] - 13s 645us/step - loss: 0.0269\n",
      "Epoch 17/20\n",
      "20736/20736 [==============================] - 14s 653us/step - loss: 0.0265\n",
      "Epoch 18/20\n",
      "20736/20736 [==============================] - 13s 648us/step - loss: 0.0262\n",
      "Epoch 19/20\n",
      "20736/20736 [==============================] - 13s 650us/step - loss: 0.0261\n",
      "Epoch 20/20\n",
      "20736/20736 [==============================] - 13s 650us/step - loss: 0.0253\n",
      "\n",
      "~~~~~~~~~~ Fold 7 ~~~~~~~~~~\n",
      "Epoch 1/20\n",
      "20696/20696 [==============================] - 13s 641us/step - loss: 0.0899\n",
      "Epoch 2/20\n",
      "20696/20696 [==============================] - 13s 652us/step - loss: 0.0389\n",
      "Epoch 3/20\n",
      "20696/20696 [==============================] - 14s 670us/step - loss: 0.0328\n",
      "Epoch 4/20\n",
      "20696/20696 [==============================] - 14s 674us/step - loss: 0.0291\n",
      "Epoch 5/20\n",
      "20696/20696 [==============================] - 14s 663us/step - loss: 0.02840s - loss: 0.\n",
      "Epoch 6/20\n",
      "20696/20696 [==============================] - 14s 670us/step - loss: 0.0273\n",
      "Epoch 7/20\n",
      "20696/20696 [==============================] - 14s 672us/step - loss: 0.0270\n",
      "Epoch 8/20\n",
      "20696/20696 [==============================] - 14s 674us/step - loss: 0.0262\n",
      "Epoch 9/20\n",
      "20696/20696 [==============================] - 14s 675us/step - loss: 0.0265\n",
      "Epoch 10/20\n",
      "20696/20696 [==============================] - 14s 677us/step - loss: 0.02605s - l - ETA: 4s - lo - ETA: 2s - loss:  - ETA: 1s - loss: 0 - E\n",
      "Epoch 11/20\n",
      "20696/20696 [==============================] - 14s 673us/step - loss: 0.02570s - loss: \n",
      "Epoch 12/20\n",
      "20696/20696 [==============================] - 14s 677us/step - loss: 0.02553s - loss: 0.\n",
      "Epoch 13/20\n",
      "20696/20696 [==============================] - 14s 675us/step - loss: 0.0252\n",
      "Epoch 14/20\n",
      "20696/20696 [==============================] - 14s 674us/step - loss: 0.0245\n",
      "Epoch 15/20\n",
      "20696/20696 [==============================] - 14s 677us/step - loss: 0.02460s - loss\n",
      "Epoch 16/20\n",
      "20696/20696 [==============================] - 14s 677us/step - loss: 0.0244\n",
      "Epoch 17/20\n",
      "20696/20696 [==============================] - 14s 677us/step - loss: 0.0242\n",
      "Epoch 18/20\n",
      "20696/20696 [==============================] - 14s 675us/step - loss: 0.0245 - ETA: 0s - lo\n",
      "Epoch 19/20\n",
      "20696/20696 [==============================] - 14s 677us/step - loss: 0.02400s - loss: 0\n",
      "Epoch 20/20\n",
      "20696/20696 [==============================] - 14s 675us/step - loss: 0.0233\n",
      "\n",
      "~~~~~~~~~~ Fold 8 ~~~~~~~~~~\n",
      "Epoch 1/20\n",
      "20650/20650 [==============================] - 13s 647us/step - loss: 0.0963\n",
      "Epoch 2/20\n",
      "20650/20650 [==============================] - 13s 649us/step - loss: 0.0466\n",
      "Epoch 3/20\n",
      "20650/20650 [==============================] - 14s 657us/step - loss: 0.0387\n",
      "Epoch 4/20\n",
      "20650/20650 [==============================] - 14s 658us/step - loss: 0.03530s \n",
      "Epoch 5/20\n",
      "20650/20650 [==============================] - 14s 659us/step - loss: 0.03410s -\n",
      "Epoch 6/20\n",
      "20650/20650 [==============================] - 14s 663us/step - loss: 0.0331\n",
      "Epoch 7/20\n",
      "20650/20650 [==============================] - 14s 661us/step - loss: 0.0316\n",
      "Epoch 8/20\n",
      "20650/20650 [==============================] - 14s 662us/step - loss: 0.0303\n",
      "Epoch 9/20\n",
      "20650/20650 [==============================] - 14s 659us/step - loss: 0.0299\n",
      "Epoch 10/20\n",
      "20650/20650 [==============================] - 14s 664us/step - loss: 0.0285\n",
      "Epoch 11/20\n",
      "20650/20650 [==============================] - 14s 661us/step - loss: 0.0281\n",
      "Epoch 12/20\n",
      "20650/20650 [==============================] - 14s 664us/step - loss: 0.0273\n",
      "Epoch 13/20\n",
      "20650/20650 [==============================] - 14s 661us/step - loss: 0.0269\n",
      "Epoch 14/20\n",
      "20650/20650 [==============================] - 14s 657us/step - loss: 0.0271\n",
      "Epoch 15/20\n",
      "20650/20650 [==============================] - 14s 663us/step - loss: 0.0261\n",
      "Epoch 16/20\n",
      "20650/20650 [==============================] - 14s 660us/step - loss: 0.02610s - loss\n",
      "Epoch 17/20\n",
      "20650/20650 [==============================] - 14s 663us/step - loss: 0.0254\n",
      "Epoch 18/20\n"
     ]
    },
    {
     "name": "stdout",
     "output_type": "stream",
     "text": [
      "20650/20650 [==============================] - 14s 660us/step - loss: 0.0251\n",
      "Epoch 19/20\n",
      "20650/20650 [==============================] - 14s 664us/step - loss: 0.0248- ETA: 0s - loss: 0.\n",
      "Epoch 20/20\n",
      "20650/20650 [==============================] - 14s 661us/step - loss: 0.0246\n",
      "\n",
      "~~~~~~~~~~ Fold 9 ~~~~~~~~~~\n",
      "Epoch 1/20\n",
      "20810/20810 [==============================] - 13s 645us/step - loss: 0.0791\n",
      "Epoch 2/20\n",
      "20810/20810 [==============================] - 14s 651us/step - loss: 0.0390\n",
      "Epoch 3/20\n",
      "20810/20810 [==============================] - 14s 654us/step - loss: 0.0348\n",
      "Epoch 4/20\n",
      "20810/20810 [==============================] - 14s 661us/step - loss: 0.0326\n",
      "Epoch 5/20\n",
      "20810/20810 [==============================] - 14s 661us/step - loss: 0.03100s - los\n",
      "Epoch 6/20\n",
      "20810/20810 [==============================] - 14s 665us/step - loss: 0.0298\n",
      "Epoch 7/20\n",
      "20810/20810 [==============================] - 14s 664us/step - loss: 0.0287\n",
      "Epoch 8/20\n",
      "20810/20810 [==============================] - 14s 666us/step - loss: 0.0278\n",
      "Epoch 9/20\n",
      "20810/20810 [==============================] - 14s 666us/step - loss: 0.0273\n",
      "Epoch 10/20\n",
      "20810/20810 [==============================] - 14s 666us/step - loss: 0.0268\n",
      "Epoch 11/20\n",
      "20810/20810 [==============================] - 14s 665us/step - loss: 0.0263\n",
      "Epoch 12/20\n",
      "20810/20810 [==============================] - 14s 666us/step - loss: 0.0259\n",
      "Epoch 13/20\n",
      "20810/20810 [==============================] - 14s 667us/step - loss: 0.0256\n",
      "Epoch 14/20\n",
      "20810/20810 [==============================] - 14s 666us/step - loss: 0.0251\n",
      "Epoch 15/20\n",
      "20810/20810 [==============================] - 14s 669us/step - loss: 0.0252\n",
      "Epoch 16/20\n",
      "20810/20810 [==============================] - 14s 667us/step - loss: 0.0243\n",
      "Epoch 17/20\n",
      "20810/20810 [==============================] - 14s 668us/step - loss: 0.02430s - loss: 0.02 - ETA: 0s - lo\n",
      "Epoch 18/20\n",
      "20810/20810 [==============================] - 14s 667us/step - loss: 0.0246\n",
      "Epoch 19/20\n",
      "20810/20810 [==============================] - 14s 670us/step - loss: 0.0241A: \n",
      "Epoch 20/20\n",
      "20810/20810 [==============================] - 14s 668us/step - loss: 0.0236\n"
     ]
    }
   ],
   "source": [
    "logmass_pred = np.zeros(shape=Y.shape)\n",
    "\n",
    "for i in range(nfolds):\n",
    "    print('\\n~~~~~~~~~~ Fold %d ~~~~~~~~~~'%i)\n",
    "    # Augment training data by flipping along v_los axis\n",
    "    X_train, Y_train = data_manager.augment_flip(X = X[in_train & (fold != i)],\n",
    "                                                 Y = Y[in_train & (fold != i)])\n",
    "    \n",
    "    # Train model\n",
    "    _ = models[i].fit(X_train, Y_train)\n"
   ]
  },
  {
   "cell_type": "code",
   "execution_count": 10,
   "metadata": {
    "ExecuteTime": {
     "end_time": "2019-05-22T23:49:28.773534Z",
     "start_time": "2019-05-22T23:49:28.209105Z"
    }
   },
   "outputs": [
    {
     "data": {
      "text/plain": [
       "<matplotlib.legend.Legend at 0x2b46deeab908>"
      ]
     },
     "execution_count": 10,
     "metadata": {},
     "output_type": "execute_result"
    },
    {
     "data": {
      "image/png": "[encoded data removed]",
      "text/plain": [
       "<Figure size 360x360 with 1 Axes>"
      ]
     },
     "metadata": {},
     "output_type": "display_data"
    }
   ],
   "source": [
    "f = plt.figure(figsize=(5,5))\n",
    "\n",
    "plt.semilogy()\n",
    "for i in range(nfolds):\n",
    "    plt.plot(np.arange(epochs)+1, models[i].history.history['loss'], \n",
    "             linewidth=1, label='Fold %i'%i)\n",
    "\n",
    "plt.xticks(np.arange(epochs)+1)\n",
    "plt.xlabel('Epoch', fontsize=14)\n",
    "plt.ylabel('Loss', fontsize=14)\n",
    "plt.legend(ncol=2)"
   ]
  },
  {
   "cell_type": "markdown",
   "metadata": {},
   "source": [
    "## Evaluate models on test set"
   ]
  },
  {
   "cell_type": "code",
   "execution_count": 11,
   "metadata": {
    "ExecuteTime": {
     "end_time": "2019-05-22T23:49:52.540405Z",
     "start_time": "2019-05-22T23:49:28.775834Z"
    }
   },
   "outputs": [],
   "source": [
    "logmass_pred = np.zeros(shape=Y.shape)\n",
    "\n",
    "for i in range(10):\n",
    "    # Load test inputs\n",
    "    X_test = X[in_test & (fold == i)]\n",
    "    \n",
    "    # Predict on test inputs\n",
    "    Y_pred = models[i].predict(X_test)\n",
    "    \n",
    "    np.put(a=logmass_pred,\n",
    "           ind=np.where(in_test & (fold==i))[0],\n",
    "           v=data_manager.deregularize(Y_pred)\n",
    "          )"
   ]
  },
  {
   "cell_type": "code",
   "execution_count": 12,
   "metadata": {
    "ExecuteTime": {
     "end_time": "2019-05-22T23:49:53.010568Z",
     "start_time": "2019-05-22T23:49:52.542881Z"
    }
   },
   "outputs": [
    {
     "data": {
      "text/plain": [
       "Text(0,0.5,'$\\\\epsilon$')"
      ]
     },
     "execution_count": 12,
     "metadata": {},
     "output_type": "execute_result"
    },
    {
     "data": {
      "image/png": "[encoded data removed]",
      "text/plain": [
       "<Figure size 432x576 with 2 Axes>"
      ]
     },
     "metadata": {},
     "output_type": "display_data"
    }
   ],
   "source": [
    "f = plt.figure(figsize=(6,8))\n",
    "gs = mpl.gridspec.GridSpec(2,1,height_ratios=[3,1], hspace=0)\n",
    "\n",
    "ax1 = f.add_subplot(gs[0,0])\n",
    "\n",
    "ax1.plot(np.arange(13,16,0.1),np.arange(13,16,0.1),'k--')\n",
    "_ = binned_plot(data['logmass'][in_test], \n",
    "                logmass_pred[in_test], \n",
    "                n=20, percentiles=[35,45,50], \n",
    "                color='b', ax=ax1)\n",
    "\n",
    "ax1.set_xlim(14,15)\n",
    "ax1.set_ylim(13.5,15.5)\n",
    "ax1.set_xticks([])\n",
    "ax1.set_yticks(ax1.get_yticks()[1:])\n",
    "ax1.set_ylabel(r'$\\log_{10}\\left[M_\\mathrm{pred}\\ (M_\\odot h^{-1})\\right]$', fontsize=14)\n",
    "\n",
    "\n",
    "ax2 = f.add_subplot(gs[1,0])\n",
    "\n",
    "ax2.plot(np.arange(13,16,0.1),[0]*30,'k--')\n",
    "_ = binned_plot(data['logmass'][in_test], \n",
    "                logmass_pred[in_test] - data['logmass'][in_test], \n",
    "                n=20, percentiles=[35,45,50], \n",
    "                color='b', ax=ax2)\n",
    "ax2.set_xlim(14,15)\n",
    "ax2.set_ylim(-0.5,0.5)\n",
    "ax2.set_xlabel(r'$\\log_{10}\\left[M_\\mathrm{true}\\ (M_\\odot h^{-1})\\right]$', fontsize=14)\n",
    "ax2.set_ylabel(r'$\\epsilon$', fontsize=14)"
   ]
  },
  {
   "cell_type": "code",
   "execution_count": null,
   "metadata": {},
   "outputs": [],
   "source": []
  }
 ],
 "metadata": {
  "kernelspec": {
   "display_name": "Python 3",
   "language": "python",
   "name": "python3"
  },
  "language_info": {
   "codemirror_mode": {
    "name": "ipython",
    "version": 3
   },
   "file_extension": ".py",
   "mimetype": "text/x-python",
   "name": "python",
   "nbconvert_exporter": "python",
   "pygments_lexer": "ipython3",
   "version": "3.6.5"
  },
  "toc": {
   "base_numbering": 1,
   "nav_menu": {},
   "number_sections": true,
   "sideBar": true,
   "skip_h1_title": false,
   "title_cell": "Table of Contents",
   "title_sidebar": "Contents",
   "toc_cell": false,
   "toc_position": {},
   "toc_section_display": true,
   "toc_window_display": false
  }
 },
 "nbformat": 4,
 "nbformat_minor": 2
}
