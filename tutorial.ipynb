{
 "cells": [
  {
   "cell_type": "markdown",
   "metadata": {},
   "source": [
    "# halo_cnn tutorial\n",
    "\n",
    "This notebook provides a tutorial for creating a halo_cnn pipeline using the halo_cnn data and model module. \n",
    "\n",
    "In this tutorial, we'll make a data pipeline for the CNN$_{2D}$ model, which regresses $\\log_{10}\\left[M_{200c}\\right]$ over the space of joint $\\{v_{los}, R_{proj}\\}$ distributions. We'll use 10-fold cross-validation to train and evaluate 10 models on independent train and test datasets."
   ]
  },
  {
   "cell_type": "markdown",
   "metadata": {},
   "source": [
    "## Imports"
   ]
  },
  {
   "cell_type": "code",
   "execution_count": 1,
   "metadata": {
    "ExecuteTime": {
     "end_time": "2019-09-25T21:24:52.800820Z",
     "start_time": "2019-09-25T21:24:50.788858Z"
    }
   },
   "outputs": [
    {
     "name": "stderr",
     "output_type": "stream",
     "text": [
      "Using Theano backend.\n"
     ]
    }
   ],
   "source": [
    "import numpy as np\n",
    "import matplotlib as mpl\n",
    "import matplotlib.pyplot as plt\n",
    "\n",
    "import halo_cnn\n",
    "from halo_cnn.model import HaloCNNRegressor\n",
    "from halo_cnn.data import HaloCNNRegressManager\n",
    "\n",
    "from tools.plot_tools import binned_plot"
   ]
  },
  {
   "cell_type": "code",
   "execution_count": 2,
   "metadata": {
    "ExecuteTime": {
     "end_time": "2019-09-25T21:24:52.804893Z",
     "start_time": "2019-09-25T21:24:52.802592Z"
    }
   },
   "outputs": [],
   "source": [
    "# Global parameters\n",
    "nfolds = 10 # use 10-fold cross-validation\n",
    "epochs = 20 # train for 20 epochs"
   ]
  },
  {
   "cell_type": "markdown",
   "metadata": {},
   "source": [
    "## Load and Preprocess Data"
   ]
  },
  {
   "cell_type": "code",
   "execution_count": 3,
   "metadata": {
    "ExecuteTime": {
     "end_time": "2019-09-25T21:24:54.892131Z",
     "start_time": "2019-09-25T21:24:54.889013Z"
    }
   },
   "outputs": [],
   "source": [
    "data_manager = HaloCNNRegressManager(input_shape=(48,48),\n",
    "                                     bandwidth=0.25,\n",
    "                                     nfolds=nfolds,\n",
    "                                     val_split=0.1,\n",
    "                                     mass_range_train=(None, None), # full range of masses\n",
    "                                     mass_range_test=(10**14, 10**15),\n",
    "                                     dn_dlogm=10.**-5.2, dlogm=0.02\n",
    "                                    )"
   ]
  },
  {
   "cell_type": "code",
   "execution_count": 4,
   "metadata": {
    "ExecuteTime": {
     "end_time": "2019-09-25T21:25:00.736141Z",
     "start_time": "2019-09-25T21:24:56.333739Z"
    }
   },
   "outputs": [
    {
     "name": "stdout",
     "output_type": "stream",
     "text": [
      "Loading catalog from: /home/mho1/scratch/halo_cnn/data_mocks/Rockstar_UM_z=0.000_contam.p\n",
      "\n",
      "~~~~ Catalog Parameters ~~~~\n",
      "catalog_name : Rockstar_UM_z=0.000\n",
      "z : 0.0\n",
      "min_mass : 31622776601683.793\n",
      "min_richness : 10\n",
      "aperture : 1.6\n",
      "vcut : 2500.0\n",
      "cosmo : {'H_0': 100, 'Omega_m': 0.307115, 'Omega_l': 0.692885, 'c': 299792.458}\n"
     ]
    }
   ],
   "source": [
    "# Load catalogs\n",
    "catalog = data_manager.load_catalog('/home/mho1/scratch/halo_cnn/data_mocks/Rockstar_UM_z=0.000_contam.p')\n",
    "\n",
    "print('\\n~~~~ Catalog Parameters ~~~~')\n",
    "for key in catalog.par:\n",
    "    print(key,':',catalog.par[key])"
   ]
  },
  {
   "cell_type": "code",
   "execution_count": 5,
   "metadata": {
    "ExecuteTime": {
     "end_time": "2019-09-25T21:26:31.319112Z",
     "start_time": "2019-09-25T21:25:00.737676Z"
    },
    "scrolled": true
   },
   "outputs": [
    {
     "name": "stderr",
     "output_type": "stream",
     "text": [
      "100%|██████████| 64366/64366 [01:24<00:00, 758.10it/s] \n"
     ]
    }
   ],
   "source": [
    "# Preprocess data\n",
    "data = data_manager.preprocess(catalog, ['vlos','Rproj'], n_proc=10)"
   ]
  },
  {
   "cell_type": "code",
   "execution_count": 6,
   "metadata": {
    "ExecuteTime": {
     "end_time": "2019-09-25T21:26:31.326022Z",
     "start_time": "2019-09-25T21:26:31.321158Z"
    }
   },
   "outputs": [],
   "source": [
    "# Assign variables and regularize dataset\n",
    "X = data['pdf']\n",
    "Y = data_manager.regularize(data['logmass'])\n",
    "\n",
    "in_train = data['in_train']\n",
    "in_test = data['in_test']\n",
    "in_val = data['in_val']\n",
    "fold = data['fold']"
   ]
  },
  {
   "cell_type": "code",
   "execution_count": 15,
   "metadata": {
    "ExecuteTime": {
     "end_time": "2019-09-25T21:50:40.994894Z",
     "start_time": "2019-09-25T21:50:40.610746Z"
    }
   },
   "outputs": [
    {
     "data": {
      "text/plain": [
       "<matplotlib.legend.Legend at 0x2b1a58cd94a8>"
      ]
     },
     "execution_count": 15,
     "metadata": {},
     "output_type": "execute_result"
    },
    {
     "data": {
      "image/png": "[encoded data removed]",
      "text/plain": [
       "<Figure size 432x288 with 1 Axes>"
      ]
     },
     "metadata": {
      "needs_background": "light"
     },
     "output_type": "display_data"
    }
   ],
   "source": [
    "# Plot mass distribution of train and test sets\n",
    "\n",
    "plt.semilogy()\n",
    "\n",
    "plt.hist(data['logmass'][in_train], \n",
    "         density=True, bins=20, histtype='step', label='in_train')\n",
    "plt.hist(data['logmass'][in_test], \n",
    "         density=True, bins=20, histtype='step', label='in_test')\n",
    "plt.hist(data['logmass'][in_val], \n",
    "         density=True, bins=20, histtype='step', label='in_val')\n",
    "\n",
    "plt.xlabel(r'$\\log_{10}\\left[M_{200c}\\ (h^{-1}M_\\odot)\\right]$', fontsize=12)\n",
    "plt.ylabel('PDF')\n",
    "plt.legend()"
   ]
  },
  {
   "cell_type": "markdown",
   "metadata": {},
   "source": [
    "## Initialize and Train Models"
   ]
  },
  {
   "cell_type": "code",
   "execution_count": 8,
   "metadata": {
    "ExecuteTime": {
     "end_time": "2019-09-25T21:26:39.074452Z",
     "start_time": "2019-09-25T21:26:31.863004Z"
    }
   },
   "outputs": [],
   "source": [
    "# Initialize models for each fold\n",
    "models = [HaloCNNRegressor(input_shape=(48,48), epochs=epochs) for i in range(10)]"
   ]
  },
  {
   "cell_type": "code",
   "execution_count": 9,
   "metadata": {
    "ExecuteTime": {
     "end_time": "2019-09-25T21:47:23.276952Z",
     "start_time": "2019-09-25T21:26:39.076053Z"
    },
    "scrolled": true
   },
   "outputs": [
    {
     "name": "stdout",
     "output_type": "stream",
     "text": [
      "\n",
      "~~~~~~~~~~ Fold 0 ~~~~~~~~~~\n",
      "Train on 20578 samples, validate on 585 samples\n",
      "Epoch 1/20\n",
      "20578/20578 [==============================] - 6s 281us/step - loss: 0.0950 - val_loss: 0.0386\n",
      "Epoch 2/20\n",
      "20578/20578 [==============================] - 6s 288us/step - loss: 0.0515 - val_loss: 0.0343\n",
      "Epoch 3/20\n",
      "20578/20578 [==============================] - 6s 296us/step - loss: 0.0389 - val_loss: 0.0244\n",
      "Epoch 4/20\n",
      "20578/20578 [==============================] - 6s 293us/step - loss: 0.0350 - val_loss: 0.0296\n",
      "Epoch 5/20\n",
      "20578/20578 [==============================] - 6s 294us/step - loss: 0.0321 - val_loss: 0.0241\n",
      "Epoch 6/20\n",
      "20578/20578 [==============================] - 6s 296us/step - loss: 0.0306 - val_loss: 0.0276\n",
      "Epoch 7/20\n",
      "20578/20578 [==============================] - 6s 296us/step - loss: 0.0298 - val_loss: 0.0234\n",
      "Epoch 8/20\n",
      "20578/20578 [==============================] - 6s 295us/step - loss: 0.0286 - val_loss: 0.0271\n",
      "Epoch 9/20\n",
      "20578/20578 [==============================] - 6s 297us/step - loss: 0.0283 - val_loss: 0.0209\n",
      "Epoch 10/20\n",
      "20578/20578 [==============================] - 6s 298us/step - loss: 0.0276 - val_loss: 0.0288\n",
      "Epoch 11/20\n",
      "20578/20578 [==============================] - 6s 299us/step - loss: 0.0267 - val_loss: 0.0208\n",
      "Epoch 12/20\n",
      "20578/20578 [==============================] - 6s 300us/step - loss: 0.0266 - val_loss: 0.0251\n",
      "Epoch 13/20\n",
      "20578/20578 [==============================] - 6s 301us/step - loss: 0.0259 - val_loss: 0.0226\n",
      "Epoch 14/20\n",
      "20578/20578 [==============================] - 6s 300us/step - loss: 0.0253 - val_loss: 0.0252\n",
      "Epoch 15/20\n",
      "20578/20578 [==============================] - 6s 300us/step - loss: 0.0258 - val_loss: 0.0223\n",
      "Epoch 16/20\n",
      "20578/20578 [==============================] - 6s 300us/step - loss: 0.0248 - val_loss: 0.0235\n",
      "Epoch 17/20\n",
      "20578/20578 [==============================] - 6s 300us/step - loss: 0.0247 - val_loss: 0.0271\n",
      "Epoch 18/20\n",
      "20578/20578 [==============================] - 6s 299us/step - loss: 0.0248 - val_loss: 0.0257\n",
      "Epoch 19/20\n",
      "20578/20578 [==============================] - 6s 299us/step - loss: 0.0245 - val_loss: 0.0223\n",
      "Epoch 20/20\n",
      "20578/20578 [==============================] - 6s 300us/step - loss: 0.0242 - val_loss: 0.0266\n",
      "\n",
      "~~~~~~~~~~ Fold 1 ~~~~~~~~~~\n",
      "Train on 20494 samples, validate on 576 samples\n",
      "Epoch 1/20\n",
      "20494/20494 [==============================] - 6s 269us/step - loss: 0.1044 - val_loss: 0.0330\n",
      "Epoch 2/20\n",
      "20494/20494 [==============================] - 6s 286us/step - loss: 0.0412 - val_loss: 0.0241\n",
      "Epoch 3/20\n",
      "20494/20494 [==============================] - 6s 298us/step - loss: 0.0361 - val_loss: 0.0243\n",
      "Epoch 4/20\n",
      "20494/20494 [==============================] - 6s 299us/step - loss: 0.0335 - val_loss: 0.0295\n",
      "Epoch 5/20\n",
      "20494/20494 [==============================] - 6s 299us/step - loss: 0.0316 - val_loss: 0.0223\n",
      "Epoch 6/20\n",
      "20494/20494 [==============================] - 6s 300us/step - loss: 0.0302 - val_loss: 0.0281\n",
      "Epoch 7/20\n",
      "20494/20494 [==============================] - 6s 302us/step - loss: 0.0283 - val_loss: 0.0219\n",
      "Epoch 8/20\n",
      "20494/20494 [==============================] - 6s 302us/step - loss: 0.0276 - val_loss: 0.0252\n",
      "Epoch 9/20\n",
      "20494/20494 [==============================] - 6s 302us/step - loss: 0.0270 - val_loss: 0.0254\n",
      "Epoch 10/20\n",
      "20494/20494 [==============================] - 6s 302us/step - loss: 0.0269 - val_loss: 0.0227\n",
      "Epoch 11/20\n",
      "20494/20494 [==============================] - 6s 302us/step - loss: 0.0261 - val_loss: 0.0285\n",
      "Epoch 12/20\n",
      "20494/20494 [==============================] - 6s 303us/step - loss: 0.0258 - val_loss: 0.0294\n",
      "Epoch 13/20\n",
      "20494/20494 [==============================] - 6s 303us/step - loss: 0.0257 - val_loss: 0.0246\n",
      "Epoch 14/20\n",
      "20494/20494 [==============================] - 6s 303us/step - loss: 0.0254 - val_loss: 0.0216\n",
      "Epoch 15/20\n",
      "20494/20494 [==============================] - 6s 302us/step - loss: 0.0252 - val_loss: 0.0238\n",
      "Epoch 16/20\n",
      "20494/20494 [==============================] - 6s 302us/step - loss: 0.0255 - val_loss: 0.0247\n",
      "Epoch 17/20\n",
      "20494/20494 [==============================] - 6s 302us/step - loss: 0.0250 - val_loss: 0.0218\n",
      "Epoch 18/20\n",
      "20494/20494 [==============================] - 6s 303us/step - loss: 0.0246 - val_loss: 0.0217\n",
      "Epoch 19/20\n",
      "20494/20494 [==============================] - 6s 303us/step - loss: 0.0248 - val_loss: 0.0234\n",
      "Epoch 20/20\n",
      "20494/20494 [==============================] - 6s 302us/step - loss: 0.0243 - val_loss: 0.0180\n",
      "\n",
      "~~~~~~~~~~ Fold 2 ~~~~~~~~~~\n",
      "Train on 20474 samples, validate on 552 samples\n",
      "Epoch 1/20\n",
      "20474/20474 [==============================] - 5s 267us/step - loss: 0.1014 - val_loss: 0.0271\n",
      "Epoch 2/20\n",
      "20474/20474 [==============================] - 6s 272us/step - loss: 0.0367 - val_loss: 0.0284\n",
      "Epoch 3/20\n",
      "20474/20474 [==============================] - 6s 288us/step - loss: 0.0321 - val_loss: 0.0396\n",
      "Epoch 4/20\n",
      "20474/20474 [==============================] - 6s 289us/step - loss: 0.0308 - val_loss: 0.0401\n",
      "Epoch 5/20\n",
      "20474/20474 [==============================] - 6s 289us/step - loss: 0.0295 - val_loss: 0.0362\n",
      "Epoch 6/20\n",
      "20474/20474 [==============================] - 6s 291us/step - loss: 0.0292 - val_loss: 0.0318\n",
      "Epoch 7/20\n",
      "20474/20474 [==============================] - 6s 291us/step - loss: 0.0288 - val_loss: 0.0281\n",
      "Epoch 8/20\n",
      "20474/20474 [==============================] - 6s 290us/step - loss: 0.0278 - val_loss: 0.0291\n",
      "Epoch 9/20\n",
      "20474/20474 [==============================] - 6s 289us/step - loss: 0.0278 - val_loss: 0.0261\n",
      "Epoch 10/20\n",
      "20474/20474 [==============================] - 6s 291us/step - loss: 0.0272 - val_loss: 0.0267\n",
      "Epoch 11/20\n",
      "20474/20474 [==============================] - 6s 290us/step - loss: 0.0267 - val_loss: 0.0289\n",
      "Epoch 12/20\n",
      "20474/20474 [==============================] - 6s 292us/step - loss: 0.0267 - val_loss: 0.0309\n",
      "Epoch 13/20\n",
      "20474/20474 [==============================] - 6s 294us/step - loss: 0.0265 - val_loss: 0.0294\n",
      "Epoch 14/20\n",
      "20474/20474 [==============================] - 6s 292us/step - loss: 0.0261 - val_loss: 0.0296\n",
      "Epoch 15/20\n",
      "20474/20474 [==============================] - 6s 292us/step - loss: 0.0263 - val_loss: 0.0282\n",
      "Epoch 16/20\n",
      "20474/20474 [==============================] - 6s 293us/step - loss: 0.0256 - val_loss: 0.0320\n",
      "Epoch 17/20\n",
      "20474/20474 [==============================] - 6s 292us/step - loss: 0.0257 - val_loss: 0.0352\n",
      "Epoch 18/20\n",
      "20474/20474 [==============================] - 6s 293us/step - loss: 0.0247 - val_loss: 0.0322\n",
      "Epoch 19/20\n",
      "20474/20474 [==============================] - 6s 292us/step - loss: 0.0246 - val_loss: 0.0280\n",
      "Epoch 20/20\n",
      "20474/20474 [==============================] - 6s 293us/step - loss: 0.0243 - val_loss: 0.0370\n",
      "\n",
      "~~~~~~~~~~ Fold 3 ~~~~~~~~~~\n",
      "Train on 20318 samples, validate on 561 samples\n",
      "Epoch 1/20\n",
      "20318/20318 [==============================] - 6s 273us/step - loss: 0.1133 - val_loss: 0.0432\n",
      "Epoch 2/20\n",
      "20318/20318 [==============================] - 6s 283us/step - loss: 0.0471 - val_loss: 0.0406\n",
      "Epoch 3/20\n",
      "20318/20318 [==============================] - 6s 292us/step - loss: 0.0391 - val_loss: 0.0357\n",
      "Epoch 4/20\n",
      "20318/20318 [==============================] - 6s 307us/step - loss: 0.0375 - val_loss: 0.0329\n",
      "Epoch 5/20\n",
      "20318/20318 [==============================] - 6s 306us/step - loss: 0.0355 - val_loss: 0.0361\n",
      "Epoch 6/20\n",
      "20318/20318 [==============================] - 6s 305us/step - loss: 0.0348 - val_loss: 0.0321\n",
      "Epoch 7/20\n",
      "20318/20318 [==============================] - 6s 305us/step - loss: 0.0335 - val_loss: 0.0564\n",
      "Epoch 8/20\n",
      "20318/20318 [==============================] - 6s 302us/step - loss: 0.0328 - val_loss: 0.0283\n",
      "Epoch 9/20\n",
      "20318/20318 [==============================] - 6s 304us/step - loss: 0.0310 - val_loss: 0.0302\n",
      "Epoch 10/20\n",
      "20318/20318 [==============================] - 6s 305us/step - loss: 0.0300 - val_loss: 0.0325\n",
      "Epoch 11/20\n",
      "20318/20318 [==============================] - 6s 305us/step - loss: 0.0291 - val_loss: 0.0370\n",
      "Epoch 12/20\n",
      "20318/20318 [==============================] - 6s 307us/step - loss: 0.0286 - val_loss: 0.0378\n",
      "Epoch 13/20\n",
      "20318/20318 [==============================] - 6s 307us/step - loss: 0.0276 - val_loss: 0.0295\n",
      "Epoch 14/20\n",
      "20318/20318 [==============================] - 6s 305us/step - loss: 0.0271 - val_loss: 0.0294\n"
     ]
    },
    {
     "name": "stdout",
     "output_type": "stream",
     "text": [
      "Epoch 15/20\n",
      "20318/20318 [==============================] - 6s 307us/step - loss: 0.0260 - val_loss: 0.0302\n",
      "Epoch 16/20\n",
      "20318/20318 [==============================] - 6s 308us/step - loss: 0.0270 - val_loss: 0.0300\n",
      "Epoch 17/20\n",
      "20318/20318 [==============================] - 6s 306us/step - loss: 0.0262 - val_loss: 0.0304\n",
      "Epoch 18/20\n",
      "20318/20318 [==============================] - 6s 307us/step - loss: 0.0258 - val_loss: 0.0250\n",
      "Epoch 19/20\n",
      "20318/20318 [==============================] - 6s 307us/step - loss: 0.0255 - val_loss: 0.0318\n",
      "Epoch 20/20\n",
      "20318/20318 [==============================] - 6s 307us/step - loss: 0.0250 - val_loss: 0.0284\n",
      "\n",
      "~~~~~~~~~~ Fold 4 ~~~~~~~~~~\n",
      "Train on 20486 samples, validate on 537 samples\n",
      "Epoch 1/20\n",
      "20486/20486 [==============================] - 5s 266us/step - loss: 0.0948 - val_loss: 0.0304\n",
      "Epoch 2/20\n",
      "20486/20486 [==============================] - 6s 284us/step - loss: 0.0391 - val_loss: 0.0275\n",
      "Epoch 3/20\n",
      "20486/20486 [==============================] - 6s 299us/step - loss: 0.0341 - val_loss: 0.0241\n",
      "Epoch 4/20\n",
      "20486/20486 [==============================] - 6s 299us/step - loss: 0.0328 - val_loss: 0.0290\n",
      "Epoch 5/20\n",
      "20486/20486 [==============================] - 6s 295us/step - loss: 0.0315 - val_loss: 0.0273\n",
      "Epoch 6/20\n",
      "20486/20486 [==============================] - 6s 301us/step - loss: 0.0312 - val_loss: 0.0298\n",
      "Epoch 7/20\n",
      "20486/20486 [==============================] - 6s 304us/step - loss: 0.0304 - val_loss: 0.0259\n",
      "Epoch 8/20\n",
      "20486/20486 [==============================] - 6s 305us/step - loss: 0.0303 - val_loss: 0.0283\n",
      "Epoch 9/20\n",
      "20486/20486 [==============================] - 6s 306us/step - loss: 0.0291 - val_loss: 0.0277\n",
      "Epoch 10/20\n",
      "20486/20486 [==============================] - 6s 306us/step - loss: 0.0294 - val_loss: 0.0279\n",
      "Epoch 11/20\n",
      "20486/20486 [==============================] - 6s 307us/step - loss: 0.0284 - val_loss: 0.0205\n",
      "Epoch 12/20\n",
      "20486/20486 [==============================] - 6s 307us/step - loss: 0.0276 - val_loss: 0.0268\n",
      "Epoch 13/20\n",
      "20486/20486 [==============================] - 6s 308us/step - loss: 0.0272 - val_loss: 0.0201\n",
      "Epoch 14/20\n",
      "20486/20486 [==============================] - 6s 308us/step - loss: 0.0270 - val_loss: 0.0230\n",
      "Epoch 15/20\n",
      "20486/20486 [==============================] - 6s 307us/step - loss: 0.0266 - val_loss: 0.0238\n",
      "Epoch 16/20\n",
      "20486/20486 [==============================] - 6s 307us/step - loss: 0.0259 - val_loss: 0.0270\n",
      "Epoch 17/20\n",
      "20486/20486 [==============================] - 6s 306us/step - loss: 0.0260 - val_loss: 0.0274\n",
      "Epoch 18/20\n",
      "20486/20486 [==============================] - 6s 307us/step - loss: 0.0256 - val_loss: 0.0240\n",
      "Epoch 19/20\n",
      "20486/20486 [==============================] - 6s 307us/step - loss: 0.0264 - val_loss: 0.0237\n",
      "Epoch 20/20\n",
      "20486/20486 [==============================] - 6s 308us/step - loss: 0.0254 - val_loss: 0.0236\n",
      "\n",
      "~~~~~~~~~~ Fold 5 ~~~~~~~~~~\n",
      "Train on 20482 samples, validate on 573 samples\n",
      "Epoch 1/20\n",
      "20482/20482 [==============================] - 6s 277us/step - loss: 0.0884 - val_loss: 0.0432\n",
      "Epoch 2/20\n",
      "20482/20482 [==============================] - 6s 291us/step - loss: 0.0392 - val_loss: 0.0305\n",
      "Epoch 3/20\n",
      "20482/20482 [==============================] - 6s 297us/step - loss: 0.0350 - val_loss: 0.0284\n",
      "Epoch 4/20\n",
      "20482/20482 [==============================] - 6s 302us/step - loss: 0.0315 - val_loss: 0.0247\n",
      "Epoch 5/20\n",
      "20482/20482 [==============================] - 6s 310us/step - loss: 0.0299 - val_loss: 0.0294\n",
      "Epoch 6/20\n",
      "20482/20482 [==============================] - 6s 310us/step - loss: 0.0283 - val_loss: 0.0296\n",
      "Epoch 7/20\n",
      "20482/20482 [==============================] - 6s 311us/step - loss: 0.0274 - val_loss: 0.0256\n",
      "Epoch 8/20\n",
      "20482/20482 [==============================] - 6s 311us/step - loss: 0.0273 - val_loss: 0.0283\n",
      "Epoch 9/20\n",
      "20482/20482 [==============================] - 6s 312us/step - loss: 0.0264 - val_loss: 0.0306\n",
      "Epoch 10/20\n",
      "20482/20482 [==============================] - 6s 313us/step - loss: 0.0262 - val_loss: 0.0256\n",
      "Epoch 11/20\n",
      "20482/20482 [==============================] - 6s 313us/step - loss: 0.0257 - val_loss: 0.0276\n",
      "Epoch 12/20\n",
      "20482/20482 [==============================] - 6s 313us/step - loss: 0.0257 - val_loss: 0.0240\n",
      "Epoch 13/20\n",
      "20482/20482 [==============================] - 6s 313us/step - loss: 0.0259 - val_loss: 0.0215\n",
      "Epoch 14/20\n",
      "20482/20482 [==============================] - 6s 312us/step - loss: 0.0251 - val_loss: 0.0208\n",
      "Epoch 15/20\n",
      "20482/20482 [==============================] - 6s 313us/step - loss: 0.0253 - val_loss: 0.0313\n",
      "Epoch 16/20\n",
      "20482/20482 [==============================] - 6s 313us/step - loss: 0.0249 - val_loss: 0.0232\n",
      "Epoch 17/20\n",
      "20482/20482 [==============================] - 6s 312us/step - loss: 0.0245 - val_loss: 0.0268\n",
      "Epoch 18/20\n",
      "20482/20482 [==============================] - 6s 312us/step - loss: 0.0248 - val_loss: 0.0258\n",
      "Epoch 19/20\n",
      "20482/20482 [==============================] - 6s 313us/step - loss: 0.0244 - val_loss: 0.0322\n",
      "Epoch 20/20\n",
      "20482/20482 [==============================] - 6s 312us/step - loss: 0.0242 - val_loss: 0.0234\n",
      "\n",
      "~~~~~~~~~~ Fold 6 ~~~~~~~~~~\n",
      "Train on 20296 samples, validate on 597 samples\n",
      "Epoch 1/20\n",
      "20296/20296 [==============================] - 5s 260us/step - loss: 0.1103 - val_loss: 0.0534\n",
      "Epoch 2/20\n",
      "20296/20296 [==============================] - 6s 282us/step - loss: 0.0482 - val_loss: 0.0359\n",
      "Epoch 3/20\n",
      "20296/20296 [==============================] - 6s 294us/step - loss: 0.0404 - val_loss: 0.0316\n",
      "Epoch 4/20\n",
      "20296/20296 [==============================] - 6s 296us/step - loss: 0.0371 - val_loss: 0.0313\n",
      "Epoch 5/20\n",
      "20296/20296 [==============================] - 6s 300us/step - loss: 0.0359 - val_loss: 0.0331\n",
      "Epoch 6/20\n",
      "20296/20296 [==============================] - 6s 300us/step - loss: 0.0346 - val_loss: 0.0396\n",
      "Epoch 7/20\n",
      "20296/20296 [==============================] - 6s 300us/step - loss: 0.0328 - val_loss: 0.0308\n",
      "Epoch 8/20\n",
      "20296/20296 [==============================] - 6s 300us/step - loss: 0.0331 - val_loss: 0.0306\n",
      "Epoch 9/20\n",
      "20296/20296 [==============================] - 6s 301us/step - loss: 0.0315 - val_loss: 0.0294\n",
      "Epoch 10/20\n",
      "20296/20296 [==============================] - 6s 300us/step - loss: 0.0311 - val_loss: 0.0362\n",
      "Epoch 11/20\n",
      "20296/20296 [==============================] - 6s 300us/step - loss: 0.0307 - val_loss: 0.0304\n",
      "Epoch 12/20\n",
      "20296/20296 [==============================] - 6s 300us/step - loss: 0.0298 - val_loss: 0.0257\n",
      "Epoch 13/20\n",
      "20296/20296 [==============================] - 6s 300us/step - loss: 0.0292 - val_loss: 0.0254\n",
      "Epoch 14/20\n",
      "20296/20296 [==============================] - 6s 300us/step - loss: 0.0282 - val_loss: 0.0296\n",
      "Epoch 15/20\n",
      "20296/20296 [==============================] - 6s 301us/step - loss: 0.0281 - val_loss: 0.0256\n",
      "Epoch 16/20\n",
      "20296/20296 [==============================] - 6s 301us/step - loss: 0.0276 - val_loss: 0.0326\n",
      "Epoch 17/20\n",
      "20296/20296 [==============================] - 6s 301us/step - loss: 0.0267 - val_loss: 0.0370\n",
      "Epoch 18/20\n",
      "20296/20296 [==============================] - 6s 302us/step - loss: 0.0272 - val_loss: 0.0233\n",
      "Epoch 19/20\n",
      "20296/20296 [==============================] - 6s 302us/step - loss: 0.0270 - val_loss: 0.0243\n",
      "Epoch 20/20\n",
      "20296/20296 [==============================] - 6s 302us/step - loss: 0.0261 - val_loss: 0.0271\n",
      "\n",
      "~~~~~~~~~~ Fold 7 ~~~~~~~~~~\n",
      "Train on 20468 samples, validate on 618 samples\n",
      "Epoch 1/20\n",
      "20468/20468 [==============================] - 5s 268us/step - loss: 0.0935 - val_loss: 0.0381\n",
      "Epoch 2/20\n",
      "20468/20468 [==============================] - 6s 281us/step - loss: 0.0390 - val_loss: 0.0339\n",
      "Epoch 3/20\n",
      "20468/20468 [==============================] - 6s 294us/step - loss: 0.0330 - val_loss: 0.0319\n",
      "Epoch 4/20\n",
      "20468/20468 [==============================] - 6s 298us/step - loss: 0.0308 - val_loss: 0.0318\n",
      "Epoch 5/20\n",
      "20468/20468 [==============================] - 6s 300us/step - loss: 0.0289 - val_loss: 0.0322\n",
      "Epoch 6/20\n",
      "20468/20468 [==============================] - 6s 299us/step - loss: 0.0279 - val_loss: 0.0322\n",
      "Epoch 7/20\n",
      "20468/20468 [==============================] - 6s 300us/step - loss: 0.0270 - val_loss: 0.0296\n",
      "Epoch 8/20\n",
      "20468/20468 [==============================] - 6s 300us/step - loss: 0.0270 - val_loss: 0.0401\n"
     ]
    },
    {
     "name": "stdout",
     "output_type": "stream",
     "text": [
      "Epoch 9/20\n",
      "20468/20468 [==============================] - 6s 301us/step - loss: 0.0266 - val_loss: 0.0318\n",
      "Epoch 10/20\n",
      "20468/20468 [==============================] - 6s 297us/step - loss: 0.0258 - val_loss: 0.0298\n",
      "Epoch 11/20\n",
      "20468/20468 [==============================] - 6s 295us/step - loss: 0.0250 - val_loss: 0.0289\n",
      "Epoch 12/20\n",
      "20468/20468 [==============================] - 6s 296us/step - loss: 0.0251 - val_loss: 0.0317\n",
      "Epoch 13/20\n",
      "20468/20468 [==============================] - 6s 295us/step - loss: 0.0245 - val_loss: 0.0353\n",
      "Epoch 14/20\n",
      "20468/20468 [==============================] - 6s 297us/step - loss: 0.0244 - val_loss: 0.0267\n",
      "Epoch 15/20\n",
      "20468/20468 [==============================] - 6s 296us/step - loss: 0.0241 - val_loss: 0.0282\n",
      "Epoch 16/20\n",
      "20468/20468 [==============================] - 6s 298us/step - loss: 0.0245 - val_loss: 0.0256\n",
      "Epoch 17/20\n",
      "20468/20468 [==============================] - 6s 297us/step - loss: 0.0237 - val_loss: 0.0264\n",
      "Epoch 18/20\n",
      "20468/20468 [==============================] - 6s 298us/step - loss: 0.0237 - val_loss: 0.0284\n",
      "Epoch 19/20\n",
      "20468/20468 [==============================] - 6s 298us/step - loss: 0.0234 - val_loss: 0.0275\n",
      "Epoch 20/20\n",
      "20468/20468 [==============================] - 6s 299us/step - loss: 0.0232 - val_loss: 0.0308\n",
      "\n",
      "~~~~~~~~~~ Fold 8 ~~~~~~~~~~\n",
      "Train on 20484 samples, validate on 636 samples\n",
      "Epoch 1/20\n",
      "20484/20484 [==============================] - 6s 278us/step - loss: 0.0956 - val_loss: 0.0458\n",
      "Epoch 2/20\n",
      "20484/20484 [==============================] - 6s 290us/step - loss: 0.0408 - val_loss: 0.0274\n",
      "Epoch 3/20\n",
      "20484/20484 [==============================] - 6s 306us/step - loss: 0.0362 - val_loss: 0.0298\n",
      "Epoch 4/20\n",
      "20484/20484 [==============================] - 6s 306us/step - loss: 0.0347 - val_loss: 0.0225\n",
      "Epoch 5/20\n",
      "20484/20484 [==============================] - 6s 306us/step - loss: 0.0318 - val_loss: 0.0288\n",
      "Epoch 6/20\n",
      "20484/20484 [==============================] - 6s 306us/step - loss: 0.0313 - val_loss: 0.0307\n",
      "Epoch 7/20\n",
      "20484/20484 [==============================] - 6s 307us/step - loss: 0.0295 - val_loss: 0.0249\n",
      "Epoch 8/20\n",
      "20484/20484 [==============================] - 6s 305us/step - loss: 0.0282 - val_loss: 0.0369\n",
      "Epoch 9/20\n",
      "20484/20484 [==============================] - 6s 306us/step - loss: 0.0276 - val_loss: 0.0359\n",
      "Epoch 10/20\n",
      "20484/20484 [==============================] - 6s 305us/step - loss: 0.0274 - val_loss: 0.0292\n",
      "Epoch 11/20\n",
      "20484/20484 [==============================] - 6s 304us/step - loss: 0.0270 - val_loss: 0.0270\n",
      "Epoch 12/20\n",
      "20484/20484 [==============================] - 6s 306us/step - loss: 0.0260 - val_loss: 0.0284\n",
      "Epoch 13/20\n",
      "20484/20484 [==============================] - 6s 305us/step - loss: 0.0259 - val_loss: 0.0289\n",
      "Epoch 14/20\n",
      "20484/20484 [==============================] - 6s 305us/step - loss: 0.0258 - val_loss: 0.0306\n",
      "Epoch 15/20\n",
      "20484/20484 [==============================] - 6s 305us/step - loss: 0.0261 - val_loss: 0.0240\n",
      "Epoch 16/20\n",
      "20484/20484 [==============================] - 6s 305us/step - loss: 0.0251 - val_loss: 0.0239\n",
      "Epoch 17/20\n",
      "20484/20484 [==============================] - 6s 306us/step - loss: 0.0251 - val_loss: 0.0243\n",
      "Epoch 18/20\n",
      "20484/20484 [==============================] - 6s 305us/step - loss: 0.0249 - val_loss: 0.0216\n",
      "Epoch 19/20\n",
      "20484/20484 [==============================] - 6s 305us/step - loss: 0.0248 - val_loss: 0.0269\n",
      "Epoch 20/20\n",
      "20484/20484 [==============================] - 6s 305us/step - loss: 0.0243 - val_loss: 0.0257\n",
      "\n",
      "~~~~~~~~~~ Fold 9 ~~~~~~~~~~\n",
      "Train on 20526 samples, validate on 606 samples\n",
      "Epoch 1/20\n",
      "20526/20526 [==============================] - 6s 278us/step - loss: 0.0835 - val_loss: 0.0356\n",
      "Epoch 2/20\n",
      "20526/20526 [==============================] - 6s 277us/step - loss: 0.0441 - val_loss: 0.0300\n",
      "Epoch 3/20\n",
      "20526/20526 [==============================] - 6s 286us/step - loss: 0.0365 - val_loss: 0.0241\n",
      "Epoch 4/20\n",
      "20526/20526 [==============================] - 6s 293us/step - loss: 0.0337 - val_loss: 0.0286\n",
      "Epoch 5/20\n",
      "20526/20526 [==============================] - 6s 289us/step - loss: 0.0337 - val_loss: 0.0272\n",
      "Epoch 6/20\n",
      "20526/20526 [==============================] - 6s 291us/step - loss: 0.0317 - val_loss: 0.0226\n",
      "Epoch 7/20\n",
      "20526/20526 [==============================] - 6s 291us/step - loss: 0.0310 - val_loss: 0.0225\n",
      "Epoch 8/20\n",
      "20526/20526 [==============================] - 6s 291us/step - loss: 0.0301 - val_loss: 0.0365\n",
      "Epoch 9/20\n",
      "20526/20526 [==============================] - 6s 288us/step - loss: 0.0306 - val_loss: 0.0266\n",
      "Epoch 10/20\n",
      "20526/20526 [==============================] - 6s 288us/step - loss: 0.0299 - val_loss: 0.0262\n",
      "Epoch 11/20\n",
      "20526/20526 [==============================] - 6s 287us/step - loss: 0.0293 - val_loss: 0.0237\n",
      "Epoch 12/20\n",
      "20526/20526 [==============================] - 6s 287us/step - loss: 0.0294 - val_loss: 0.0217\n",
      "Epoch 13/20\n",
      "20526/20526 [==============================] - 6s 288us/step - loss: 0.0293 - val_loss: 0.0236\n",
      "Epoch 14/20\n",
      "20526/20526 [==============================] - 6s 287us/step - loss: 0.0281 - val_loss: 0.0266\n",
      "Epoch 15/20\n",
      "20526/20526 [==============================] - 6s 284us/step - loss: 0.0287 - val_loss: 0.0234\n",
      "Epoch 16/20\n",
      "20526/20526 [==============================] - 6s 285us/step - loss: 0.0286 - val_loss: 0.0219\n",
      "Epoch 17/20\n",
      "20526/20526 [==============================] - 6s 284us/step - loss: 0.0275 - val_loss: 0.0244\n",
      "Epoch 18/20\n",
      "20526/20526 [==============================] - 6s 285us/step - loss: 0.0275 - val_loss: 0.0288\n",
      "Epoch 19/20\n",
      "20526/20526 [==============================] - 6s 285us/step - loss: 0.0274 - val_loss: 0.0277\n",
      "Epoch 20/20\n",
      "20526/20526 [==============================] - 6s 284us/step - loss: 0.0272 - val_loss: 0.0283\n"
     ]
    }
   ],
   "source": [
    "logmass_pred = np.zeros(shape=Y.shape)\n",
    "\n",
    "for i in range(nfolds):\n",
    "    print('\\n~~~~~~~~~~ Fold %d ~~~~~~~~~~'%i)\n",
    "    # Augment training data by flipping along v_los axis\n",
    "    X_train, Y_train = data_manager.augment_flip(X = X[in_train & (fold != i)],\n",
    "                                                 Y = Y[in_train & (fold != i)])\n",
    "    X_val, Y_val = X[in_val & (fold == i)], Y[in_val & (fold == i)]\n",
    "    \n",
    "    # Train model\n",
    "    _ = models[i].fit(X_train, Y_train, x_val=X_val, y_val=Y_val, verbose=1)\n"
   ]
  },
  {
   "cell_type": "code",
   "execution_count": 10,
   "metadata": {
    "ExecuteTime": {
     "end_time": "2019-09-25T21:47:23.726975Z",
     "start_time": "2019-09-25T21:47:23.278541Z"
    }
   },
   "outputs": [
    {
     "data": {
      "text/plain": [
       "<matplotlib.legend.Legend at 0x2b1a1b0b77f0>"
      ]
     },
     "execution_count": 10,
     "metadata": {},
     "output_type": "execute_result"
    },
    {
     "data": {
      "image/png": "[encoded data removed]",
      "text/plain": [
       "<Figure size 360x360 with 1 Axes>"
      ]
     },
     "metadata": {
      "needs_background": "light"
     },
     "output_type": "display_data"
    }
   ],
   "source": [
    "f = plt.figure(figsize=(5,5))\n",
    "\n",
    "plt.semilogy()\n",
    "for i in range(nfolds):\n",
    "    plt.plot(np.arange(epochs)+1, models[i].history.history['loss'], \n",
    "             linewidth=1, label='Fold %i'%i)\n",
    "\n",
    "plt.xticks(np.arange(epochs)+1)\n",
    "plt.xlabel('Epoch', fontsize=14)\n",
    "plt.ylabel('Loss', fontsize=14)\n",
    "plt.legend(ncol=2)"
   ]
  },
  {
   "cell_type": "code",
   "execution_count": 11,
   "metadata": {
    "ExecuteTime": {
     "end_time": "2019-09-25T21:47:24.123915Z",
     "start_time": "2019-09-25T21:47:23.728733Z"
    }
   },
   "outputs": [
    {
     "data": {
      "text/plain": [
       "<matplotlib.legend.Legend at 0x2b1a1b1da1d0>"
      ]
     },
     "execution_count": 11,
     "metadata": {},
     "output_type": "execute_result"
    },
    {
     "data": {
      "image/png": "[encoded data removed]",
      "text/plain": [
       "<Figure size 360x360 with 1 Axes>"
      ]
     },
     "metadata": {
      "needs_background": "light"
     },
     "output_type": "display_data"
    }
   ],
   "source": [
    "f = plt.figure(figsize=(5,5))\n",
    "\n",
    "i = 0\n",
    "plt.semilogy()\n",
    "plt.plot(np.arange(epochs)+1, models[i].history.history['loss'], \n",
    "         linewidth=1, label='Fold %i Train'%i)\n",
    "plt.plot(np.arange(epochs)+1, models[i].history.history['val_loss'], \n",
    "         linewidth=1, label='Fold %i Validation'%i)\n",
    "\n",
    "plt.xticks(np.arange(epochs)+1)\n",
    "plt.xlabel('Epoch', fontsize=14)\n",
    "plt.ylabel('Loss', fontsize=14)\n",
    "plt.legend(ncol=2)"
   ]
  },
  {
   "cell_type": "markdown",
   "metadata": {},
   "source": [
    "## Evaluate models on test set"
   ]
  },
  {
   "cell_type": "code",
   "execution_count": 12,
   "metadata": {
    "ExecuteTime": {
     "end_time": "2019-09-25T21:47:34.465571Z",
     "start_time": "2019-09-25T21:47:24.125164Z"
    }
   },
   "outputs": [],
   "source": [
    "logmass_pred = np.zeros(shape=Y.shape)\n",
    "\n",
    "for i in range(10):\n",
    "    # Load test inputs\n",
    "    X_test = X[in_test & (fold == i)]\n",
    "    \n",
    "    # Predict on test inputs\n",
    "    Y_pred = models[i].predict(X_test)\n",
    "    \n",
    "    np.put(a=logmass_pred,\n",
    "           ind=np.where(in_test & (fold==i))[0],\n",
    "           v=data_manager.deregularize(Y_pred)\n",
    "          )"
   ]
  },
  {
   "cell_type": "code",
   "execution_count": 14,
   "metadata": {
    "ExecuteTime": {
     "end_time": "2019-09-25T21:49:52.763769Z",
     "start_time": "2019-09-25T21:49:52.412626Z"
    }
   },
   "outputs": [
    {
     "data": {
      "text/plain": [
       "Text(0, 0.5, '$\\\\epsilon$')"
      ]
     },
     "execution_count": 14,
     "metadata": {},
     "output_type": "execute_result"
    },
    {
     "data": {
      "image/png": "[encoded data removed]",
      "text/plain": [
       "<Figure size 432x576 with 2 Axes>"
      ]
     },
     "metadata": {
      "needs_background": "light"
     },
     "output_type": "display_data"
    }
   ],
   "source": [
    "f = plt.figure(figsize=(6,8))\n",
    "gs = mpl.gridspec.GridSpec(2,1,height_ratios=[3,1], hspace=0)\n",
    "\n",
    "ax1 = f.add_subplot(gs[0,0])\n",
    "\n",
    "ax1.plot(np.arange(13,16,0.1),np.arange(13,16,0.1),'k--')\n",
    "_ = binned_plot(data['logmass'][in_test], \n",
    "                logmass_pred[in_test], \n",
    "                n=20, percentiles=[0,35,45], \n",
    "                color='b', ax=ax1)\n",
    "\n",
    "ax1.set_xlim(14,15)\n",
    "ax1.set_ylim(13.5,15.5)\n",
    "ax1.set_xticks([])\n",
    "ax1.set_yticks(ax1.get_yticks()[1:])\n",
    "ax1.set_ylabel(r'$\\log_{10}\\left[M_\\mathrm{pred}\\ (h^{-1}M_\\odot)\\right]$', fontsize=14)\n",
    "\n",
    "\n",
    "ax2 = f.add_subplot(gs[1,0])\n",
    "\n",
    "ax2.plot(np.arange(13,16,0.1),[0]*30,'k--')\n",
    "_ = binned_plot(data['logmass'][in_test], \n",
    "                logmass_pred[in_test] - data['logmass'][in_test], \n",
    "                n=20, percentiles=[0,35,45], \n",
    "                color='b', ax=ax2)\n",
    "ax2.set_xlim(14,15)\n",
    "ax2.set_ylim(-0.5,0.5)\n",
    "ax2.set_xlabel(r'$\\log_{10}\\left[M_\\mathrm{true}\\ (h^{-1}M_\\odot)\\right]$', fontsize=14)\n",
    "ax2.set_ylabel(r'$\\epsilon$', fontsize=14)"
   ]
  },
  {
   "cell_type": "code",
   "execution_count": null,
   "metadata": {},
   "outputs": [],
   "source": []
  }
 ],
 "metadata": {
  "kernelspec": {
   "display_name": "Python 3",
   "language": "python",
   "name": "python3"
  },
  "language_info": {
   "codemirror_mode": {
    "name": "ipython",
    "version": 3
   },
   "file_extension": ".py",
   "mimetype": "text/x-python",
   "name": "python",
   "nbconvert_exporter": "python",
   "pygments_lexer": "ipython3",
   "version": "3.6.7"
  },
  "toc": {
   "base_numbering": 1,
   "nav_menu": {},
   "number_sections": true,
   "sideBar": true,
   "skip_h1_title": false,
   "title_cell": "Table of Contents",
   "title_sidebar": "Contents",
   "toc_cell": false,
   "toc_position": {},
   "toc_section_display": true,
   "toc_window_display": false
  }
 },
 "nbformat": 4,
 "nbformat_minor": 2
}
