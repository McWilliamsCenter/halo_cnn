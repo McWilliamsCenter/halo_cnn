{
 "cells": [
  {
   "cell_type": "code",
   "execution_count": 1,
   "metadata": {
    "ExecuteTime": {
     "end_time": "2019-04-04T06:39:47.523126Z",
     "start_time": "2019-04-04T06:39:43.266339Z"
    },
    "scrolled": true
   },
   "outputs": [],
   "source": [
    "import numpy as np\n",
    "import os\n",
    "import pandas as pd\n",
    "import warnings\n",
    "from scipy.stats import gaussian_kde\n",
    "from astropy.cosmology import WMAP9 as cosmo\n",
    "from astropy.coordinates import SkyCoord\n",
    "from astropy import units\n",
    "from importlib import reload\n",
    "\n",
    "import matplotlib as mpl\n",
    "mpl.use('Agg')\n",
    "\n",
    "mpl.rcParams['figure.figsize'] = (7,7)\n",
    "mpl.rcParams['figure.facecolor'] = (1,1,1,1)\n",
    "mpl.rcParams.update({'font.size':22})\n",
    "\n",
    "% matplotlib inline\n",
    "\n",
    "import matplotlib.pyplot as plt"
   ]
  },
  {
   "cell_type": "code",
   "execution_count": 2,
   "metadata": {
    "ExecuteTime": {
     "end_time": "2019-04-04T06:39:50.075497Z",
     "start_time": "2019-04-04T06:39:47.526546Z"
    }
   },
   "outputs": [
    {
     "name": "stderr",
     "output_type": "stream",
     "text": [
      "Using Theano backend.\n"
     ]
    }
   ],
   "source": [
    "import keras"
   ]
  },
  {
   "cell_type": "code",
   "execution_count": 3,
   "metadata": {
    "ExecuteTime": {
     "end_time": "2019-04-04T06:39:50.083168Z",
     "start_time": "2019-04-04T06:39:50.079185Z"
    }
   },
   "outputs": [],
   "source": [
    "wdir = '/home/mho1/scratch/halo_cnn'\n",
    "\n",
    "\n",
    "imdir = '/home/mho1/halo_cnn/paper_images'"
   ]
  },
  {
   "cell_type": "code",
   "execution_count": 4,
   "metadata": {
    "ExecuteTime": {
     "end_time": "2019-04-04T06:39:50.339519Z",
     "start_time": "2019-04-04T06:39:50.086058Z"
    }
   },
   "outputs": [
    {
     "data": {
      "text/plain": [
       "<module 'tools.matt_tools' from '/home/mho1/halo_cnn/notebooks/tools/matt_tools.py'>"
      ]
     },
     "execution_count": 4,
     "metadata": {},
     "output_type": "execute_result"
    }
   ],
   "source": [
    "import tools.matt_tools as matt\n",
    "\n",
    "reload(matt)"
   ]
  },
  {
   "cell_type": "markdown",
   "metadata": {},
   "source": [
    "# Notes\n",
    "\n",
    " * Virial scaling: http://adsabs.harvard.edu/abs/2008ApJ...672..122E\n",
    " \n",
    " * Coma Mass WL 2007: ~1.88 * 10^15 M_sol/h   [ref: http://adsabs.harvard.edu/abs/2007ApJ...671.1466K]\n",
    " * Coma Mass Dyn 1987: ~0.95 * 10^15 M_sol/h [http://adsabs.harvard.edu/abs/1986AJ.....92.1248T]\n",
    " \n",
    "### Virgo (Photometric) \n",
    " * Virgo Survey: http://astrowww.phys.uvic.ca/~lff/NGVS/The_Data.html\n",
    " * Virgo Data: http://www.cadc-ccda.hia-iha.nrc-cnrc.gc.ca/en/"
   ]
  },
  {
   "cell_type": "markdown",
   "metadata": {},
   "source": [
    "# Tools"
   ]
  },
  {
   "cell_type": "code",
   "execution_count": 15,
   "metadata": {
    "ExecuteTime": {
     "end_time": "2019-04-04T08:49:05.127322Z",
     "start_time": "2019-04-04T08:49:05.123893Z"
    }
   },
   "outputs": [],
   "source": [
    "obj_dtype = [('z','f'),('ra','f'),('dec','f'), # raw\n",
    "             ('vlos','f'), ('Rproj','f')]      # derived"
   ]
  },
  {
   "cell_type": "code",
   "execution_count": 16,
   "metadata": {
    "ExecuteTime": {
     "end_time": "2019-04-04T08:49:05.482983Z",
     "start_time": "2019-04-04T08:49:05.466941Z"
    }
   },
   "outputs": [],
   "source": [
    "# ~~~~~ PLOTTING ~~~~~\n",
    "def plot_hist(data, n=30, label=None):\n",
    "    vals, bin_edg = np.histogram(data, bins=n, density=True)\n",
    "    \n",
    "    plt.plot([(bin_edg[i]+bin_edg[i+1])/2. for i in range(len(bin_edg)-1)],\n",
    "             vals,\n",
    "             label = label\n",
    "            )\n",
    "    \n",
    "    return vals, bin_edg\n",
    "\n",
    "# ~~~~~ COSMOLOGY ~~~~~\n",
    "def Rproj_from_radec(gals, cl):\n",
    "    pos_cl = SkyCoord(ra=cl['ra']*units.deg, dec=cl['dec']*units.deg)\n",
    "    pos_gal = SkyCoord(ra=gals['ra']*units.deg, dec=gals['dec']*units.deg)\n",
    "    \n",
    "    gal_Rproj = cosmo.kpc_proper_per_arcmin(cl['z']).value * \\\n",
    "                pos_gal.separation(pos_cl).arcmin / cosmo.h # [kpc/h]\n",
    "    gal_Rproj /= 1000. # [Mpc/h]\n",
    "    \n",
    "    gals['Rproj'] = gal_Rproj\n",
    "    \n",
    "    return gals\n",
    "\n",
    "def vlos_from_z(gals,cl):\n",
    "    c = 299792.458  # [km/s]\n",
    "    gal_vlos = c*(gals['z'] - cl['z'])/(1.0+cl['z']) # [km/s]\n",
    "    \n",
    "    gals['vlos'] = gal_vlos\n",
    "\n",
    "    return gals\n",
    "\n",
    "def add_vlos_Rproj(gals,cl):\n",
    "    \n",
    "    gals = vlos_from_z(gals,cl)\n",
    "    gals = Rproj_from_radec(gals,cl)\n",
    "    \n",
    "    return gals\n",
    "\n",
    "def logMvir(sigv):\n",
    "    # ref: http://adsabs.harvard.edu/abs/2008ApJ...672..122E\n",
    "    \n",
    "    sigv_15 = 1082.9 # km/s\n",
    "    alpha = 0.3361\n",
    "    \n",
    "    return np.log10((sigv/sigv_15)**(1/alpha) * 10**15)\n",
    "\n",
    "# ~~~~ PREPROCESSING ~~~~~\n",
    "\n",
    "def cylinder_cut(gals,cl):\n",
    "    \n",
    "    aperture = 1.6 # [Mpc/h]\n",
    "    vcut = 2500. # [km/s]\n",
    "    \n",
    "    # Check for derived quantities\n",
    "    if (np.sum(gals['vlos']==0)!=0) | (np.sum(gals['Rproj']==0)!=0):\n",
    "        warnings.warn('Zero vlos, Rproj. Check if derived quantities have been updated.')\n",
    "    \n",
    "    members =(np.abs(gals['vlos']) < vcut) & (gals['Rproj'] < aperture)\n",
    "    \n",
    "    return gals[members]\n",
    "\n",
    "def kde_1d(gals):\n",
    "    shape = (48,1)\n",
    "    bwidth = 0.25\n",
    "    vcut = 2500. # [km/s]\n",
    "    \n",
    "    # Check for derived quantities\n",
    "    if (np.sum(gals['vlos']==0)!=0):\n",
    "        warnings.warn('Zero vlos. Check if derived quantities have been updated.')\n",
    "    \n",
    "    v_pos = np.linspace(-vcut,vcut, shape[0]+1)\n",
    "    sample = [np.mean(v_pos[[i,i+1]]) for i in range(len(v_pos)-1)]\n",
    "    \n",
    "    kde = gaussian_kde(gals['vlos'], bwidth)\n",
    "    \n",
    "    kdeval = kde(sample).T\n",
    "    kdeval /= kdeval.sum()\n",
    "    \n",
    "    return kdeval.reshape(1,*shape)\n",
    "\n",
    "def kde_2d(gals):\n",
    "    shape=(48,48)\n",
    "    bwidth=0.25\n",
    "    vcut = 2500. # [km/s]\n",
    "    aperture = 1.6 # [Mpc/h]\n",
    "    \n",
    "    v_pos = np.linspace(-vcut, vcut, shape[0] + 1)\n",
    "    a_pos = np.linspace(0, aperture, shape[1] + 1)\n",
    "    v_pos = [np.mean(v_pos[[i,i+1]]) for i in range(len(v_pos)-1)]\n",
    "    a_pos = [np.mean(a_pos[[i,i+1]]) for i in range(len(a_pos)-1)]\n",
    "\n",
    "    mesh = np.meshgrid(a_pos,v_pos)\n",
    "    mesh = np.flip(mesh,0)\n",
    "    sample = np.vstack([mesh[0].ravel(), mesh[1].ravel()])\n",
    "    \n",
    "    \n",
    "    kde = gaussian_kde((gals['vlos'],gals['Rproj']), bwidth)\n",
    "    \n",
    "    kdeval = np.reshape(kde(sample).T, mesh[0].shape)\n",
    "    kdeval /= kdeval.sum()\n",
    "    \n",
    "    return kdeval.reshape(1,*shape)"
   ]
  },
  {
   "cell_type": "code",
   "execution_count": null,
   "metadata": {},
   "outputs": [],
   "source": []
  },
  {
   "cell_type": "markdown",
   "metadata": {},
   "source": [
    "# Load Trained Models"
   ]
  },
  {
   "cell_type": "code",
   "execution_count": 63,
   "metadata": {
    "ExecuteTime": {
     "end_time": "2019-04-04T09:14:20.060016Z",
     "start_time": "2019-04-04T09:14:20.057166Z"
    }
   },
   "outputs": [],
   "source": [
    "model_1d_num = 154 #152\n",
    "model_2d_num =  74 # 67"
   ]
  },
  {
   "cell_type": "code",
   "execution_count": 64,
   "metadata": {
    "ExecuteTime": {
     "end_time": "2019-04-04T09:15:17.516868Z",
     "start_time": "2019-04-04T09:14:20.390757Z"
    }
   },
   "outputs": [
    {
     "name": "stdout",
     "output_type": "stream",
     "text": [
      "fold: 0\n",
      "fold: 1\n",
      "fold: 2\n",
      "fold: 3\n",
      "fold: 4\n",
      "fold: 5\n",
      "fold: 6\n",
      "fold: 7\n",
      "fold: 8\n",
      "fold: 9\n"
     ]
    }
   ],
   "source": [
    "# Load keras models\n",
    "\n",
    "model_1d = [None]*10\n",
    "model_2d = [None]*10\n",
    "\n",
    "for i in range(10):\n",
    "    print('fold:',i)\n",
    "    \n",
    "    model_1d[i] = keras.models.load_model('/home/mho1/scratch/halo_cnn/saved_models/halo_cnn1d_r/halo_cnn1d_r_' + \\\n",
    "                                           str(model_1d_num)+'/models/fold_'+str(i)+'.h5')\n",
    "    model_2d[i] = keras.models.load_model('/home/mho1/scratch/halo_cnn/saved_models/halo_cnn2d_r/halo_cnn2d_r_' + \\\n",
    "                                           str(model_2d_num)+'/models/fold_'+str(i)+'.h5')"
   ]
  },
  {
   "cell_type": "code",
   "execution_count": 65,
   "metadata": {
    "ExecuteTime": {
     "end_time": "2019-04-04T09:15:17.546654Z",
     "start_time": "2019-04-04T09:15:17.519172Z"
    }
   },
   "outputs": [],
   "source": [
    "# Load params\n",
    "\n",
    "par_1d = np.load('/home/mho1/scratch/halo_cnn/saved_models/halo_cnn1d_r/halo_cnn1d_r_' + \\\n",
    "                 str(model_1d_num)+'/halo_cnn1d_r_' + \\\n",
    "                 str(model_1d_num) + '.npy',\n",
    "                 encoding='latin1').item()['params']\n",
    "\n",
    "par_2d = np.load('/home/mho1/scratch/halo_cnn/saved_models/halo_cnn2d_r/halo_cnn2d_r_' + \\\n",
    "                 str(model_2d_num)+'/halo_cnn2d_r_' + \\\n",
    "                 str(model_2d_num) + '.npy',\n",
    "                 encoding='latin1').item()['params']\n",
    "\n",
    "def logM_from_y1d(y):\n",
    "    y = (y+1)/2.\n",
    "    return (par_1d['logmass_max'] - par_1d['logmass_min'])*y + par_1d['logmass_min']\n",
    "def logM_from_y2d(y):\n",
    "    y = (y+1)/2.\n",
    "    return (par_2d['logmass_max'] - par_2d['logmass_min'])*y + par_2d['logmass_min']"
   ]
  },
  {
   "cell_type": "code",
   "execution_count": null,
   "metadata": {},
   "outputs": [],
   "source": []
  },
  {
   "cell_type": "code",
   "execution_count": null,
   "metadata": {},
   "outputs": [],
   "source": []
  },
  {
   "cell_type": "markdown",
   "metadata": {},
   "source": [
    "# Coma"
   ]
  },
  {
   "cell_type": "code",
   "execution_count": 56,
   "metadata": {
    "ExecuteTime": {
     "end_time": "2019-04-04T09:14:06.155516Z",
     "start_time": "2019-04-04T09:14:06.131996Z"
    }
   },
   "outputs": [
    {
     "name": "stdout",
     "output_type": "stream",
     "text": [
      "['ra' 'dec' 'specobjid' 'z']\n"
     ]
    },
    {
     "data": {
      "text/html": [
       "<div>\n",
       "<style scoped>\n",
       "    .dataframe tbody tr th:only-of-type {\n",
       "        vertical-align: middle;\n",
       "    }\n",
       "\n",
       "    .dataframe tbody tr th {\n",
       "        vertical-align: top;\n",
       "    }\n",
       "\n",
       "    .dataframe thead th {\n",
       "        text-align: right;\n",
       "    }\n",
       "</style>\n",
       "<table border=\"1\" class=\"dataframe\">\n",
       "  <thead>\n",
       "    <tr style=\"text-align: right;\">\n",
       "      <th></th>\n",
       "      <th>RA</th>\n",
       "      <th>DEC</th>\n",
       "      <th>specobjid</th>\n",
       "      <th>Z</th>\n",
       "    </tr>\n",
       "  </thead>\n",
       "  <tbody>\n",
       "    <tr>\n",
       "      <th>0</th>\n",
       "      <td>193.97707</td>\n",
       "      <td>27.734459</td>\n",
       "      <td>7295860639766605824</td>\n",
       "      <td>2.888782</td>\n",
       "    </tr>\n",
       "    <tr>\n",
       "      <th>1</th>\n",
       "      <td>193.99803</td>\n",
       "      <td>28.486930</td>\n",
       "      <td>2264256514497734656</td>\n",
       "      <td>0.142809</td>\n",
       "    </tr>\n",
       "    <tr>\n",
       "      <th>2</th>\n",
       "      <td>193.99821</td>\n",
       "      <td>28.622316</td>\n",
       "      <td>7296075319411929088</td>\n",
       "      <td>0.511981</td>\n",
       "    </tr>\n",
       "    <tr>\n",
       "      <th>3</th>\n",
       "      <td>193.99900</td>\n",
       "      <td>27.955075</td>\n",
       "      <td>2522132678577252352</td>\n",
       "      <td>0.027008</td>\n",
       "    </tr>\n",
       "    <tr>\n",
       "      <th>4</th>\n",
       "      <td>194.09395</td>\n",
       "      <td>28.796575</td>\n",
       "      <td>7296086314528206848</td>\n",
       "      <td>0.530268</td>\n",
       "    </tr>\n",
       "  </tbody>\n",
       "</table>\n",
       "</div>"
      ],
      "text/plain": [
       "          RA        DEC            specobjid         Z\n",
       "0  193.97707  27.734459  7295860639766605824  2.888782\n",
       "1  193.99803  28.486930  2264256514497734656  0.142809\n",
       "2  193.99821  28.622316  7296075319411929088  0.511981\n",
       "3  193.99900  27.955075  2522132678577252352  0.027008\n",
       "4  194.09395  28.796575  7296086314528206848  0.530268"
      ]
     },
     "execution_count": 56,
     "metadata": {},
     "output_type": "execute_result"
    }
   ],
   "source": [
    "dat_cl = pd.read_csv(os.path.join(wdir,'data_obs','coma_cluster.csv'))\n",
    "\n",
    "print(dat_cl.columns.values)\n",
    "\n",
    "dat_cl=dat_cl.rename(index=str,columns={'ra':'RA','dec':'DEC','z':'Z'}) # same format as RedMapper\n",
    "\n",
    "dat_cl.head()"
   ]
  },
  {
   "cell_type": "code",
   "execution_count": 57,
   "metadata": {
    "ExecuteTime": {
     "end_time": "2019-04-04T09:14:06.749587Z",
     "start_time": "2019-04-04T09:14:06.742906Z"
    }
   },
   "outputs": [
    {
     "name": "stdout",
     "output_type": "stream",
     "text": [
      "z_0: [0.0231]\n",
      "ra_0: [194.87663]\n",
      "dec_0: [27.924927]\n"
     ]
    }
   ],
   "source": [
    "# Cluster center\n",
    "\n",
    "cl = np.zeros(shape=(1,),dtype=obj_dtype)\n",
    "\n",
    "cl['z'] = 0.0231 # wikipedia\n",
    "cl['ra'] = np.mean(dat_cl['RA'])\n",
    "cl['dec'] = np.mean(dat_cl['DEC'])\n",
    "\n",
    "print('z_0:', cl['z'])\n",
    "print('ra_0:', cl['ra'])\n",
    "print('dec_0:', cl['dec'])"
   ]
  },
  {
   "cell_type": "code",
   "execution_count": 85,
   "metadata": {
    "ExecuteTime": {
     "end_time": "2019-04-04T09:21:46.969051Z",
     "start_time": "2019-04-04T09:21:46.958071Z"
    }
   },
   "outputs": [],
   "source": [
    "# Galaxy sample\n",
    "\n",
    "gals = np.zeros(shape=(len(dat_cl),), dtype=obj_dtype)\n",
    "\n",
    "gals['z'] = dat_cl['Z']\n",
    "gals['ra'] = dat_cl['RA']\n",
    "gals['dec'] = dat_cl['DEC']\n",
    "\n",
    "gals = add_vlos_Rproj(gals, cl)\n",
    "\n",
    "# gals['vlos'] *= 1.5\n",
    "# gals['Rproj'] *= 1.5\n",
    "\n",
    "gals = cylinder_cut(gals, cl)"
   ]
  },
  {
   "cell_type": "code",
   "execution_count": 86,
   "metadata": {
    "ExecuteTime": {
     "end_time": "2019-04-04T09:21:48.570698Z",
     "start_time": "2019-04-04T09:21:47.426369Z"
    }
   },
   "outputs": [
    {
     "data": {
      "image/png": "[encoded data removed]",
      "text/plain": [
       "<Figure size 360x360 with 1 Axes>"
      ]
     },
     "metadata": {},
     "output_type": "display_data"
    }
   ],
   "source": [
    "f = plt.figure(figsize=(5,5))\n",
    "\n",
    "plt.plot(gals['ra'], gals['dec'],'.')\n",
    "\n",
    "plt.xlabel('ra')\n",
    "plt.ylabel('dec')\n",
    "\n",
    "# f.savefig(os.path.join(imdir,'temp.png'),bbox_inches='tight', dpi=500)"
   ]
  },
  {
   "cell_type": "code",
   "execution_count": 87,
   "metadata": {
    "ExecuteTime": {
     "end_time": "2019-04-04T09:21:48.711625Z",
     "start_time": "2019-04-04T09:21:48.572954Z"
    }
   },
   "outputs": [],
   "source": [
    "kdeval_1d = kde_1d(gals)\n",
    "kdeval_2d = kde_2d(gals)"
   ]
  },
  {
   "cell_type": "code",
   "execution_count": 90,
   "metadata": {
    "ExecuteTime": {
     "end_time": "2019-04-04T09:21:55.336524Z",
     "start_time": "2019-04-04T09:21:52.194445Z"
    }
   },
   "outputs": [
    {
     "data": {
      "image/png": "[encoded data removed]",
      "text/plain": [
       "<Figure size 504x360 with 3 Axes>"
      ]
     },
     "metadata": {},
     "output_type": "display_data"
    }
   ],
   "source": [
    "aperture = 1.6 # [Mpc/h]\n",
    "vcut = 2500. # [km/s]\n",
    "\n",
    "f = plt.figure(figsize=(7,5))\n",
    "gs = mpl.gridspec.GridSpec(2,3, wspace=0.05,hspace=0.4, width_ratios=[1.2,2.8,1],height_ratios=[15,1])\n",
    "\n",
    "\n",
    "# 2D\n",
    "ax1 = f.add_subplot(gs[0,0:2])\n",
    "\n",
    "im =ax1.imshow(kdeval_2d.reshape(48,48), aspect='auto', interpolation='nearest',\n",
    "               extent=[0, aperture, -vcut, vcut])\n",
    "\n",
    "ax1.plot(gals['Rproj'], \n",
    "         -gals['vlos'],\n",
    "         'b.', markersize=5)\n",
    "\n",
    "ax1.set_ylim(-vcut, vcut)\n",
    "\n",
    "ax1.ticklabel_format(style='sci',axis='y', scilimits=(-1,1))\n",
    "ax1.set_aspect(aspect=aperture/(2*vcut),adjustable='box', anchor='E')\n",
    "ax1.set_xlabel('$R_\\mathrm{proj}$ (Mpc h$^{-1}$)', fontsize=10)\n",
    "ax1.set_ylabel('$v_\\mathrm{los}$ (km s$^{-1}$)', fontsize=10)\n",
    "\n",
    "\n",
    "# 1D\n",
    "ax2 = f.add_subplot(gs[0,2])\n",
    "v_pos = np.linspace(-vcut, vcut, 48)\n",
    "ax2.barh(v_pos, kdeval_1d.reshape(48), height=50)\n",
    "\n",
    "ax2.set_ylim(-vcut, vcut)\n",
    "\n",
    "ax2.set_xlabel('Norm PDF', fontsize=10)\n",
    "ax2.set_yticks([])\n",
    "\n",
    "ax2.ticklabel_format(style='sci',axis='both', scilimits=(-1,1))\n",
    "ax2.xaxis.tick_top()\n",
    "ax2.xaxis.set_label_position('top')\n",
    "\n",
    "# Colorbar\n",
    "ax3 = f.add_subplot(gs[1,1])\n",
    "cmap = mpl.cm.cool\n",
    "norm = mpl.colors.Normalize(vmin=kdeval_2d.min(), vmax=kdeval_2d.max())\n",
    "\n",
    "cb = mpl.colorbar.ColorbarBase(label='Norm PDF', ax=ax3, norm=norm, orientation='horizontal')\n",
    "cb.set_label('Norm PDF',fontsize=10)\n",
    "cb.formatter.set_powerlimits((0, 1))\n",
    "cb.update_ticks()\n",
    "\n",
    "# f.savefig(os.path.join(imdir,'temp.png'),bbox_inches='tight', dpi=500)"
   ]
  },
  {
   "cell_type": "code",
   "execution_count": 89,
   "metadata": {
    "ExecuteTime": {
     "end_time": "2019-04-04T09:21:52.191846Z",
     "start_time": "2019-04-04T09:21:51.057951Z"
    }
   },
   "outputs": [
    {
     "name": "stdout",
     "output_type": "stream",
     "text": [
      "FOLD 0 ~~ cnn1d: 14.96253 \tcnn2d: 14.940058\n",
      "FOLD 1 ~~ cnn1d: 14.935635 \tcnn2d: 14.868468\n",
      "FOLD 2 ~~ cnn1d: 14.960352 \tcnn2d: 14.906143\n",
      "FOLD 3 ~~ cnn1d: 14.946918 \tcnn2d: 14.96342\n",
      "FOLD 4 ~~ cnn1d: 14.915418 \tcnn2d: 14.934172\n",
      "FOLD 5 ~~ cnn1d: 15.020343 \tcnn2d: 14.967484\n",
      "FOLD 6 ~~ cnn1d: 14.928474 \tcnn2d: 14.84788\n",
      "FOLD 7 ~~ cnn1d: 14.970561 \tcnn2d: 14.913065\n",
      "FOLD 8 ~~ cnn1d: 14.922435 \tcnn2d: 14.9377365\n",
      "FOLD 9 ~~ cnn1d: 14.938496 \tcnn2d: 14.94315\n",
      "\n",
      "AVG ~~ cnn1d: 14.950116 \tcnn2d: 14.922157\n",
      "\n",
      "STD ~~ cnn1d: 0.028986625 \tcnn2d: 0.0369378\n"
     ]
    },
    {
     "data": {
      "image/png": "[encoded data removed]",
      "text/plain": [
       "<Figure size 360x288 with 1 Axes>"
      ]
     },
     "metadata": {},
     "output_type": "display_data"
    }
   ],
   "source": [
    "logM_1d = [None]*10\n",
    "logM_2d = [None]*10\n",
    "\n",
    "for i in range(10):\n",
    "    logM_1d[i] = logM_from_y1d(model_1d[i].predict(kdeval_1d)).flatten()[0]\n",
    "    logM_2d[i] = logM_from_y2d(model_2d[i].predict(kdeval_2d)).flatten()[0]\n",
    "    \n",
    "    print('FOLD', i, '~~ cnn1d:', logM_1d[i],'\\tcnn2d:', logM_2d[i])\n",
    "    \n",
    "print('\\nAVG ~~ cnn1d:', np.mean(logM_1d), '\\tcnn2d:', np.mean(logM_2d))\n",
    "print('\\nSTD ~~ cnn1d:', np.std(logM_1d), '\\tcnn2d:', np.std(logM_2d))\n",
    "\n",
    "\n",
    "f = plt.figure(figsize=(5,4))\n",
    "\n",
    "plt.hist(logM_1d, label='cnn1d', color='b', alpha=0.25, range=(14.75,15.2))\n",
    "plt.hist(logM_2d, label='cnn2d', color='r', alpha=0.25, range=(14.75,15.2))\n",
    "plt.axvline(np.mean(logM_1d), color='b')\n",
    "plt.axvline(np.mean(logM_2d), color='r')\n",
    "\n",
    "plt.xlabel('$\\log M$')\n",
    "plt.ylabel('$N$')\n",
    "plt.legend()\n",
    "\n",
    "# f.savefig(os.path.join(imdir,'temp.png'),bbox_inches='tight', dpi=500)"
   ]
  },
  {
   "cell_type": "code",
   "execution_count": 73,
   "metadata": {
    "ExecuteTime": {
     "end_time": "2019-04-04T09:16:16.767398Z",
     "start_time": "2019-04-04T09:16:16.761797Z"
    }
   },
   "outputs": [
    {
     "name": "stdout",
     "output_type": "stream",
     "text": [
      "logM_true: 15.27415784926368\n",
      "logM_vir_scaling: 15.195652225336639\n"
     ]
    }
   ],
   "source": [
    "logM_Coma = np.log10(1.88*10**15)\n",
    "logMvir_Coma = logMvir(np.std(gals['vlos']))\n",
    "\n",
    "print('logM_true:', logM_Coma)\n",
    "print('logM_vir_scaling:', logMvir_Coma)"
   ]
  },
  {
   "cell_type": "markdown",
   "metadata": {},
   "source": [
    "## Posterior output"
   ]
  },
  {
   "cell_type": "code",
   "execution_count": 18,
   "metadata": {
    "ExecuteTime": {
     "end_time": "2019-04-04T08:50:56.963068Z",
     "start_time": "2019-04-04T08:50:56.960139Z"
    }
   },
   "outputs": [],
   "source": [
    "model_1d_num = 0\n",
    "model_2d_num = 6"
   ]
  },
  {
   "cell_type": "code",
   "execution_count": 19,
   "metadata": {
    "ExecuteTime": {
     "end_time": "2019-04-04T08:52:05.204195Z",
     "start_time": "2019-04-04T08:50:57.812583Z"
    }
   },
   "outputs": [
    {
     "name": "stdout",
     "output_type": "stream",
     "text": [
      "fold: 0\n",
      "fold: 1\n",
      "fold: 2\n",
      "fold: 3\n",
      "fold: 4\n",
      "fold: 5\n",
      "fold: 6\n",
      "fold: 7\n",
      "fold: 8\n",
      "fold: 9\n"
     ]
    }
   ],
   "source": [
    "# Load keras models\n",
    "\n",
    "model_1d = [None]*10\n",
    "model_2d = [None]*10\n",
    "\n",
    "for i in range(10):\n",
    "    print('fold:',i)\n",
    "    \n",
    "    model_1d[i] = keras.models.load_model('/home/mho1/scratch/halo_cnn/saved_models/halo_cnn1d_rP/halo_cnn1d_rP_' + \\\n",
    "                                           str(model_1d_num)+'/models/fold_'+str(i)+'.h5')\n",
    "    model_2d[i] = keras.models.load_model('/home/mho1/scratch/halo_cnn/saved_models/halo_cnn2d_rP/halo_cnn2d_rP_' + \\\n",
    "                                           str(model_2d_num)+'/models/fold_'+str(i)+'.h5')"
   ]
  },
  {
   "cell_type": "code",
   "execution_count": 32,
   "metadata": {
    "ExecuteTime": {
     "end_time": "2019-04-04T08:56:58.286278Z",
     "start_time": "2019-04-04T08:56:58.266109Z"
    }
   },
   "outputs": [],
   "source": [
    "# Load params\n",
    "\n",
    "par_1d = np.load('/home/mho1/scratch/halo_cnn/saved_models/halo_cnn1d_rP/halo_cnn1d_rP_' + \\\n",
    "                 str(model_1d_num)+'/halo_cnn1d_rP_' + \\\n",
    "                 str(model_1d_num) + '.npy',\n",
    "                 encoding='latin1').item()['params']\n",
    "\n",
    "par_2d = np.load('/home/mho1/scratch/halo_cnn/saved_models/halo_cnn2d_rP/halo_cnn2d_rP_' + \\\n",
    "                 str(model_2d_num)+'/halo_cnn2d_rP_' + \\\n",
    "                 str(model_2d_num) + '.npy',\n",
    "                 encoding='latin1').item()['params']\n",
    "\n",
    "def logM_from_y1d(y):\n",
    "    return (par_1d['logmass_max'] - par_1d['logmass_min'])*y + par_1d['logmass_min']\n",
    "def logM_from_y2d(y):\n",
    "    return (par_2d['logmass_max'] - par_2d['logmass_min'])*y + par_2d['logmass_min']\n",
    "\n",
    "bin_edges_1d = np.linspace(0, 1, par_1d['nbins']+1)\n",
    "bin_centers_1d = np.array([np.mean((bin_edges_1d[i],bin_edges_1d[i+1])) for i in range(par_1d['nbins'])])\n",
    "bin_centers_1d = logM_from_y1d(bin_centers_1d)\n",
    "\n",
    "bin_edges_2d = np.linspace(0, 1, par_2d['nbins']+1)\n",
    "bin_centers_2d = np.array([np.mean((bin_edges_2d[i],bin_edges_2d[i+1])) for i in range(par_2d['nbins'])])\n",
    "bin_centers_2d = logM_from_y2d(bin_centers_2d)"
   ]
  },
  {
   "cell_type": "code",
   "execution_count": 55,
   "metadata": {
    "ExecuteTime": {
     "end_time": "2019-04-04T09:08:48.625479Z",
     "start_time": "2019-04-04T09:08:47.944144Z"
    }
   },
   "outputs": [
    {
     "name": "stdout",
     "output_type": "stream",
     "text": [
      "FOLD 0 ~~ cnn1d: 14.97254535014806 \tcnn2d: 14.90778588501634\n",
      "FOLD 1 ~~ cnn1d: 14.959311994021643 \tcnn2d: 14.885008905054226\n",
      "FOLD 2 ~~ cnn1d: 14.92596848676203 \tcnn2d: 14.981062763115359\n",
      "FOLD 3 ~~ cnn1d: 14.925060931484692 \tcnn2d: 14.88073262862827\n",
      "FOLD 4 ~~ cnn1d: 14.960795474588958 \tcnn2d: 14.91952293964449\n",
      "FOLD 5 ~~ cnn1d: 14.96504798258299 \tcnn2d: 14.946935724000225\n",
      "FOLD 6 ~~ cnn1d: 14.983815350715766 \tcnn2d: 14.928840978486289\n",
      "FOLD 7 ~~ cnn1d: 14.963186359882082 \tcnn2d: 14.98599912991075\n",
      "FOLD 8 ~~ cnn1d: 14.957803253041446 \tcnn2d: 14.892061274654765\n",
      "FOLD 9 ~~ cnn1d: 14.980562646076018 \tcnn2d: 14.912171421059957\n",
      "\n",
      "AVG ~~ cnn1d: 14.959409782930372 \tcnn2d: 14.924012164957068\n"
     ]
    },
    {
     "data": {
      "image/png": "[encoded data removed]",
      "text/plain": [
       "<Figure size 360x288 with 1 Axes>"
      ]
     },
     "metadata": {},
     "output_type": "display_data"
    }
   ],
   "source": [
    "logM_1d = np.zeros(shape=(10,10))\n",
    "logM_2d = np.zeros(shape=(10,10))\n",
    "\n",
    "for i in range(10):\n",
    "    logM_1d[i,:] = model_1d[i].predict(kdeval_1d)[0]\n",
    "    logM_2d[i,:] = model_2d[i].predict(kdeval_2d)[0]\n",
    "    \n",
    "    print('FOLD', i, '~~ cnn1d:', np.dot(logM_1d[i,:], bin_centers_1d),\n",
    "          '\\tcnn2d:', np.dot(logM_2d[i,:], bin_centers_2d))\n",
    "    \n",
    "print('\\nAVG ~~ cnn1d:', np.dot(np.mean(logM_1d, axis=0),bin_centers_1d), \n",
    "      '\\tcnn2d:', np.dot(np.mean(logM_2d, axis=0),bin_centers_2d))\n",
    "# print('\\nSTD ~~ cnn1d:', np.std(logM_1d), '\\tcnn2d:', np.std(logM_2d))\n",
    "\n",
    "f = plt.figure(figsize=(5,4))\n",
    "\n",
    "plt.bar(bin_centers_1d, np.mean(logM_1d,axis=0), label='cnn1d', color='b', alpha=0.25)\n",
    "plt.bar(bin_centers_2d, np.mean(logM_2d,axis=0), label='cnn2d', color='r', alpha=0.25)\n",
    "plt.axvline(np.dot(np.mean(logM_1d, axis=0),bin_centers_1d), color='b')\n",
    "plt.axvline(np.dot(np.mean(logM_2d, axis=0),bin_centers_2d), color='r')\n",
    "\n",
    "plt.xlabel('$\\log M$')\n",
    "plt.ylabel('PDF')\n",
    "plt.legend()\n",
    "\n",
    "# f.savefig(os.path.join(imdir,'temp.png'),bbox_inches='tight', dpi=300)"
   ]
  },
  {
   "cell_type": "code",
   "execution_count": null,
   "metadata": {},
   "outputs": [],
   "source": []
  },
  {
   "cell_type": "markdown",
   "metadata": {},
   "source": [
    "# GAMA Clusters"
   ]
  },
  {
   "cell_type": "code",
   "execution_count": 48,
   "metadata": {},
   "outputs": [
    {
     "name": "stdout",
     "output_type": "stream",
     "text": [
      "['SPECID' 'SURVEY' 'SURVEY_CODE' 'RA' 'DEC' 'WMIN' 'WMAX' 'Z' 'NQ' 'PROB'\n",
      " 'FILENAME' 'URL' 'URL_IMG' 'CATAID' 'GAMA_NAME' 'IC_FLAG' 'DIST'\n",
      " 'IS_SBEST' 'IS_BEST' 'NAME' 'RA_RM' 'DEC_RM' 'Z_LAMBDA' 'Z_LAMBDA_ERR'\n",
      " 'LAMBDA' 'LAMBDA_ERR' 'S' 'Z_SPEC' 'OBJID' 'IMAG' 'IMAG_ERR'\n",
      " 'MODEL_MAG_U' 'MODEL_MAGERR_U' 'MODEL_MAG_G' 'MODEL_MAGERR_G'\n",
      " 'MODEL_MAG_R' 'MODEL_MAGERR_R' 'MODEL_MAG_I' 'MODEL_MAGERR_I'\n",
      " 'MODEL_MAG_Z' 'MODEL_MAGERR_Z' 'ILUM' 'ang_sep' 'LOS_vel'\n",
      " 'proper_distance']\n"
     ]
    }
   ],
   "source": [
    "cl_files = os.listdir(os.path.join(wdir,'data_obs','clusters_arya'))\n",
    "cl_files = [i for i in cl_files if i[-4:]=='.csv']\n",
    "\n",
    "print(pd.read_csv(os.path.join(wdir, 'data_obs','clusters_arya',cl_files[0])).columns.values)"
   ]
  },
  {
   "cell_type": "code",
   "execution_count": 59,
   "metadata": {},
   "outputs": [
    {
     "name": "stderr",
     "output_type": "stream",
     "text": [
      "/home/mho1/scratch/anaconda3/envs/jupy/lib/python3.6/site-packages/ipykernel_launcher.py:56: UserWarning: Zero vlos, Rproj. Check if derived quantities have been updated.\n"
     ]
    },
    {
     "name": "stdout",
     "output_type": "stream",
     "text": [
      "percent_removed: 0.47368421052631576\n"
     ]
    }
   ],
   "source": [
    "ignored = 0\n",
    "\n",
    "logM_gamma_cnn1d = []\n",
    "logM_gamma_cnn2d = []\n",
    "logM_gamma_vir = []\n",
    "\n",
    "for file in cl_files:\n",
    "    # print(file)\n",
    "    \n",
    "    dat_cl = pd.read_csv(os.path.join(wdir, 'data_obs','clusters_arya',file))\n",
    "\n",
    "    dat_cl = dat_cl[dat_cl['Z']>0]\n",
    "    \n",
    "    # Cluster center\n",
    "    cl = np.zeros(shape=(1,),dtype=obj_dtype)\n",
    "\n",
    "    cl['ra'] = np.mean(dat_cl['RA'])\n",
    "    cl['dec'] = np.mean(dat_cl['DEC'])\n",
    "    \n",
    "    if len(dat_cl['Z_SPEC'].unique()):\n",
    "        cl['z'] = dat_cl['Z_SPEC'].unique()[0]\n",
    "    else:\n",
    "        raise Exception('multiple cl centers')\n",
    "        \n",
    "        \n",
    "    # Galaxies\n",
    "    gals = np.zeros(shape=(len(dat_cl),), dtype=obj_dtype)\n",
    "\n",
    "    gals['z'] = dat_cl['Z']\n",
    "    gals['ra'] = dat_cl['RA']\n",
    "    gals['dec'] = dat_cl['DEC']\n",
    "\n",
    "    gals = add_vlos_Rproj(gals, cl)\n",
    "\n",
    "    gals = cylinder_cut(gals, cl)\n",
    "    \n",
    "    if len(gals)<10:\n",
    "        ignored+=1\n",
    "        continue\n",
    "        \n",
    "    kdeval_1d = kde_1d(gals,cl)\n",
    "    kdeval_2d = kde_2d(gals,cl)\n",
    "    \n",
    "    logM_gamma_cnn1d.append(np.mean( [logM_from_y1d(model_1d[j].predict(kdeval_1d)).flatten()[0] \\\n",
    "                                      for j in range(10)] ))\n",
    "    logM_gamma_cnn2d.append(np.mean( [logM_from_y2d(model_2d[j].predict(kdeval_2d)).flatten()[0] \\\n",
    "                                      for j in range(10)] ))\n",
    "    \n",
    "    logM_gamma_vir.append(logMvir(np.std(gals['vlos'])))\n",
    "\n",
    "print('percent_removed:', ignored/len(cl_files))"
   ]
  },
  {
   "cell_type": "code",
   "execution_count": 66,
   "metadata": {},
   "outputs": [
    {
     "data": {
      "text/plain": [
       "Text(0,0.5,'logM_pred')"
      ]
     },
     "execution_count": 66,
     "metadata": {},
     "output_type": "execute_result"
    },
    {
     "data": {
      "image/png": "[encoded data removed]",
      "text/plain": [
       "<Figure size 432x288 with 1 Axes>"
      ]
     },
     "metadata": {},
     "output_type": "display_data"
    }
   ],
   "source": [
    "plt.plot(np.arange(13.25,15.25,0.1),np.arange(13.25,15.25,0.1),'k--')\n",
    "\n",
    "plt.plot(logM_gamma_vir,logM_gamma_cnn1d,'b.', label='cnn1d')\n",
    "plt.plot(logM_gamma_vir,logM_gamma_cnn2d,'r.', label='cnn2d')\n",
    "\n",
    "plt.legend()\n",
    "plt.xlabel('logM_vir')\n",
    "plt.ylabel('logM_pred')"
   ]
  },
  {
   "cell_type": "code",
   "execution_count": null,
   "metadata": {},
   "outputs": [],
   "source": []
  },
  {
   "cell_type": "code",
   "execution_count": null,
   "metadata": {},
   "outputs": [],
   "source": []
  },
  {
   "cell_type": "markdown",
   "metadata": {
    "heading_collapsed": true
   },
   "source": [
    "# Preprocessing"
   ]
  },
  {
   "cell_type": "markdown",
   "metadata": {
    "hidden": true
   },
   "source": [
    "## Sample Stats, Cylinder Cut"
   ]
  },
  {
   "cell_type": "code",
   "execution_count": 81,
   "metadata": {
    "hidden": true
   },
   "outputs": [
    {
     "data": {
      "text/plain": [
       "Text(0,0.5,'dec')"
      ]
     },
     "execution_count": 81,
     "metadata": {},
     "output_type": "execute_result"
    },
    {
     "data": {
      "image/png": "[encoded data removed]",
      "text/plain": [
       "<Figure size 432x288 with 1 Axes>"
      ]
     },
     "metadata": {},
     "output_type": "display_data"
    },
    {
     "data": {
      "image/png": "[encoded data removed]",
      "text/plain": [
       "<Figure size 288x288 with 1 Axes>"
      ]
     },
     "metadata": {},
     "output_type": "display_data"
    }
   ],
   "source": [
    "# p(z)\n",
    "\n",
    "\n",
    "\n",
    "plt.figure()\n",
    "x,y=plot_hist(dat_cl['Z'],label='z_spec')\n",
    "plt.xlabel('z')\n",
    "plt.legend()\n",
    "\n",
    "\n",
    "# projected plane-of-sky\n",
    "plt.figure(figsize=(4,4))\n",
    "plt.plot(dat_cl['RA'],dat_cl['DEC'],'.')\n",
    "plt.xlabel('ra')\n",
    "plt.ylabel('dec')"
   ]
  },
  {
   "cell_type": "code",
   "execution_count": 82,
   "metadata": {
    "hidden": true,
    "scrolled": false
   },
   "outputs": [],
   "source": [
    "# Calculate Rproj, vlos\n",
    "\n",
    "c = 299792.458  # [km/s]\n",
    "\n",
    "gal_vlos = c*(dat_cl['Z'] - cl_z)/(1.0+cl_z) # [km/s]\n",
    "\n",
    "pos_cl = SkyCoord(ra=cl_ra*units.deg, dec=cl_dec*units.deg)\n",
    "pos_gal = SkyCoord(ra=dat_cl['RA'].values*units.deg, dec=dat_cl['DEC'].values*units.deg)\n",
    "gal_Rproj = cosmo.kpc_proper_per_arcmin(cl_z).value * pos_gal.separation(pos_cl).arcmin / cosmo.h # [kpc/h]\n",
    "gal_Rproj /= 1000. # [Mpc/h]\n",
    "\n",
    "gal_vlos = gal_vlos.values\n",
    "# gal_Rproj = gal_Rproj.values"
   ]
  },
  {
   "cell_type": "code",
   "execution_count": 83,
   "metadata": {
    "hidden": true
   },
   "outputs": [],
   "source": [
    "# Cylinder cut\n",
    "\n",
    "members =(gal_vlos > -vcut) & (gal_vlos < vcut) & (gal_Rproj < aperture)\n",
    "gal_vlos = gal_vlos[members]\n",
    "gal_Rproj = gal_Rproj[members]"
   ]
  },
  {
   "cell_type": "code",
   "execution_count": 84,
   "metadata": {
    "hidden": true
   },
   "outputs": [
    {
     "data": {
      "text/plain": [
       "(-2500.0, 2500.0)"
      ]
     },
     "execution_count": 84,
     "metadata": {},
     "output_type": "execute_result"
    },
    {
     "data": {
      "image/png": "[encoded data removed]",
      "text/plain": [
       "<Figure size 432x288 with 1 Axes>"
      ]
     },
     "metadata": {},
     "output_type": "display_data"
    }
   ],
   "source": [
    "plt.figure()\n",
    "\n",
    "plt.plot(gal_Rproj, gal_vlos,'.')\n",
    "plt.xlabel('$R_\\mathrm{proj}$ [Mpc/h]')\n",
    "plt.ylabel('$v_\\mathrm{los}$ [km/s]')\n",
    "\n",
    "plt.xlim(0,aperture)\n",
    "plt.ylim(-vcut,vcut)"
   ]
  },
  {
   "cell_type": "markdown",
   "metadata": {
    "hidden": true
   },
   "source": [
    "## KDE"
   ]
  },
  {
   "cell_type": "code",
   "execution_count": 85,
   "metadata": {
    "hidden": true
   },
   "outputs": [
    {
     "data": {
      "image/png": "[encoded data removed]",
      "text/plain": [
       "<Figure size 504x360 with 3 Axes>"
      ]
     },
     "metadata": {},
     "output_type": "display_data"
    }
   ],
   "source": [
    "shape=(48,48)\n",
    "\n",
    "\n",
    "#1D KDE\n",
    "kde = gaussian_kde(gal_vlos, bw_method=kde_bandwidth)\n",
    "v_pos = np.linspace(-vcut, vcut, shape[1] + 1)\n",
    "v_pos = [np.mean(v_pos[[i,i+1]]) for i in range(len(v_pos)-1)]\n",
    "\n",
    "kdeval_1d = kde(v_pos)\n",
    "kdeval_1d = np.flip(kdeval_1d,0)/kdeval_1d.sum()\n",
    "\n",
    "\n",
    "#2D KDE\n",
    "a_pos = np.linspace(0, aperture, shape[0] + 1)\n",
    "a_pos = [np.mean(a_pos[[i,i+1]]) for i in range(len(a_pos)-1)]\n",
    "\n",
    "mesh = np.meshgrid(a_pos,v_pos)\n",
    "mesh = np.flip(mesh,0)\n",
    "sample = np.vstack([mesh[0].ravel(), mesh[1].ravel()]) # Sample at fixed intervals. Used to sample pdfs\n",
    "\n",
    "memb = np.ndarray(shape=(2,len(gal_vlos)))\n",
    "memb[0,:] = gal_vlos\n",
    "memb[1,:] = gal_Rproj\n",
    "\n",
    "# initialize a gaussian kde from galaxies\n",
    "kde = gaussian_kde(memb, kde_bandwidth)\n",
    "\n",
    "# sample kde at fixed intervals\n",
    "kdeval_2d = np.reshape(kde(sample), mesh[0].shape)\n",
    "\n",
    "# normalize input\n",
    "kdeval_2d /= kdeval_2d.sum()\n",
    "\n",
    "\n",
    "\n",
    "# plot\n",
    "f = plt.figure(figsize=(7,5))\n",
    "gs = mpl.gridspec.GridSpec(2,3, wspace=0.05,hspace=0.4, width_ratios=[1.2,2.8,1],height_ratios=[15,1])\n",
    "\n",
    "\n",
    "# 2D\n",
    "ax1 = f.add_subplot(gs[0,0:2])\n",
    "\n",
    "im =ax1.imshow(kdeval_2d, aspect='auto', interpolation='nearest',\n",
    "               extent=[0, aperture, -vcut, vcut])\n",
    "\n",
    "\n",
    "ax1.plot(gal_Rproj, \n",
    "         -gal_vlos,\n",
    "         'b.', markersize=5)\n",
    "\n",
    "ax1.set_ylim(-vcut, vcut)\n",
    "\n",
    "ax1.ticklabel_format(style='sci',axis='y', scilimits=(-1,1))\n",
    "ax1.set_aspect(aspect=aperture/(2*vcut),adjustable='box', anchor='E')\n",
    "# ax1.set_title('2D KDE', y=1.07)\n",
    "ax1.set_xlabel('$R_\\mathrm{proj}$ (Mpc h$^{-1}$)', fontsize=10)\n",
    "ax1.set_ylabel('$v_\\mathrm{los}$ (km s$^{-1}$)', fontsize=10)\n",
    "\n",
    "\n",
    "# 1D\n",
    "ax2 = f.add_subplot(gs[0,2])\n",
    "ax2.barh(v_pos, kdeval_1d, height=50)\n",
    "\n",
    "ax2.set_ylim(-vcut, vcut)\n",
    "\n",
    "# ax2.set_title('1D KDE', y=1.07)\n",
    "ax2.set_xlabel('Norm PDF', fontsize=10)\n",
    "# ax2.set_ylabel('$v_{los}$ (km s$^{-1}$)', fontsize=10)\n",
    "# ax2.yaxis.tick_right()\n",
    "# ax2.yaxis.set_label_position('right')\n",
    "ax2.set_yticks([])\n",
    "\n",
    "ax2.ticklabel_format(style='sci',axis='both', scilimits=(-1,1))\n",
    "ax2.xaxis.tick_top()\n",
    "ax2.xaxis.set_label_position('top')\n",
    "\n",
    "# Colorbar\n",
    "ax3 = f.add_subplot(gs[1,1])\n",
    "cmap = mpl.cm.cool\n",
    "norm = mpl.colors.Normalize(vmin=kdeval_2d.min(), vmax=kdeval_2d.max())\n",
    "\n",
    "cb = mpl.colorbar.ColorbarBase(label='Norm PDF', ax=ax3, norm=norm, orientation='horizontal')\n",
    "cb.set_label('Norm PDF',fontsize=10)\n",
    "cb.formatter.set_powerlimits((0, 1))\n",
    "cb.update_ticks()\n",
    "\n",
    "\n",
    "\n",
    "# plt.suptitle('$\\log[M_{200c}\\ ($M$_\\odot h^{-1})] = $' + str(np.log10(cat.prop.loc[i,'M200c']))[0:6], fontsize=14, y=1.05)\n",
    "\n",
    "# plt.tight_layout()\n",
    "\n",
    "# f.savefig(os.path.join(imdir,'ex_kde.pdf'),bbox_inches='tight')"
   ]
  },
  {
   "cell_type": "code",
   "execution_count": 86,
   "metadata": {
    "hidden": true
   },
   "outputs": [
    {
     "data": {
      "text/plain": [
       "array([0.34209111, 1.11555182, 0.18075832, 0.6086112 , 0.90338409,\n",
       "       1.27702716, 1.55290758, 1.56447674, 1.27635014, 0.90527459,\n",
       "       0.34435185, 0.18051852, 1.11433057, 0.60880274, 1.30432877,\n",
       "       1.27703347, 1.56500813, 0.90350422, 1.11581034, 0.34183103,\n",
       "       0.79592612, 0.58715284, 0.49540845, 0.11251688, 0.94142021,\n",
       "       0.30907062, 0.25230572, 0.31068956, 0.33255313, 0.51682964,\n",
       "       1.25358855, 0.81691094, 0.22456653, 1.50011899, 1.33835916,\n",
       "       0.59875968, 0.38002548, 0.3766731 , 1.33395674, 1.32638444,\n",
       "       0.22456653, 0.3766731 , 0.63504318, 0.22456653, 0.3766731 ,\n",
       "       0.63504318, 1.07288317, 0.66748004, 0.78618149, 0.36733082,\n",
       "       1.26036028, 0.41036695, 0.41036695, 0.42889851, 0.97585029,\n",
       "       1.26036028, 0.25272938, 0.9114728 , 1.20384182, 0.99438259,\n",
       "       0.42889851, 1.31535813, 0.97585029, 0.97585029, 1.20384182,\n",
       "       0.42889851])"
      ]
     },
     "execution_count": 86,
     "metadata": {},
     "output_type": "execute_result"
    }
   ],
   "source": [
    "gal_Rproj"
   ]
  },
  {
   "cell_type": "code",
   "execution_count": null,
   "metadata": {
    "hidden": true
   },
   "outputs": [],
   "source": []
  },
  {
   "cell_type": "markdown",
   "metadata": {},
   "source": [
    "# Load RedMapper"
   ]
  },
  {
   "cell_type": "code",
   "execution_count": 23,
   "metadata": {},
   "outputs": [
    {
     "name": "stdout",
     "output_type": "stream",
     "text": [
      "['SPECID' 'SURVEY' 'SURVEY_CODE' 'RA' 'DEC' 'WMIN' 'WMAX' 'Z' 'NQ' 'PROB'\n",
      " 'FILENAME' 'URL' 'URL_IMG' 'CATAID' 'GAMA_NAME' 'IC_FLAG' 'DIST'\n",
      " 'IS_SBEST' 'IS_BEST' 'NAME' 'RA_RM' 'DEC_RM' 'Z_LAMBDA' 'Z_LAMBDA_ERR'\n",
      " 'LAMBDA' 'LAMBDA_ERR' 'S' 'Z_SPEC' 'OBJID' 'IMAG' 'IMAG_ERR'\n",
      " 'MODEL_MAG_U' 'MODEL_MAGERR_U' 'MODEL_MAG_G' 'MODEL_MAGERR_G'\n",
      " 'MODEL_MAG_R' 'MODEL_MAGERR_R' 'MODEL_MAG_I' 'MODEL_MAGERR_I'\n",
      " 'MODEL_MAG_Z' 'MODEL_MAGERR_Z' 'ILUM' 'ang_sep' 'LOS_vel'\n",
      " 'proper_distance']\n"
     ]
    }
   ],
   "source": [
    "cl_files = os.listdir(os.path.join(wdir,'data_obs','clusters_arya'))\n",
    "cl_files = [i for i in cl_files if i[-4:]=='.csv']\n",
    "\n",
    "print(pd.read_csv(os.path.join(wdir, 'data_obs','clusters_arya',cl_files[0])).columns.values)"
   ]
  },
  {
   "cell_type": "markdown",
   "metadata": {},
   "source": [
    "## Duplicates"
   ]
  },
  {
   "cell_type": "code",
   "execution_count": 72,
   "metadata": {
    "scrolled": true
   },
   "outputs": [
    {
     "data": {
      "text/plain": [
       "0.1647744440397632"
      ]
     },
     "execution_count": 72,
     "metadata": {},
     "output_type": "execute_result"
    }
   ],
   "source": [
    "perc_dupl = []\n",
    "\n",
    "for cl in cl_files[:10]:\n",
    "#     print(cl)\n",
    "    dat_cl = pd.read_csv(os.path.join(wdir, 'data_obs','clusters_arya',cl))\n",
    "    \n",
    "    perc_dupl.append(np.sum(dat_cl.duplicated(subset=['RA','DEC']))/len(dat_cl))\n",
    "\n",
    "np.mean(perc_dupl)"
   ]
  },
  {
   "cell_type": "code",
   "execution_count": 73,
   "metadata": {
    "scrolled": true
   },
   "outputs": [
    {
     "data": {
      "text/html": [
       "<div>\n",
       "<style scoped>\n",
       "    .dataframe tbody tr th:only-of-type {\n",
       "        vertical-align: middle;\n",
       "    }\n",
       "\n",
       "    .dataframe tbody tr th {\n",
       "        vertical-align: top;\n",
       "    }\n",
       "\n",
       "    .dataframe thead th {\n",
       "        text-align: right;\n",
       "    }\n",
       "</style>\n",
       "<table border=\"1\" class=\"dataframe\">\n",
       "  <thead>\n",
       "    <tr style=\"text-align: right;\">\n",
       "      <th></th>\n",
       "      <th>SPECID</th>\n",
       "      <th>SURVEY</th>\n",
       "      <th>SURVEY_CODE</th>\n",
       "      <th>RA</th>\n",
       "      <th>DEC</th>\n",
       "      <th>WMIN</th>\n",
       "      <th>WMAX</th>\n",
       "      <th>Z</th>\n",
       "      <th>NQ</th>\n",
       "      <th>PROB</th>\n",
       "      <th>...</th>\n",
       "      <th>MODEL_MAG_R</th>\n",
       "      <th>MODEL_MAGERR_R</th>\n",
       "      <th>MODEL_MAG_I</th>\n",
       "      <th>MODEL_MAGERR_I</th>\n",
       "      <th>MODEL_MAG_Z</th>\n",
       "      <th>MODEL_MAGERR_Z</th>\n",
       "      <th>ILUM</th>\n",
       "      <th>ang_sep</th>\n",
       "      <th>LOS_vel</th>\n",
       "      <th>proper_distance</th>\n",
       "    </tr>\n",
       "  </thead>\n",
       "  <tbody>\n",
       "    <tr>\n",
       "      <th>301</th>\n",
       "      <td>G15_Y4_208_218</td>\n",
       "      <td>GAMA</td>\n",
       "      <td>5</td>\n",
       "      <td>213.42446</td>\n",
       "      <td>2.77143</td>\n",
       "      <td>3726.53</td>\n",
       "      <td>8857.58</td>\n",
       "      <td>0.70723</td>\n",
       "      <td>1</td>\n",
       "      <td>0.16</td>\n",
       "      <td>...</td>\n",
       "      <td>19.802841</td>\n",
       "      <td>0.040077</td>\n",
       "      <td>19.105967</td>\n",
       "      <td>0.033132</td>\n",
       "      <td>18.627953</td>\n",
       "      <td>0.075661</td>\n",
       "      <td>19.243595</td>\n",
       "      <td>0.45279</td>\n",
       "      <td>125199.292663</td>\n",
       "      <td>7982.430089</td>\n",
       "    </tr>\n",
       "    <tr>\n",
       "      <th>970</th>\n",
       "      <td>G15_Y6_098_260</td>\n",
       "      <td>GAMA</td>\n",
       "      <td>5</td>\n",
       "      <td>213.42446</td>\n",
       "      <td>2.77143</td>\n",
       "      <td>3727.88</td>\n",
       "      <td>8858.87</td>\n",
       "      <td>0.44282</td>\n",
       "      <td>4</td>\n",
       "      <td>1.00</td>\n",
       "      <td>...</td>\n",
       "      <td>19.802841</td>\n",
       "      <td>0.040077</td>\n",
       "      <td>19.105967</td>\n",
       "      <td>0.033132</td>\n",
       "      <td>18.627953</td>\n",
       "      <td>0.075661</td>\n",
       "      <td>19.243595</td>\n",
       "      <td>0.45279</td>\n",
       "      <td>59378.009770</td>\n",
       "      <td>7982.430089</td>\n",
       "    </tr>\n",
       "  </tbody>\n",
       "</table>\n",
       "<p>2 rows × 45 columns</p>\n",
       "</div>"
      ],
      "text/plain": [
       "                                SPECID     SURVEY  SURVEY_CODE         RA  \\\n",
       "301  G15_Y4_208_218                     GAMA                 5  213.42446   \n",
       "970  G15_Y6_098_260                     GAMA                 5  213.42446   \n",
       "\n",
       "         DEC     WMIN     WMAX        Z  NQ  PROB       ...       MODEL_MAG_R  \\\n",
       "301  2.77143  3726.53  8857.58  0.70723   1  0.16       ...         19.802841   \n",
       "970  2.77143  3727.88  8858.87  0.44282   4  1.00       ...         19.802841   \n",
       "\n",
       "    MODEL_MAGERR_R MODEL_MAG_I  MODEL_MAGERR_I MODEL_MAG_Z  MODEL_MAGERR_Z  \\\n",
       "301       0.040077   19.105967        0.033132   18.627953        0.075661   \n",
       "970       0.040077   19.105967        0.033132   18.627953        0.075661   \n",
       "\n",
       "          ILUM  ang_sep        LOS_vel proper_distance  \n",
       "301  19.243595  0.45279  125199.292663     7982.430089  \n",
       "970  19.243595  0.45279   59378.009770     7982.430089  \n",
       "\n",
       "[2 rows x 45 columns]"
      ]
     },
     "metadata": {},
     "output_type": "display_data"
    }
   ],
   "source": [
    "cl = np.random.choice(cl_files)\n",
    "dat_cl = pd.read_csv(os.path.join(wdir, 'data_obs','clusters_arya',cl))\n",
    "\n",
    "# print(dat_cl.columns.values)\n",
    "# print(len(dat_cl))\n",
    "\n",
    "# dat_cl[dat_cl.duplicated(subset=['RA','DEC'])].sort_values(['RA','DEC'])\n",
    "if np.sum(dat_cl.duplicated(subset=['RA','DEC']))>0:\n",
    "    i = np.random.choice(np.argwhere(dat_cl.duplicated(subset=['RA','DEC']).values).flatten())\n",
    "    display(dat_cl[np.sum(dat_cl[['RA','DEC']] == dat_cl[['RA','DEC']].iloc[i].values, axis=1)>0])"
   ]
  },
  {
   "cell_type": "markdown",
   "metadata": {},
   "source": [
    "## Load Single Clusters"
   ]
  },
  {
   "cell_type": "code",
   "execution_count": 79,
   "metadata": {},
   "outputs": [],
   "source": [
    "cl = np.random.choice(cl_files)\n",
    "dat_cl = pd.read_csv(os.path.join(wdir, 'data_obs','clusters_arya',cl))\n",
    "\n",
    "dat_cl = dat_cl[dat_cl['Z']>0]"
   ]
  },
  {
   "cell_type": "code",
   "execution_count": 80,
   "metadata": {},
   "outputs": [
    {
     "name": "stdout",
     "output_type": "stream",
     "text": [
      "z_0: 0.14816378\n",
      "ra_0: 221.817547015748\n",
      "dec_0: -1.2548185118110236\n"
     ]
    }
   ],
   "source": [
    "# Cluster center\n",
    "\n",
    "if len(dat_cl['Z_SPEC'].unique()):\n",
    "    cl_z = dat_cl['Z_SPEC'].unique()[0]\n",
    "else:\n",
    "    raise Exception('multiple cl centers')\n",
    "    \n",
    "cl_ra = np.mean(dat_cl['RA'])\n",
    "cl_dec = np.mean(dat_cl['DEC'])\n",
    "\n",
    "print('z_0:', cl_z)\n",
    "print('ra_0:', cl_ra)\n",
    "print('dec_0:', cl_dec)"
   ]
  },
  {
   "cell_type": "code",
   "execution_count": null,
   "metadata": {},
   "outputs": [],
   "source": []
  },
  {
   "cell_type": "code",
   "execution_count": null,
   "metadata": {},
   "outputs": [],
   "source": []
  },
  {
   "cell_type": "code",
   "execution_count": null,
   "metadata": {},
   "outputs": [],
   "source": []
  },
  {
   "cell_type": "code",
   "execution_count": null,
   "metadata": {},
   "outputs": [],
   "source": []
  },
  {
   "cell_type": "markdown",
   "metadata": {},
   "source": [
    "# Scratch"
   ]
  },
  {
   "cell_type": "code",
   "execution_count": 9,
   "metadata": {
    "ExecuteTime": {
     "end_time": "2019-04-04T06:48:18.109192Z",
     "start_time": "2019-04-04T06:48:17.519723Z"
    }
   },
   "outputs": [
    {
     "data": {
      "image/png": "[encoded data removed]",
      "text/plain": [
       "<Figure size 252x432 with 2 Axes>"
      ]
     },
     "metadata": {},
     "output_type": "display_data"
    }
   ],
   "source": [
    "model_name = 'halo_cnn2d_rP'\n",
    "model_num = 4\n",
    "\n",
    "data_dir = os.path.join(wdir, 'saved_models', model_name)\n",
    "model_name_save = model_name + '_' + str(model_num)\n",
    "\n",
    "cnn_dat = np.load(os.path.join(data_dir, model_name_save, model_name_save + '.npy'), \n",
    "                encoding='latin1').item()\n",
    "cnn_par = cnn_dat['params']\n",
    "\n",
    "one_to_one = np.arange(11)*(cnn_par['logmass_max'] - cnn_par['logmass_min'])/10. + cnn_par['logmass_min']\n",
    "\n",
    "f = plt.figure(figsize=[3.5,6])\n",
    "gs = mpl.gridspec.GridSpec(2,1,height_ratios=[4,1], hspace=0)\n",
    "\n",
    "ax1 = f.add_subplot(gs[0,0])\n",
    "ax1.plot(one_to_one,one_to_one, color='k', linestyle='dashed')\n",
    "\n",
    "matt.binnedplot(cnn_dat['logmass_test'], cnn_dat['logmass_pred'], n=20, \n",
    "            percentiles=[34,47], median=True, ax=ax1, log=0, c='g'\n",
    "            )\n",
    "ax1.set_ylabel(r'$\\log_{10}[M_\\mathrm{pred}\\ (\\mathrm{M}_\\odot h^{-1})$]',fontsize=12)\n",
    "\n",
    "ax1.set_xticklabels([])\n",
    "ax1.set_xlim(xmin=14, xmax=15)\n",
    "ax1.set_ylim(ymin=13.7, ymax=15.2)\n",
    "ax1.set_aspect(aspect='equal',adjustable='box', anchor='S')\n",
    "\n",
    "\n",
    "# pred_err = (10.**cnn_dat['logmass_pred'])/(10.**cnn_dat['logmass_test']) - 1.\n",
    "pred_err = cnn_dat['logmass_pred'] - cnn_dat['logmass_test']\n",
    "\n",
    "ax2 = f.add_subplot(gs[1,0])# , sharex=ax1)\n",
    "ax2.plot(one_to_one,[0]*len(one_to_one), color='k', linestyle='dashed')\n",
    "\n",
    "matt.binnedplot(cnn_dat['logmass_test'],pred_err,n=20, percentiles=[34, 47], \n",
    "                median=True, ax=ax2, label='cnn',c='g', errorbar=False, names=False, log=0)\n",
    "\n",
    "ax2.set_xlim(xmin=14, xmax=15)\n",
    "\n",
    "ax2.set_ylim(ymin=-0.4,ymax=0.4)\n",
    "ax2.set_ylabel(r'$\\epsilon$',fontsize=12)\n",
    "ax2.set_xlabel(r'$\\log_{10}[M_\\mathrm{true}\\ (\\mathrm{M}_\\odot h^{-1})$]',fontsize=12)\n",
    "\n",
    "# ax2.set_yticklabels([-0.5,0,1])\n",
    "\n",
    "\n",
    "ax1.set_title('CNN$_\\mathrm{2DP}$', fontsize=12)\n",
    "\n",
    "plt.tight_layout()\n",
    "\n",
    "# f.savefig(os.path.join(imdir,'pred_1d.pdf'),bbox_inches='tight', dpi=300)"
   ]
  },
  {
   "cell_type": "code",
   "execution_count": 11,
   "metadata": {
    "ExecuteTime": {
     "end_time": "2019-04-04T06:48:48.061891Z",
     "start_time": "2019-04-04T06:48:47.616064Z"
    }
   },
   "outputs": [
    {
     "data": {
      "text/plain": [
       "(array([    0.,     0.,     0.,     0.,     0., 74363.,     0.,     0.,\n",
       "            0.,     0.]),\n",
       " array([13.00062084, 13.10062084, 13.20062084, 13.30062084, 13.40062084,\n",
       "        13.50062084, 13.60062084, 13.70062084, 13.80062084, 13.90062084,\n",
       "        14.00062084]),\n",
       " <a list of 10 Patch objects>)"
      ]
     },
     "execution_count": 11,
     "metadata": {},
     "output_type": "execute_result"
    },
    {
     "data": {
      "image/png": "[encoded data removed]",
      "text/plain": [
       "<Figure size 720x720 with 1 Axes>"
      ]
     },
     "metadata": {},
     "output_type": "display_data"
    }
   ],
   "source": [
    "plt.hist(cnn_dat['logmass_pred'])"
   ]
  }
 ],
 "metadata": {
  "kernelspec": {
   "display_name": "Python 3",
   "language": "python",
   "name": "python3"
  },
  "language_info": {
   "codemirror_mode": {
    "name": "ipython",
    "version": 3
   },
   "file_extension": ".py",
   "mimetype": "text/x-python",
   "name": "python",
   "nbconvert_exporter": "python",
   "pygments_lexer": "ipython3",
   "version": "3.6.5"
  },
  "toc": {
   "base_numbering": 1,
   "nav_menu": {},
   "number_sections": true,
   "sideBar": true,
   "skip_h1_title": false,
   "title_cell": "Table of Contents",
   "title_sidebar": "Contents",
   "toc_cell": false,
   "toc_position": {},
   "toc_section_display": true,
   "toc_window_display": false
  }
 },
 "nbformat": 4,
 "nbformat_minor": 2
}
