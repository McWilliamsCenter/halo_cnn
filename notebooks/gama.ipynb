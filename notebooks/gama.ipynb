{
 "cells": [
  {
   "cell_type": "code",
   "execution_count": 1,
   "metadata": {
    "ExecuteTime": {
     "end_time": "2019-04-24T23:16:19.076721Z",
     "start_time": "2019-04-24T23:16:16.303425Z"
    },
    "scrolled": true
   },
   "outputs": [],
   "source": [
    "import numpy as np\n",
    "import os\n",
    "import pandas as pd\n",
    "import warnings\n",
    "from scipy.stats import gaussian_kde\n",
    "from astropy.cosmology import WMAP9 as cosmo\n",
    "from astropy.coordinates import SkyCoord\n",
    "from astropy import units\n",
    "from importlib import reload\n",
    "\n",
    "import matplotlib as mpl\n",
    "mpl.use('Agg')\n",
    "\n",
    "mpl.rcParams['figure.figsize'] = (7,7)\n",
    "mpl.rcParams['figure.facecolor'] = (1,1,1,1)\n",
    "mpl.rcParams.update({'font.size':22})\n",
    "\n",
    "% matplotlib inline\n",
    "\n",
    "import matplotlib.pyplot as plt"
   ]
  },
  {
   "cell_type": "code",
   "execution_count": 2,
   "metadata": {
    "ExecuteTime": {
     "end_time": "2019-04-24T23:16:21.216226Z",
     "start_time": "2019-04-24T23:16:19.079003Z"
    }
   },
   "outputs": [
    {
     "name": "stderr",
     "output_type": "stream",
     "text": [
      "Using Theano backend.\n"
     ]
    }
   ],
   "source": [
    "import keras"
   ]
  },
  {
   "cell_type": "code",
   "execution_count": 3,
   "metadata": {
    "ExecuteTime": {
     "end_time": "2019-04-24T23:16:21.222087Z",
     "start_time": "2019-04-24T23:16:21.218538Z"
    }
   },
   "outputs": [],
   "source": [
    "wdir = '/home/mho1/scratch/halo_cnn'\n",
    "\n",
    "\n",
    "imdir = '/home/mho1/halo_cnn/paper_images'"
   ]
  },
  {
   "cell_type": "code",
   "execution_count": 4,
   "metadata": {
    "ExecuteTime": {
     "end_time": "2019-04-24T23:16:21.945829Z",
     "start_time": "2019-04-24T23:16:21.224025Z"
    }
   },
   "outputs": [
    {
     "data": {
      "text/plain": [
       "<module 'tools.matt_tools' from '/home/mho1/halo_cnn/notebooks/tools/matt_tools.py'>"
      ]
     },
     "execution_count": 4,
     "metadata": {},
     "output_type": "execute_result"
    }
   ],
   "source": [
    "import tools.matt_tools as matt\n",
    "\n",
    "reload(matt)"
   ]
  },
  {
   "cell_type": "markdown",
   "metadata": {},
   "source": [
    "# Notes\n",
    "\n",
    " * Virial scaling: http://adsabs.harvard.edu/abs/2008ApJ...672..122E\n",
    " \n",
    " * Coma Mass WL 2007: ~1.88 * 10^15 M_sol/h   [ref: http://adsabs.harvard.edu/abs/2007ApJ...671.1466K]\n",
    " * Coma Mass Dyn 1987: ~0.95 * 10^15 M_sol/h [http://adsabs.harvard.edu/abs/1986AJ.....92.1248T]\n",
    " \n",
    "### Virgo (Photometric) \n",
    " * Virgo Survey: http://astrowww.phys.uvic.ca/~lff/NGVS/The_Data.html\n",
    " * Virgo Data: http://www.cadc-ccda.hia-iha.nrc-cnrc.gc.ca/en/"
   ]
  },
  {
   "cell_type": "markdown",
   "metadata": {},
   "source": [
    "# Tools"
   ]
  },
  {
   "cell_type": "code",
   "execution_count": 5,
   "metadata": {
    "ExecuteTime": {
     "end_time": "2019-04-24T23:16:21.951443Z",
     "start_time": "2019-04-24T23:16:21.948293Z"
    }
   },
   "outputs": [],
   "source": [
    "obj_dtype = [('z','f'),('ra','f'),('dec','f'), # raw\n",
    "             ('vlos','f'), ('Rproj','f')]      # derived"
   ]
  },
  {
   "cell_type": "code",
   "execution_count": 6,
   "metadata": {
    "ExecuteTime": {
     "end_time": "2019-04-24T23:16:21.974064Z",
     "start_time": "2019-04-24T23:16:21.953617Z"
    }
   },
   "outputs": [],
   "source": [
    "# ~~~~~ PLOTTING ~~~~~\n",
    "def plot_hist(data, n=30, label=None):\n",
    "    vals, bin_edg = np.histogram(data, bins=n, density=True)\n",
    "    \n",
    "    plt.plot([(bin_edg[i]+bin_edg[i+1])/2. for i in range(len(bin_edg)-1)],\n",
    "             vals,\n",
    "             label = label\n",
    "            )\n",
    "    \n",
    "    return vals, bin_edg\n",
    "\n",
    "# ~~~~~ COSMOLOGY ~~~~~\n",
    "def Rproj_from_radec(gals, cl):\n",
    "    pos_cl = SkyCoord(ra=cl['ra']*units.deg, dec=cl['dec']*units.deg)\n",
    "    pos_gal = SkyCoord(ra=gals['ra']*units.deg, dec=gals['dec']*units.deg)\n",
    "    \n",
    "    gal_Rproj = cosmo.kpc_proper_per_arcmin(cl['z']).value * \\\n",
    "                pos_gal.separation(pos_cl).arcmin / cosmo.h # [kpc/h]\n",
    "    gal_Rproj /= 1000. # [Mpc/h]\n",
    "    \n",
    "    gals['Rproj'] = gal_Rproj\n",
    "    \n",
    "    return gals\n",
    "\n",
    "def vlos_from_z(gals,cl):\n",
    "    c = 299792.458  # [km/s]\n",
    "    gal_vlos = c*(gals['z'] - cl['z'])/(1.0+cl['z']) # [km/s]\n",
    "    \n",
    "    gals['vlos'] = gal_vlos\n",
    "\n",
    "    return gals\n",
    "\n",
    "def add_vlos_Rproj(gals,cl):\n",
    "    \n",
    "    gals = vlos_from_z(gals,cl)\n",
    "    gals = Rproj_from_radec(gals,cl)\n",
    "    \n",
    "    return gals\n",
    "\n",
    "def logMvir(sigv):\n",
    "    # ref: http://adsabs.harvard.edu/abs/2008ApJ...672..122E\n",
    "    \n",
    "    sigv_15 = 1082.9 # km/s\n",
    "    alpha = 0.3361\n",
    "    \n",
    "    return np.log10((sigv/sigv_15)**(1/alpha) * 10**15)\n",
    "\n",
    "# ~~~~ PREPROCESSING ~~~~~\n",
    "\n",
    "def cylinder_cut(gals, cl, \n",
    "                 aperture=1.6, # Mpc/h\n",
    "                 vcut = 2500. # [km/s]\n",
    "                ):\n",
    "    \n",
    "    # Check for derived quantities\n",
    "    if (np.sum(gals['vlos']==0)!=0) | (np.sum(gals['Rproj']==0)!=0):\n",
    "        warnings.warn('Zero vlos, Rproj. Check if derived quantities have been updated.')\n",
    "    \n",
    "    members =(np.abs(gals['vlos']) < vcut) & (gals['Rproj'] < aperture)\n",
    "    \n",
    "    return gals[members]\n",
    "\n",
    "def kde_1d( gals,\n",
    "            shape = (48,1), bwidth = 0.25,\n",
    "            vcut = 2500. # [km/s]\n",
    "          ):\n",
    "    \n",
    "    # Check for derived quantities\n",
    "    if (np.sum(gals['vlos']==0)!=0):\n",
    "        warnings.warn('Zero vlos. Check if derived quantities have been updated.')\n",
    "    \n",
    "    v_pos = np.linspace(-vcut,vcut, shape[0]+1)\n",
    "    sample = [np.mean(v_pos[[i,i+1]]) for i in range(len(v_pos)-1)]\n",
    "    \n",
    "    kde = gaussian_kde(gals['vlos'], bwidth)\n",
    "    \n",
    "    kdeval = kde(sample).T\n",
    "    kdeval /= kdeval.sum()\n",
    "    \n",
    "    return kdeval.reshape(1,*shape)\n",
    "\n",
    "def kde_2d( gals,\n",
    "            shape=(48,48), bwidth=0.25,\n",
    "            vcut = 2500., # [km/s]\n",
    "            aperture = 1.6, # [Mpc/h]\n",
    "          ):\n",
    "    \n",
    "    v_pos = np.linspace(-vcut, vcut, shape[0] + 1)\n",
    "    a_pos = np.linspace(0, aperture, shape[1] + 1)\n",
    "    v_pos = [np.mean(v_pos[[i,i+1]]) for i in range(len(v_pos)-1)]\n",
    "    a_pos = [np.mean(a_pos[[i,i+1]]) for i in range(len(a_pos)-1)]\n",
    "\n",
    "    mesh = np.meshgrid(a_pos,v_pos)\n",
    "    mesh = np.flip(mesh,0)\n",
    "    sample = np.vstack([mesh[0].ravel(), mesh[1].ravel()])\n",
    "    \n",
    "    \n",
    "    kde = gaussian_kde((gals['vlos'],gals['Rproj']), bwidth)\n",
    "    \n",
    "    kdeval = np.reshape(kde(sample).T, mesh[0].shape)\n",
    "    kdeval /= kdeval.sum()\n",
    "    \n",
    "    return kdeval.reshape(1,*shape)\n",
    "\n",
    "def kde_Rproj( gals,\n",
    "               shape = (48,1), bwidth = 0.25,\n",
    "               aperture = 1.6, # [Mpc/h]\n",
    "             ):\n",
    "    \n",
    "    # Check for derived quantities\n",
    "    if (np.sum(gals['Rproj']==0)!=0):\n",
    "        warnings.warn('Zero Rproj. Check if derived quantities have been updated.')\n",
    "    \n",
    "    R_pos = np.linspace(0,aperture, shape[0]+1)\n",
    "    sample = [np.mean(R_pos[[i,i+1]]) for i in range(len(R_pos)-1)]\n",
    "    \n",
    "    kde = gaussian_kde(gals['Rproj'], bwidth)\n",
    "    \n",
    "    kdeval = kde(sample).T\n",
    "    kdeval /= kdeval.sum()\n",
    "    \n",
    "    return kdeval.reshape(1,*shape)"
   ]
  },
  {
   "cell_type": "code",
   "execution_count": null,
   "metadata": {},
   "outputs": [],
   "source": []
  },
  {
   "cell_type": "markdown",
   "metadata": {},
   "source": [
    "# Load Models"
   ]
  },
  {
   "cell_type": "markdown",
   "metadata": {},
   "source": [
    "## Point Estimation"
   ]
  },
  {
   "cell_type": "code",
   "execution_count": 12,
   "metadata": {
    "ExecuteTime": {
     "end_time": "2019-04-24T23:18:04.097859Z",
     "start_time": "2019-04-24T23:18:04.094349Z"
    }
   },
   "outputs": [],
   "source": [
    "# from paper\n",
    "# model_1d_num = 152\n",
    "# model_2d_num = 67\n",
    "\n",
    "# expanded range\n",
    "# model_1d_num = 154\n",
    "# model_2d_num =  74\n",
    "\n",
    "# train z=0.000\n",
    "model_1d_num = 158\n",
    "model_2d_num =  77"
   ]
  },
  {
   "cell_type": "code",
   "execution_count": 8,
   "metadata": {},
   "outputs": [
    {
     "name": "stdout",
     "output_type": "stream",
     "text": [
      "fold: 0\n",
      "fold: 1\n",
      "fold: 2\n",
      "fold: 3\n",
      "fold: 4\n",
      "fold: 5\n",
      "fold: 6\n",
      "fold: 7\n",
      "fold: 8\n",
      "fold: 9\n"
     ]
    }
   ],
   "source": [
    "# Load keras models\n",
    "\n",
    "model_1d = [None]*10\n",
    "model_2d = [None]*10\n",
    "\n",
    "for i in range(10):\n",
    "    print('fold:',i)\n",
    "    \n",
    "    model_1d[i] = keras.models.load_model('/home/mho1/scratch/halo_cnn/saved_models/halo_cnn1d_r/halo_cnn1d_r_' + \\\n",
    "                                           str(model_1d_num)+'/models/fold_'+str(i)+'.h5')\n",
    "    model_2d[i] = keras.models.load_model('/home/mho1/scratch/halo_cnn/saved_models/halo_cnn2d_r/halo_cnn2d_r_' + \\\n",
    "                                           str(model_2d_num)+'/models/fold_'+str(i)+'.h5')"
   ]
  },
  {
   "cell_type": "code",
   "execution_count": 13,
   "metadata": {
    "ExecuteTime": {
     "end_time": "2019-04-24T23:18:07.870532Z",
     "start_time": "2019-04-24T23:18:07.575535Z"
    }
   },
   "outputs": [],
   "source": [
    "# Load params\n",
    "\n",
    "par_1d = np.load('/home/mho1/scratch/halo_cnn/saved_models/halo_cnn1d_r/halo_cnn1d_r_' + \\\n",
    "                 str(model_1d_num)+'/halo_cnn1d_r_' + \\\n",
    "                 str(model_1d_num) + '.npy',\n",
    "                 encoding='latin1').item()['params']\n",
    "\n",
    "par_2d = np.load('/home/mho1/scratch/halo_cnn/saved_models/halo_cnn2d_r/halo_cnn2d_r_' + \\\n",
    "                 str(model_2d_num)+'/halo_cnn2d_r_' + \\\n",
    "                 str(model_2d_num) + '.npy',\n",
    "                 encoding='latin1').item()['params']\n",
    "\n",
    "def logM_from_y1d(y):\n",
    "    y = (y+1)/2.\n",
    "    return (par_1d['logmass_max'] - par_1d['logmass_min'])*y + par_1d['logmass_min']\n",
    "def logM_from_y2d(y):\n",
    "    y = (y+1)/2.\n",
    "    return (par_2d['logmass_max'] - par_2d['logmass_min'])*y + par_2d['logmass_min']"
   ]
  },
  {
   "cell_type": "code",
   "execution_count": 10,
   "metadata": {},
   "outputs": [
    {
     "data": {
      "text/plain": [
       "OrderedDict([('model_name', 'halo_cnn1d_r'),\n",
       "             ('wdir', '/home/mho1/scratch/halo_cnn/'),\n",
       "             ('in_folder', 'data_mocks'),\n",
       "             ('out_folder', 'data_processed'),\n",
       "             ('data_file', 'Rockstar_UM_z=0.117_contam_med.p'),\n",
       "             ('subsample', 1.0),\n",
       "             ('shape', (48,)),\n",
       "             ('bandwidth', 0.25),\n",
       "             ('nfolds', 10),\n",
       "             ('test_range', (79432823472428.22, 1258925411794166.2)),\n",
       "             ('dn_dlogm', 6.30957344480193e-06),\n",
       "             ('dlogm', 0.02),\n",
       "             ('batch_size', 50),\n",
       "             ('epochs', 20),\n",
       "             ('learning', 0.001),\n",
       "             ('validation', False),\n",
       "             ('logmass_min', 13.500058),\n",
       "             ('logmass_max', 15.333447),\n",
       "             ('model_num', 152)])"
      ]
     },
     "execution_count": 10,
     "metadata": {},
     "output_type": "execute_result"
    }
   ],
   "source": [
    "par_1d"
   ]
  },
  {
   "cell_type": "markdown",
   "metadata": {},
   "source": [
    "## Posterior Estimation"
   ]
  },
  {
   "cell_type": "code",
   "execution_count": 7,
   "metadata": {
    "ExecuteTime": {
     "end_time": "2019-04-24T23:16:26.913260Z",
     "start_time": "2019-04-24T23:16:26.910194Z"
    }
   },
   "outputs": [],
   "source": [
    "# model_1dP_num = 1\n",
    "# model_2dP_num = 7\n",
    "\n",
    "# train z=0.000\n",
    "model_1dP_num = 4\n",
    "model_2dP_num = 10"
   ]
  },
  {
   "cell_type": "code",
   "execution_count": 8,
   "metadata": {
    "ExecuteTime": {
     "end_time": "2019-04-24T23:17:35.675924Z",
     "start_time": "2019-04-24T23:16:27.535076Z"
    }
   },
   "outputs": [
    {
     "name": "stdout",
     "output_type": "stream",
     "text": [
      "fold: 0\n",
      "fold: 1\n",
      "fold: 2\n",
      "fold: 3\n",
      "fold: 4\n",
      "fold: 5\n",
      "fold: 6\n",
      "fold: 7\n",
      "fold: 8\n",
      "fold: 9\n"
     ]
    }
   ],
   "source": [
    "# Load keras models\n",
    "\n",
    "model_1dP = [None]*10\n",
    "model_2dP = [None]*10\n",
    "\n",
    "for i in range(10):\n",
    "    print('fold:',i)\n",
    "    \n",
    "    model_1dP[i] = keras.models.load_model('/home/mho1/scratch/halo_cnn/saved_models/halo_cnn1d_rP/halo_cnn1d_rP_' + \\\n",
    "                                            str(model_1dP_num)+'/models/fold_'+str(i)+'.h5')\n",
    "    model_2dP[i] = keras.models.load_model('/home/mho1/scratch/halo_cnn/saved_models/halo_cnn2d_rP/halo_cnn2d_rP_' + \\\n",
    "                                            str(model_2dP_num)+'/models/fold_'+str(i)+'.h5')"
   ]
  },
  {
   "cell_type": "code",
   "execution_count": 14,
   "metadata": {
    "ExecuteTime": {
     "end_time": "2019-04-24T23:18:11.759659Z",
     "start_time": "2019-04-24T23:18:11.735077Z"
    }
   },
   "outputs": [],
   "source": [
    "# Load params\n",
    "\n",
    "par_1dP = np.load('/home/mho1/scratch/halo_cnn/saved_models/halo_cnn1d_rP/halo_cnn1d_rP_' + \\\n",
    "                  str(model_1dP_num)+'/halo_cnn1d_rP_' + \\\n",
    "                  str(model_1dP_num) + '.npy',\n",
    "                  encoding='latin1').item()['params']\n",
    "\n",
    "par_2dP = np.load('/home/mho1/scratch/halo_cnn/saved_models/halo_cnn2d_rP/halo_cnn2d_rP_' + \\\n",
    "                  str(model_2dP_num)+'/halo_cnn2d_rP_' + \\\n",
    "                  str(model_2dP_num) + '.npy',\n",
    "                  encoding='latin1').item()['params']\n",
    "\n",
    "def logM_from_y1dP(y):\n",
    "    return (par_1dP['logmass_max'] - par_1dP['logmass_min'])*y + par_1dP['logmass_min']\n",
    "def logM_from_y2dP(y):\n",
    "    return (par_2dP['logmass_max'] - par_2dP['logmass_min'])*y + par_2dP['logmass_min']\n",
    "\n",
    "bin_edges_1dP = np.linspace(0, 1, par_1dP['nbins']+1)\n",
    "bin_centers_1dP = np.array([np.mean((bin_edges_1dP[i],bin_edges_1dP[i+1])) for i in range(par_1dP['nbins'])])\n",
    "bin_centers_1dP = logM_from_y1dP(bin_centers_1dP)\n",
    "\n",
    "bin_edges_2dP = np.linspace(0, 1, par_2dP['nbins']+1)\n",
    "bin_centers_2dP = np.array([np.mean((bin_edges_2dP[i],bin_edges_2dP[i+1])) for i in range(par_2dP['nbins'])])\n",
    "bin_centers_2dP = logM_from_y2dP(bin_centers_2dP)"
   ]
  },
  {
   "cell_type": "markdown",
   "metadata": {},
   "source": [
    "## Model parameters"
   ]
  },
  {
   "cell_type": "code",
   "execution_count": 15,
   "metadata": {
    "ExecuteTime": {
     "end_time": "2019-04-24T23:18:13.658974Z",
     "start_time": "2019-04-24T23:18:13.655547Z"
    }
   },
   "outputs": [],
   "source": [
    "shape_1d = (*par_1d['shape'],1)\n",
    "shape_2d = par_2d['shape']\n",
    "\n",
    "bandwidth=0.25\n",
    "\n",
    "# medium\n",
    "aperture = 1.6 # [Mpc/h]\n",
    "vcut = 2500. # [km/s]\n",
    "\n",
    "# large\n",
    "# aperture = 2.3 #Mpc/h\n",
    "# vcut = 3785. #km/s"
   ]
  },
  {
   "cell_type": "markdown",
   "metadata": {},
   "source": [
    "# Coma"
   ]
  },
  {
   "cell_type": "markdown",
   "metadata": {},
   "source": [
    "Mass Estimates\n",
    " * $M_\\mathrm{virial}\\left(\\leq2.7\\ h^{-1}Mpc\\right) = (0.95\\pm0.14)*10^{15}\\ h^{-1}Mpc$ [(1986)](http://adsabs.harvard.edu/abs/1986AJ.....92.1248T)\n",
    " * $M_\\mathrm{X-ray}\\left(\\leq 2.5\\ h^{-1}Mpc\\right) = (0.93\\pm0.12)*10^{15}\\ h^{-1}Mpc$  [(1989)](http://adsabs.harvard.edu/abs/1989ApJ...337...21H)\n",
    " * $M_\\mathrm{caustic}\\left(\\leq 5.5\\ h^{-1} Mpc\\right) = (1.44\\pm0.29)*10^{15}\\ h^{-1}M_\\odot$ [(1999)](http://adsabs.harvard.edu/abs/1999ApJ...517L..23G)\n",
    " * $M_\\mathrm{Jeans, sigv, kurt}\\left(\\leq2.03\\ h^{-1}Mpc\\right) = (0.98\\pm0.35)*10^{15}\\ h^{-1}M_\\odot$ [(2003)](http://adsabs.harvard.edu/abs/2003MNRAS.343..401L)\n",
    " * $M_{\\mathrm{WL}}\\left(\\leq1.99^{+0.21}_{-0.22}\\ h^{-1}Mpc\\right) = 1.88^{+0.65}_{-0.56}*10^{15}\\ h^{-1}M_\\odot$ [(2007)](http://adsabs.harvard.edu/abs/2007ApJ...671.1466K)\n",
    " * $M_\\mathrm{kinematic}\\left(\\leq1.64\\ h^{-1}Mpc\\right) = (0.62\\pm 0.16)*10^{15}\\ h^{-1}M_\\odot$ [(2014)](http://adsabs.harvard.edu/abs/2014MNRAS.442.1887F)"
   ]
  },
  {
   "cell_type": "code",
   "execution_count": 16,
   "metadata": {
    "ExecuteTime": {
     "end_time": "2019-04-24T23:18:16.223033Z",
     "start_time": "2019-04-24T23:18:16.201310Z"
    }
   },
   "outputs": [
    {
     "name": "stdout",
     "output_type": "stream",
     "text": [
      "['ra' 'dec' 'specobjid' 'z']\n"
     ]
    },
    {
     "data": {
      "text/html": [
       "<div>\n",
       "<style scoped>\n",
       "    .dataframe tbody tr th:only-of-type {\n",
       "        vertical-align: middle;\n",
       "    }\n",
       "\n",
       "    .dataframe tbody tr th {\n",
       "        vertical-align: top;\n",
       "    }\n",
       "\n",
       "    .dataframe thead th {\n",
       "        text-align: right;\n",
       "    }\n",
       "</style>\n",
       "<table border=\"1\" class=\"dataframe\">\n",
       "  <thead>\n",
       "    <tr style=\"text-align: right;\">\n",
       "      <th></th>\n",
       "      <th>RA</th>\n",
       "      <th>DEC</th>\n",
       "      <th>specobjid</th>\n",
       "      <th>Z</th>\n",
       "    </tr>\n",
       "  </thead>\n",
       "  <tbody>\n",
       "    <tr>\n",
       "      <th>0</th>\n",
       "      <td>193.97707</td>\n",
       "      <td>27.734459</td>\n",
       "      <td>7295860639766605824</td>\n",
       "      <td>2.888782</td>\n",
       "    </tr>\n",
       "    <tr>\n",
       "      <th>1</th>\n",
       "      <td>193.99803</td>\n",
       "      <td>28.486930</td>\n",
       "      <td>2264256514497734656</td>\n",
       "      <td>0.142809</td>\n",
       "    </tr>\n",
       "    <tr>\n",
       "      <th>2</th>\n",
       "      <td>193.99821</td>\n",
       "      <td>28.622316</td>\n",
       "      <td>7296075319411929088</td>\n",
       "      <td>0.511981</td>\n",
       "    </tr>\n",
       "    <tr>\n",
       "      <th>3</th>\n",
       "      <td>193.99900</td>\n",
       "      <td>27.955075</td>\n",
       "      <td>2522132678577252352</td>\n",
       "      <td>0.027008</td>\n",
       "    </tr>\n",
       "    <tr>\n",
       "      <th>4</th>\n",
       "      <td>194.09395</td>\n",
       "      <td>28.796575</td>\n",
       "      <td>7296086314528206848</td>\n",
       "      <td>0.530268</td>\n",
       "    </tr>\n",
       "  </tbody>\n",
       "</table>\n",
       "</div>"
      ],
      "text/plain": [
       "          RA        DEC            specobjid         Z\n",
       "0  193.97707  27.734459  7295860639766605824  2.888782\n",
       "1  193.99803  28.486930  2264256514497734656  0.142809\n",
       "2  193.99821  28.622316  7296075319411929088  0.511981\n",
       "3  193.99900  27.955075  2522132678577252352  0.027008\n",
       "4  194.09395  28.796575  7296086314528206848  0.530268"
      ]
     },
     "execution_count": 16,
     "metadata": {},
     "output_type": "execute_result"
    }
   ],
   "source": [
    "dat_cl = pd.read_csv(os.path.join(wdir,'data_obs','GAMAspec_coma','coma_cluster.csv'))\n",
    "\n",
    "print(dat_cl.columns.values)\n",
    "\n",
    "dat_cl=dat_cl.rename(index=str,columns={'ra':'RA','dec':'DEC','z':'Z'}) # same format as RedMapper\n",
    "\n",
    "dat_cl.head()"
   ]
  },
  {
   "cell_type": "code",
   "execution_count": 17,
   "metadata": {
    "ExecuteTime": {
     "end_time": "2019-04-24T23:18:16.686850Z",
     "start_time": "2019-04-24T23:18:16.680361Z"
    }
   },
   "outputs": [
    {
     "name": "stdout",
     "output_type": "stream",
     "text": [
      "z_0: [0.0231]\n",
      "ra_0: [194.87663]\n",
      "dec_0: [27.924927]\n"
     ]
    }
   ],
   "source": [
    "# Cluster center\n",
    "\n",
    "cl = np.zeros(shape=(1,),dtype=obj_dtype)\n",
    "\n",
    "cl['z'] = 0.0231 # wikipedia\n",
    "cl['ra'] = np.mean(dat_cl['RA'])\n",
    "cl['dec'] = np.mean(dat_cl['DEC'])\n",
    "\n",
    "print('z_0:', cl['z'])\n",
    "print('ra_0:', cl['ra'])\n",
    "print('dec_0:', cl['dec'])"
   ]
  },
  {
   "cell_type": "code",
   "execution_count": 18,
   "metadata": {
    "ExecuteTime": {
     "end_time": "2019-04-24T23:18:17.002029Z",
     "start_time": "2019-04-24T23:18:16.965967Z"
    }
   },
   "outputs": [],
   "source": [
    "# Galaxy sample\n",
    "\n",
    "gals = np.zeros(shape=(len(dat_cl),), dtype=obj_dtype)\n",
    "\n",
    "gals['z'] = dat_cl['Z']\n",
    "gals['ra'] = dat_cl['RA']\n",
    "gals['dec'] = dat_cl['DEC']\n",
    "\n",
    "gals = add_vlos_Rproj(gals, cl)\n",
    "\n",
    "gals = cylinder_cut(gals, cl, aperture=aperture, vcut=vcut)"
   ]
  },
  {
   "cell_type": "code",
   "execution_count": 19,
   "metadata": {
    "ExecuteTime": {
     "end_time": "2019-04-24T23:18:17.515107Z",
     "start_time": "2019-04-24T23:18:17.353260Z"
    }
   },
   "outputs": [
    {
     "data": {
      "text/plain": [
       "Text(0,0.5,'dec')"
      ]
     },
     "execution_count": 19,
     "metadata": {},
     "output_type": "execute_result"
    },
    {
     "data": {
      "image/png": "[encoded data removed]",
      "text/plain": [
       "<Figure size 360x360 with 1 Axes>"
      ]
     },
     "metadata": {},
     "output_type": "display_data"
    }
   ],
   "source": [
    "f = plt.figure(figsize=(5,5))\n",
    "\n",
    "plt.plot(gals['ra'], gals['dec'],'.')\n",
    "\n",
    "plt.xlabel('ra')\n",
    "plt.ylabel('dec')\n",
    "\n",
    "# f.savefig(os.path.join(imdir,'temp.png'),bbox_inches='tight', dpi=500)"
   ]
  },
  {
   "cell_type": "code",
   "execution_count": 20,
   "metadata": {
    "ExecuteTime": {
     "end_time": "2019-04-24T23:18:17.836274Z",
     "start_time": "2019-04-24T23:18:17.634646Z"
    }
   },
   "outputs": [],
   "source": [
    "kdeval_1d = kde_1d(gals, shape=shape_1d, vcut=vcut, bwidth=bandwidth)\n",
    "kdeval_2d = kde_2d(gals,  shape=shape_2d, aperture=aperture, vcut=vcut, bwidth=bandwidth)\n",
    "kdeval_Rproj = kde_Rproj(gals,  shape=shape_1d, aperture=aperture, bwidth=bandwidth)"
   ]
  },
  {
   "cell_type": "code",
   "execution_count": 21,
   "metadata": {
    "ExecuteTime": {
     "end_time": "2019-04-24T23:18:18.846955Z",
     "start_time": "2019-04-24T23:18:18.044554Z"
    }
   },
   "outputs": [
    {
     "data": {
      "image/png": "[encoded data removed]",
      "text/plain": [
       "<Figure size 504x457.2 with 4 Axes>"
      ]
     },
     "metadata": {},
     "output_type": "display_data"
    }
   ],
   "source": [
    "\n",
    "f = plt.figure(figsize=(7,6.35))\n",
    "gs = mpl.gridspec.GridSpec(2,3, wspace=0.05,hspace=0.05, width_ratios=[2.8,1.2,0.25],height_ratios=[5,15])\n",
    "\n",
    "\n",
    "# 2D\n",
    "ax1 = f.add_subplot(gs[1,0])\n",
    "\n",
    "im =ax1.imshow(kdeval_2d.reshape(48,48), aspect='auto', interpolation='nearest',\n",
    "               extent=[0, aperture, -vcut, vcut])\n",
    "\n",
    "ax1.plot(gals['Rproj'], \n",
    "         -gals['vlos'],\n",
    "         'b.', markersize=5)\n",
    "\n",
    "ax1.set_ylim(-vcut, vcut)\n",
    "\n",
    "ax1.ticklabel_format(style='sci',axis='y', scilimits=(-1,1))\n",
    "ax1.set_aspect(aspect=aperture/(2*vcut),adjustable='box', anchor='E')\n",
    "ax1.set_xlabel('$R_\\mathrm{proj}$ (Mpc h$^{-1}$)', fontsize=10)\n",
    "ax1.set_ylabel('$v_\\mathrm{los}$ (km s$^{-1}$)', fontsize=10)\n",
    "\n",
    "\n",
    "# 1D\n",
    "ax2 = f.add_subplot(gs[1,1])\n",
    "v_pos = np.linspace(-vcut, vcut, 48)\n",
    "ax2.barh(v_pos, kdeval_1d.reshape(48), height=50)\n",
    "\n",
    "ax2.set_ylim(-vcut, vcut)\n",
    "\n",
    "ax2.set_xlabel('Norm PDF', fontsize=10)\n",
    "ax2.set_yticks([])\n",
    "\n",
    "ax2.ticklabel_format(style='sci',axis='both', scilimits=(-1,1))\n",
    "ax2.xaxis.tick_top()\n",
    "ax2.xaxis.set_label_position('top')\n",
    "\n",
    "# Colorbar\n",
    "ax3 = f.add_subplot(gs[1,2])\n",
    "cmap = mpl.cm.cool\n",
    "norm = mpl.colors.Normalize(vmin=kdeval_2d.min(), vmax=kdeval_2d.max())\n",
    "\n",
    "cb = mpl.colorbar.ColorbarBase(label='Norm PDF', ax=ax3, norm=norm, orientation='vertical')\n",
    "cb.set_label('Norm PDF',fontsize=10)\n",
    "cb.formatter.set_powerlimits((0, 1))\n",
    "cb.update_ticks()\n",
    "\n",
    "# Rproj\n",
    "ax4 = f.add_subplot(gs[0,0])\n",
    "R_pos = np.linspace(0, aperture, 48)\n",
    "ax4.bar(R_pos, kdeval_Rproj.reshape(48), width=0.02)\n",
    "\n",
    "ax4.set_xlim(0,aperture)\n",
    "\n",
    "ax4.set_ylabel('Norm PDF', fontsize=10)\n",
    "ax4.set_xticks([])\n",
    "\n",
    "ax4.ticklabel_format(style='sci',axis='both', scilimits=(-1,1))\n",
    "# ax4.xaxis.tick_top()\n",
    "# ax2.xaxis.set_label_position('top')\n",
    "\n",
    "# f.savefig(os.path.join(imdir,'temp.png'),bbox_inches='tight', dpi=500)"
   ]
  },
  {
   "cell_type": "markdown",
   "metadata": {
    "heading_collapsed": true
   },
   "source": [
    "## Predict point"
   ]
  },
  {
   "cell_type": "code",
   "execution_count": 16,
   "metadata": {
    "hidden": true
   },
   "outputs": [
    {
     "name": "stdout",
     "output_type": "stream",
     "text": [
      "FOLD 0 ~~ cnn1d: 15.031668 \tcnn2d: 14.903128\n",
      "FOLD 1 ~~ cnn1d: 15.030928 \tcnn2d: 15.060169\n",
      "FOLD 2 ~~ cnn1d: 14.993503 \tcnn2d: 14.974661\n",
      "FOLD 3 ~~ cnn1d: 15.105907 \tcnn2d: 14.967083\n",
      "FOLD 4 ~~ cnn1d: 15.059788 \tcnn2d: 14.969452\n",
      "FOLD 5 ~~ cnn1d: 15.041889 \tcnn2d: 15.009367\n",
      "FOLD 6 ~~ cnn1d: 15.0523205 \tcnn2d: 14.928506\n",
      "FOLD 7 ~~ cnn1d: 14.976039 \tcnn2d: 14.9513\n",
      "FOLD 8 ~~ cnn1d: 15.051151 \tcnn2d: 14.955385\n",
      "FOLD 9 ~~ cnn1d: 15.041769 \tcnn2d: 14.959243\n",
      "\n",
      "AVG ~~ cnn1d: 15.038495 \tcnn2d: 14.96783\n",
      "\n",
      "STD ~~ cnn1d: 0.03376438 \tcnn2d: 0.040664904\n"
     ]
    },
    {
     "data": {
      "image/png": "[encoded data removed]",
      "text/plain": [
       "<Figure size 360x288 with 1 Axes>"
      ]
     },
     "metadata": {},
     "output_type": "display_data"
    }
   ],
   "source": [
    "logM_1d = [None]*10\n",
    "logM_2d = [None]*10\n",
    "\n",
    "for i in range(10):\n",
    "    logM_1d[i] = logM_from_y1d(model_1d[i].predict(kdeval_1d)).flatten()[0]\n",
    "    logM_2d[i] = logM_from_y2d(model_2d[i].predict(kdeval_2d)).flatten()[0]\n",
    "    \n",
    "    print('FOLD', i, '~~ cnn1d:', logM_1d[i],'\\tcnn2d:', logM_2d[i])\n",
    "    \n",
    "print('\\nAVG ~~ cnn1d:', np.mean(logM_1d), '\\tcnn2d:', np.mean(logM_2d))\n",
    "print('\\nSTD ~~ cnn1d:', np.std(logM_1d), '\\tcnn2d:', np.std(logM_2d))\n",
    "\n",
    "\n",
    "f = plt.figure(figsize=(5,4))\n",
    "\n",
    "plt.hist(logM_1d, label='cnn1d', color='b', alpha=0.25, range=(14.75,15.2))\n",
    "plt.hist(logM_2d, label='cnn2d', color='r', alpha=0.25, range=(14.75,15.2))\n",
    "plt.axvline(np.mean(logM_1d), color='b')\n",
    "plt.axvline(np.mean(logM_2d), color='r')\n",
    "\n",
    "plt.xlabel('$\\log M$')\n",
    "plt.ylabel('$N$')\n",
    "plt.legend()\n",
    "\n",
    "f.savefig(os.path.join(imdir,'temp.png'),bbox_inches='tight', dpi=500)"
   ]
  },
  {
   "cell_type": "markdown",
   "metadata": {},
   "source": [
    "## Predict posterior"
   ]
  },
  {
   "cell_type": "code",
   "execution_count": 22,
   "metadata": {
    "ExecuteTime": {
     "end_time": "2019-04-24T23:18:30.573170Z",
     "start_time": "2019-04-24T23:18:24.238711Z"
    }
   },
   "outputs": [
    {
     "name": "stdout",
     "output_type": "stream",
     "text": [
      "FOLD 0 ~~ cnn1dP: 15.02616 +- 0.14689 \tcnn2dP: 14.98814 +- 0.12383\n",
      "FOLD 1 ~~ cnn1dP: 15.02843 +- 0.15221 \tcnn2dP: 14.94721 +- 0.10111\n",
      "FOLD 2 ~~ cnn1dP: 14.99257 +- 0.15954 \tcnn2dP: 14.95244 +- 0.11161\n",
      "FOLD 3 ~~ cnn1dP: 15.03084 +- 0.14008 \tcnn2dP: 14.9689 +- 0.11134\n",
      "FOLD 4 ~~ cnn1dP: 15.02899 +- 0.147 \tcnn2dP: 14.92777 +- 0.1008\n",
      "FOLD 5 ~~ cnn1dP: 15.02102 +- 0.14411 \tcnn2dP: 15.01593 +- 0.11248\n",
      "FOLD 6 ~~ cnn1dP: 14.96457 +- 0.14298 \tcnn2dP: 14.98756 +- 0.11156\n",
      "FOLD 7 ~~ cnn1dP: 15.02479 +- 0.1462 \tcnn2dP: 14.962 +- 0.10947\n",
      "FOLD 8 ~~ cnn1dP: 15.05714 +- 0.15508 \tcnn2dP: 14.94438 +- 0.10988\n",
      "FOLD 9 ~~ cnn1dP: 14.97772 +- 0.15875 \tcnn2dP: 14.93431 +- 0.10236\n",
      "\n",
      "AVG ~~ cnn1dP: 15.015222584598595 \tcnn2dP: 14.96286516363201\n",
      "STD ~~ cnn1dP: 0.14942072171340148 \tcnn2dP: 0.1096378995277583\n"
     ]
    },
    {
     "data": {
      "image/png": "[encoded data removed]",
      "text/plain": [
       "<Figure size 360x288 with 1 Axes>"
      ]
     },
     "metadata": {},
     "output_type": "display_data"
    }
   ],
   "source": [
    "logM_1dP = np.zeros(shape=(par_1dP['nfolds'],par_1dP['nbins']))\n",
    "logM_2dP = np.zeros(shape=(par_2dP['nfolds'],par_2dP['nbins']))\n",
    "\n",
    "for i in range(par_1dP['nfolds']):\n",
    "    logM_1dP[i,:] = model_1dP[i].predict(kdeval_1d)[0]\n",
    "    logM_2dP[i,:] = model_2dP[i].predict(kdeval_2d)[0]\n",
    "    \n",
    "    pred_1dP = np.dot(logM_1dP[i,:], bin_centers_1dP)\n",
    "    pred_2dP = np.dot(logM_2dP[i,:], bin_centers_2dP)\n",
    "    std_1dP = np.sqrt(np.dot(logM_1dP[i,:], bin_centers_1dP**2) - pred_1dP**2)\n",
    "    std_2dP = np.sqrt(np.dot(logM_2dP[i,:], bin_centers_2dP**2) - pred_2dP**2)\n",
    "    \n",
    "    print('FOLD', i, '~~ cnn1dP:', round(pred_1dP,5),'+-',round(std_1dP,5),\n",
    "          '\\tcnn2dP:', round(pred_2dP,5),'+-',round(std_2dP,5),)\n",
    "    \n",
    "print('\\nAVG ~~ cnn1dP:', np.dot(np.mean(logM_1dP, axis=0),bin_centers_1dP), \n",
    "      '\\tcnn2dP:', np.dot(np.mean(logM_2dP, axis=0),bin_centers_2dP))\n",
    "print('STD ~~ cnn1dP:', np.sqrt(np.sum(np.dot(logM_1dP,bin_centers_1dP**2) - np.dot(logM_1dP,bin_centers_1dP)**2))/np.sqrt(par_1dP['nfolds'])\n",
    "      , '\\tcnn2dP:', np.sqrt(np.sum(np.dot(logM_2dP,bin_centers_2dP**2) - np.dot(logM_2dP,bin_centers_2dP)**2))/np.sqrt(par_2dP['nfolds']))\n",
    "\n",
    "f = plt.figure(figsize=(5,4))\n",
    "\n",
    "plt.plot(bin_centers_1dP, np.mean(logM_1dP,axis=0), label='cnn1dP', color='b', alpha=1)#, width=2.5/par_1dP['nbins'])\n",
    "plt.plot(bin_centers_2dP, np.mean(logM_2dP,axis=0), label='cnn2dP', color='r', alpha=1)#, width=2.5/par_2dP['nbins'])\n",
    "plt.axvline(np.dot(np.mean(logM_1dP, axis=0),bin_centers_1dP), color='b', alpha=0.35)\n",
    "plt.axvline(np.dot(np.mean(logM_2dP, axis=0),bin_centers_2dP), color='r', alpha=0.35)\n",
    "\n",
    "plt.xlabel('$\\log M$')\n",
    "plt.ylabel('PDF')\n",
    "\n",
    "plt.xlim(14,15.7)\n",
    "plt.ylim(0,0.2)\n",
    "plt.legend()\n",
    "\n",
    "f.savefig(os.path.join(imdir,'temp.png'),bbox_inches='tight', dpi=300)"
   ]
  },
  {
   "cell_type": "markdown",
   "metadata": {
    "heading_collapsed": true
   },
   "source": [
    "## GAMAspec_SDSS Clusters"
   ]
  },
  {
   "cell_type": "code",
   "execution_count": 10,
   "metadata": {
    "hidden": true
   },
   "outputs": [
    {
     "name": "stdout",
     "output_type": "stream",
     "text": [
      "['SPECID' 'SURVEY' 'SURVEY_CODE' 'RA' 'DEC' 'WMIN' 'WMAX' 'Z' 'NQ' 'PROB'\n",
      " 'FILENAME' 'URL' 'URL_IMG' 'CATAID' 'GAMA_NAME' 'IC_FLAG' 'DIST'\n",
      " 'IS_SBEST' 'IS_BEST' 'NAME' 'RA_RM' 'DEC_RM' 'Z_LAMBDA' 'Z_LAMBDA_ERR'\n",
      " 'LAMBDA' 'LAMBDA_ERR' 'S' 'Z_SPEC' 'OBJID' 'IMAG' 'IMAG_ERR'\n",
      " 'MODEL_MAG_U' 'MODEL_MAGERR_U' 'MODEL_MAG_G' 'MODEL_MAGERR_G'\n",
      " 'MODEL_MAG_R' 'MODEL_MAGERR_R' 'MODEL_MAG_I' 'MODEL_MAGERR_I'\n",
      " 'MODEL_MAG_Z' 'MODEL_MAGERR_Z' 'ILUM' 'ang_sep' 'LOS_vel'\n",
      " 'proper_distance']\n"
     ]
    }
   ],
   "source": [
    "cl_files = os.listdir(os.path.join(wdir,'data_obs','GAMAspec_SDSSclu'))\n",
    "cl_files = [i for i in cl_files if i[-4:]=='.csv']\n",
    "\n",
    "print(pd.read_csv(os.path.join(wdir, 'data_obs','GAMAspec_SDSSclu',cl_files[0])).columns.values)"
   ]
  },
  {
   "cell_type": "code",
   "execution_count": 11,
   "metadata": {
    "hidden": true,
    "scrolled": true
   },
   "outputs": [
    {
     "name": "stderr",
     "output_type": "stream",
     "text": [
      "/home/mho1/scratch/anaconda3/envs/jupy/lib/python3.6/site-packages/ipykernel_launcher.py:56: UserWarning: Zero vlos, Rproj. Check if derived quantities have been updated.\n"
     ]
    },
    {
     "ename": "KeyboardInterrupt",
     "evalue": "",
     "output_type": "error",
     "traceback": [
      "\u001b[0;31m---------------------------------------------------------------------------\u001b[0m",
      "\u001b[0;31mKeyboardInterrupt\u001b[0m                         Traceback (most recent call last)",
      "\u001b[0;32m<ipython-input-11-3967758a51b0>\u001b[0m in \u001b[0;36m<module>\u001b[0;34m()\u001b[0m\n\u001b[1;32m      8\u001b[0m     \u001b[0;31m# print(file)\u001b[0m\u001b[0;34m\u001b[0m\u001b[0;34m\u001b[0m\u001b[0m\n\u001b[1;32m      9\u001b[0m \u001b[0;34m\u001b[0m\u001b[0m\n\u001b[0;32m---> 10\u001b[0;31m     \u001b[0mdat_cl\u001b[0m \u001b[0;34m=\u001b[0m \u001b[0mpd\u001b[0m\u001b[0;34m.\u001b[0m\u001b[0mread_csv\u001b[0m\u001b[0;34m(\u001b[0m\u001b[0mos\u001b[0m\u001b[0;34m.\u001b[0m\u001b[0mpath\u001b[0m\u001b[0;34m.\u001b[0m\u001b[0mjoin\u001b[0m\u001b[0;34m(\u001b[0m\u001b[0mwdir\u001b[0m\u001b[0;34m,\u001b[0m \u001b[0;34m'data_obs'\u001b[0m\u001b[0;34m,\u001b[0m\u001b[0;34m'GAMAspec_SDSSclu'\u001b[0m\u001b[0;34m,\u001b[0m\u001b[0mfile\u001b[0m\u001b[0;34m)\u001b[0m\u001b[0;34m)\u001b[0m\u001b[0;34m\u001b[0m\u001b[0m\n\u001b[0m\u001b[1;32m     11\u001b[0m \u001b[0;34m\u001b[0m\u001b[0m\n\u001b[1;32m     12\u001b[0m     \u001b[0mdat_cl\u001b[0m \u001b[0;34m=\u001b[0m \u001b[0mdat_cl\u001b[0m\u001b[0;34m[\u001b[0m\u001b[0mdat_cl\u001b[0m\u001b[0;34m[\u001b[0m\u001b[0;34m'Z'\u001b[0m\u001b[0;34m]\u001b[0m\u001b[0;34m>\u001b[0m\u001b[0;36m0\u001b[0m\u001b[0;34m]\u001b[0m\u001b[0;34m\u001b[0m\u001b[0m\n",
      "\u001b[0;32m~/scratch/anaconda3/envs/jupy/lib/python3.6/site-packages/pandas/io/parsers.py\u001b[0m in \u001b[0;36mparser_f\u001b[0;34m(filepath_or_buffer, sep, delimiter, header, names, index_col, usecols, squeeze, prefix, mangle_dupe_cols, dtype, engine, converters, true_values, false_values, skipinitialspace, skiprows, nrows, na_values, keep_default_na, na_filter, verbose, skip_blank_lines, parse_dates, infer_datetime_format, keep_date_col, date_parser, dayfirst, iterator, chunksize, compression, thousands, decimal, lineterminator, quotechar, quoting, escapechar, comment, encoding, dialect, tupleize_cols, error_bad_lines, warn_bad_lines, skipfooter, doublequote, delim_whitespace, low_memory, memory_map, float_precision)\u001b[0m\n\u001b[1;32m    676\u001b[0m                     skip_blank_lines=skip_blank_lines)\n\u001b[1;32m    677\u001b[0m \u001b[0;34m\u001b[0m\u001b[0m\n\u001b[0;32m--> 678\u001b[0;31m         \u001b[0;32mreturn\u001b[0m \u001b[0m_read\u001b[0m\u001b[0;34m(\u001b[0m\u001b[0mfilepath_or_buffer\u001b[0m\u001b[0;34m,\u001b[0m \u001b[0mkwds\u001b[0m\u001b[0;34m)\u001b[0m\u001b[0;34m\u001b[0m\u001b[0m\n\u001b[0m\u001b[1;32m    679\u001b[0m \u001b[0;34m\u001b[0m\u001b[0m\n\u001b[1;32m    680\u001b[0m     \u001b[0mparser_f\u001b[0m\u001b[0;34m.\u001b[0m\u001b[0m__name__\u001b[0m \u001b[0;34m=\u001b[0m \u001b[0mname\u001b[0m\u001b[0;34m\u001b[0m\u001b[0m\n",
      "\u001b[0;32m~/scratch/anaconda3/envs/jupy/lib/python3.6/site-packages/pandas/io/parsers.py\u001b[0m in \u001b[0;36m_read\u001b[0;34m(filepath_or_buffer, kwds)\u001b[0m\n\u001b[1;32m    444\u001b[0m \u001b[0;34m\u001b[0m\u001b[0m\n\u001b[1;32m    445\u001b[0m     \u001b[0;32mtry\u001b[0m\u001b[0;34m:\u001b[0m\u001b[0;34m\u001b[0m\u001b[0m\n\u001b[0;32m--> 446\u001b[0;31m         \u001b[0mdata\u001b[0m \u001b[0;34m=\u001b[0m \u001b[0mparser\u001b[0m\u001b[0;34m.\u001b[0m\u001b[0mread\u001b[0m\u001b[0;34m(\u001b[0m\u001b[0mnrows\u001b[0m\u001b[0;34m)\u001b[0m\u001b[0;34m\u001b[0m\u001b[0m\n\u001b[0m\u001b[1;32m    447\u001b[0m     \u001b[0;32mfinally\u001b[0m\u001b[0;34m:\u001b[0m\u001b[0;34m\u001b[0m\u001b[0m\n\u001b[1;32m    448\u001b[0m         \u001b[0mparser\u001b[0m\u001b[0;34m.\u001b[0m\u001b[0mclose\u001b[0m\u001b[0;34m(\u001b[0m\u001b[0;34m)\u001b[0m\u001b[0;34m\u001b[0m\u001b[0m\n",
      "\u001b[0;32m~/scratch/anaconda3/envs/jupy/lib/python3.6/site-packages/pandas/io/parsers.py\u001b[0m in \u001b[0;36mread\u001b[0;34m(self, nrows)\u001b[0m\n\u001b[1;32m   1034\u001b[0m                 \u001b[0;32mraise\u001b[0m \u001b[0mValueError\u001b[0m\u001b[0;34m(\u001b[0m\u001b[0;34m'skipfooter not supported for iteration'\u001b[0m\u001b[0;34m)\u001b[0m\u001b[0;34m\u001b[0m\u001b[0m\n\u001b[1;32m   1035\u001b[0m \u001b[0;34m\u001b[0m\u001b[0m\n\u001b[0;32m-> 1036\u001b[0;31m         \u001b[0mret\u001b[0m \u001b[0;34m=\u001b[0m \u001b[0mself\u001b[0m\u001b[0;34m.\u001b[0m\u001b[0m_engine\u001b[0m\u001b[0;34m.\u001b[0m\u001b[0mread\u001b[0m\u001b[0;34m(\u001b[0m\u001b[0mnrows\u001b[0m\u001b[0;34m)\u001b[0m\u001b[0;34m\u001b[0m\u001b[0m\n\u001b[0m\u001b[1;32m   1037\u001b[0m \u001b[0;34m\u001b[0m\u001b[0m\n\u001b[1;32m   1038\u001b[0m         \u001b[0;31m# May alter columns / col_dict\u001b[0m\u001b[0;34m\u001b[0m\u001b[0;34m\u001b[0m\u001b[0m\n",
      "\u001b[0;32m~/scratch/anaconda3/envs/jupy/lib/python3.6/site-packages/pandas/io/parsers.py\u001b[0m in \u001b[0;36mread\u001b[0;34m(self, nrows)\u001b[0m\n\u001b[1;32m   1846\u001b[0m     \u001b[0;32mdef\u001b[0m \u001b[0mread\u001b[0m\u001b[0;34m(\u001b[0m\u001b[0mself\u001b[0m\u001b[0;34m,\u001b[0m \u001b[0mnrows\u001b[0m\u001b[0;34m=\u001b[0m\u001b[0;32mNone\u001b[0m\u001b[0;34m)\u001b[0m\u001b[0;34m:\u001b[0m\u001b[0;34m\u001b[0m\u001b[0m\n\u001b[1;32m   1847\u001b[0m         \u001b[0;32mtry\u001b[0m\u001b[0;34m:\u001b[0m\u001b[0;34m\u001b[0m\u001b[0m\n\u001b[0;32m-> 1848\u001b[0;31m             \u001b[0mdata\u001b[0m \u001b[0;34m=\u001b[0m \u001b[0mself\u001b[0m\u001b[0;34m.\u001b[0m\u001b[0m_reader\u001b[0m\u001b[0;34m.\u001b[0m\u001b[0mread\u001b[0m\u001b[0;34m(\u001b[0m\u001b[0mnrows\u001b[0m\u001b[0;34m)\u001b[0m\u001b[0;34m\u001b[0m\u001b[0m\n\u001b[0m\u001b[1;32m   1849\u001b[0m         \u001b[0;32mexcept\u001b[0m \u001b[0mStopIteration\u001b[0m\u001b[0;34m:\u001b[0m\u001b[0;34m\u001b[0m\u001b[0m\n\u001b[1;32m   1850\u001b[0m             \u001b[0;32mif\u001b[0m \u001b[0mself\u001b[0m\u001b[0;34m.\u001b[0m\u001b[0m_first_chunk\u001b[0m\u001b[0;34m:\u001b[0m\u001b[0;34m\u001b[0m\u001b[0m\n",
      "\u001b[0;32mpandas/_libs/parsers.pyx\u001b[0m in \u001b[0;36mpandas._libs.parsers.TextReader.read\u001b[0;34m()\u001b[0m\n",
      "\u001b[0;32mpandas/_libs/parsers.pyx\u001b[0m in \u001b[0;36mpandas._libs.parsers.TextReader._read_low_memory\u001b[0;34m()\u001b[0m\n",
      "\u001b[0;32mpandas/_libs/parsers.pyx\u001b[0m in \u001b[0;36mpandas._libs.parsers.TextReader._read_rows\u001b[0;34m()\u001b[0m\n",
      "\u001b[0;32mpandas/_libs/parsers.pyx\u001b[0m in \u001b[0;36mpandas._libs.parsers.TextReader._convert_column_data\u001b[0;34m()\u001b[0m\n",
      "\u001b[0;32mpandas/_libs/parsers.pyx\u001b[0m in \u001b[0;36mpandas._libs.parsers.TextReader._convert_tokens\u001b[0;34m()\u001b[0m\n",
      "\u001b[0;32mpandas/_libs/parsers.pyx\u001b[0m in \u001b[0;36mpandas._libs.parsers.TextReader._convert_with_dtype\u001b[0;34m()\u001b[0m\n",
      "\u001b[0;32m~/scratch/anaconda3/envs/jupy/lib/python3.6/site-packages/pandas/core/dtypes/common.py\u001b[0m in \u001b[0;36mis_integer_dtype\u001b[0;34m(arr_or_dtype)\u001b[0m\n\u001b[1;32m    809\u001b[0m \u001b[0;34m\u001b[0m\u001b[0m\n\u001b[1;32m    810\u001b[0m \u001b[0;34m\u001b[0m\u001b[0m\n\u001b[0;32m--> 811\u001b[0;31m \u001b[0;32mdef\u001b[0m \u001b[0mis_integer_dtype\u001b[0m\u001b[0;34m(\u001b[0m\u001b[0marr_or_dtype\u001b[0m\u001b[0;34m)\u001b[0m\u001b[0;34m:\u001b[0m\u001b[0;34m\u001b[0m\u001b[0m\n\u001b[0m\u001b[1;32m    812\u001b[0m     \"\"\"\n\u001b[1;32m    813\u001b[0m     \u001b[0mCheck\u001b[0m \u001b[0mwhether\u001b[0m \u001b[0mthe\u001b[0m \u001b[0mprovided\u001b[0m \u001b[0marray\u001b[0m \u001b[0;32mor\u001b[0m \u001b[0mdtype\u001b[0m \u001b[0;32mis\u001b[0m \u001b[0mof\u001b[0m \u001b[0man\u001b[0m \u001b[0minteger\u001b[0m \u001b[0mdtype\u001b[0m\u001b[0;34m.\u001b[0m\u001b[0;34m\u001b[0m\u001b[0m\n",
      "\u001b[0;31mKeyboardInterrupt\u001b[0m: "
     ]
    }
   ],
   "source": [
    "ignored = 0\n",
    "\n",
    "logM_gamma_cnn1d = []\n",
    "logM_gamma_cnn2d = []\n",
    "logM_gamma_vir = []\n",
    "\n",
    "for file in cl_files:\n",
    "    # print(file)\n",
    "    \n",
    "    dat_cl = pd.read_csv(os.path.join(wdir, 'data_obs','GAMAspec_SDSSclu',file))\n",
    "\n",
    "    dat_cl = dat_cl[dat_cl['Z']>0]\n",
    "    \n",
    "    # Cluster center\n",
    "    cl = np.zeros(shape=(1,),dtype=obj_dtype)\n",
    "\n",
    "    cl['ra'] = np.mean(dat_cl['RA'])\n",
    "    cl['dec'] = np.mean(dat_cl['DEC'])\n",
    "    \n",
    "    if len(dat_cl['Z_SPEC'].unique()):\n",
    "        cl['z'] = dat_cl['Z_SPEC'].unique()[0]\n",
    "    else:\n",
    "        raise Exception('multiple cl centers')\n",
    "        \n",
    "        \n",
    "    # Galaxies\n",
    "    gals = np.zeros(shape=(len(dat_cl),), dtype=obj_dtype)\n",
    "\n",
    "    gals['z'] = dat_cl['Z']\n",
    "    gals['ra'] = dat_cl['RA']\n",
    "    gals['dec'] = dat_cl['DEC']\n",
    "\n",
    "    gals = add_vlos_Rproj(gals, cl)\n",
    "\n",
    "    gals = cylinder_cut(gals, cl)\n",
    "    \n",
    "    if len(gals)<10:\n",
    "        ignored+=1\n",
    "        continue\n",
    "        \n",
    "    kdeval_1d = kde_1d(gals)\n",
    "    kdeval_2d = kde_2d(gals)\n",
    "    \n",
    "    logM_gamma_cnn1d.append(np.mean( [logM_from_y1d(model_1d[j].predict(kdeval_1d)).flatten()[0] \\\n",
    "                                      for j in range(10)] ))\n",
    "    logM_gamma_cnn2d.append(np.mean( [logM_from_y2d(model_2d[j].predict(kdeval_2d)).flatten()[0] \\\n",
    "                                      for j in range(10)] ))\n",
    "    \n",
    "    logM_gamma_vir.append(logMvir(np.std(gals['vlos'])))\n",
    "\n",
    "print('percent_removed:', ignored/len(cl_files))"
   ]
  },
  {
   "cell_type": "code",
   "execution_count": null,
   "metadata": {
    "hidden": true
   },
   "outputs": [],
   "source": [
    "plt.plot(np.arange(13.25,15.25,0.1),np.arange(13.25,15.25,0.1),'k--')\n",
    "\n",
    "plt.plot(logM_gamma_vir,logM_gamma_cnn1d,'b.', label='cnn1d')\n",
    "plt.plot(logM_gamma_vir,logM_gamma_cnn2d,'r.', label='cnn2d')\n",
    "\n",
    "plt.legend()\n",
    "plt.xlabel('logM_vir')\n",
    "plt.ylabel('logM_pred')"
   ]
  },
  {
   "cell_type": "code",
   "execution_count": null,
   "metadata": {
    "hidden": true
   },
   "outputs": [],
   "source": []
  },
  {
   "cell_type": "markdown",
   "metadata": {
    "heading_collapsed": true
   },
   "source": [
    "## GAMAspec_GAMAClu"
   ]
  },
  {
   "cell_type": "code",
   "execution_count": 24,
   "metadata": {
    "hidden": true
   },
   "outputs": [
    {
     "name": "stdout",
     "output_type": "stream",
     "text": [
      "['DEC' 'R' 'RA' 'VEL' 'z' 'GroupID' 'RA_cent' 'DEC_cent' 'z_cent']\n"
     ]
    }
   ],
   "source": [
    "subfolder = 'IterCen'\n",
    "\n",
    "cl_files = os.listdir(os.path.join(wdir,'data_obs','GAMAspec_GAMAclu',\n",
    "                                   'GAMA', subfolder))\n",
    "cl_files = [i for i in cl_files if i[-4:]=='.csv']\n",
    "\n",
    "print(pd.read_csv(os.path.join(wdir, 'data_obs','GAMAspec_GAMAclu','GAMA',\n",
    "                               subfolder,cl_files[0])).columns.values)"
   ]
  },
  {
   "cell_type": "code",
   "execution_count": 25,
   "metadata": {
    "hidden": true
   },
   "outputs": [],
   "source": [
    "dtype = [('filename','S15'),('id','i'),\n",
    "         ('RA_RM','f'),('DEC_RM','f'),('Z_SPEC','f'),('richness','i'),\n",
    "         ('logM_1D','f'),('logM_1D_std','f'),('logM_2D','f'),('logM_2D_std','f')\n",
    "         ,('logM_vir','f')\n",
    "        ]\n",
    "\n",
    "out = np.zeros(shape=(len(cl_files),), dtype=dtype)"
   ]
  },
  {
   "cell_type": "code",
   "execution_count": 26,
   "metadata": {
    "hidden": true
   },
   "outputs": [
    {
     "name": "stdout",
     "output_type": "stream",
     "text": [
      "0 / 207\n",
      "25 / 207\n",
      "50 / 207\n",
      "75 / 207\n",
      "100 / 207\n",
      "125 / 207\n",
      "150 / 207\n",
      "175 / 207\n",
      "200 / 207\n"
     ]
    }
   ],
   "source": [
    "for i in range(len(cl_files)):\n",
    "    if i%25==0: print(i,'/',len(cl_files))\n",
    "    \n",
    "    file = cl_files[i]\n",
    "    \n",
    "    dat_cl = pd.read_csv(os.path.join(wdir, 'data_obs','GAMAspec_GAMAclu','GAMA',\n",
    "                                      subfolder,file))\n",
    "\n",
    "    dat_cl = dat_cl[dat_cl['z']>0]\n",
    "    \n",
    "    # Cluster center\n",
    "    cl = np.zeros(shape=(1,),dtype=obj_dtype)\n",
    "\n",
    "    if ((len(dat_cl['z_cent'].unique())==1)| \\\n",
    "        (len(dat_cl['RA_cent'].unique())==1))| \\\n",
    "        (len(dat_cl['DEC_cent'].unique())==1):\n",
    "        \n",
    "        cl['ra'] = dat_cl['RA_cent'].unique()[0]\n",
    "        cl['dec'] = dat_cl['DEC_cent'].unique()[0]\n",
    "        cl['z'] = dat_cl['z_cent'].unique()[0]\n",
    "    else:\n",
    "        raise Exception('multiple cl centers')\n",
    "        \n",
    "    # Galaxies\n",
    "    gals = np.zeros(shape=(len(dat_cl),), dtype=obj_dtype)\n",
    "\n",
    "    gals['z'] = dat_cl['z']\n",
    "    gals['ra'] = dat_cl['RA']\n",
    "    gals['dec'] = dat_cl['DEC']\n",
    "\n",
    "    gals = add_vlos_Rproj(gals, cl)\n",
    "\n",
    "    gals = cylinder_cut(gals, cl)\n",
    "    \n",
    "    # build_output\n",
    "    out[i]['filename'] = file\n",
    "    out[i]['id'] = dat_cl['GroupID'].unique()[0]\n",
    "    out[i]['RA_RM']=cl['ra']\n",
    "    out[i]['DEC_RM']=cl['dec']\n",
    "    out[i]['Z_SPEC']=cl['z']\n",
    "    out[i]['richness']=len(gals)\n",
    "    \n",
    "    # check minimum\n",
    "    if len(gals)<=2: continue\n",
    "        \n",
    "    # Generate KDEs\n",
    "    kdeval_1d = kde_1d(gals)\n",
    "    kdeval_2d = kde_2d(gals)\n",
    "    \n",
    "    # Make predictions\n",
    "    pred_1d = [logM_from_y1d(model_1d[j].predict(kdeval_1d)).flatten()[0] \\\n",
    "               for j in range(10)]\n",
    "    pred_2d = [logM_from_y2d(model_2d[j].predict(kdeval_2d)).flatten()[0] \\\n",
    "               for j in range(10)]\n",
    "    \n",
    "    out[i]['logM_1D'] = np.mean(pred_1d)\n",
    "    out[i]['logM_1D_std'] = np.std(pred_1d)\n",
    "    \n",
    "    out[i]['logM_2D'] = np.mean(pred_2d)\n",
    "    out[i]['logM_2D_std'] = np.std(pred_2d)\n",
    "    \n",
    "    out[i]['logM_vir'] = logMvir(np.std(gals['vlos']))"
   ]
  },
  {
   "cell_type": "code",
   "execution_count": 27,
   "metadata": {
    "hidden": true,
    "scrolled": true
   },
   "outputs": [
    {
     "data": {
      "image/png": "[encoded data removed]",
      "text/plain": [
       "<Figure size 720x720 with 1 Axes>"
      ]
     },
     "metadata": {},
     "output_type": "display_data"
    }
   ],
   "source": [
    "plt.plot(out['logM_vir'],out['logM_2D'],'.')\n",
    "plt.xlim(13,15)\n",
    "plt.ylim(13,15)\n",
    "\n",
    "np.save(os.path.join(wdir, 'data_obs','GAMAspec_GAMAclu','GAMAspec_GAMAclu_'+subfolder+'_preds.npy'),\n",
    "        out)"
   ]
  },
  {
   "cell_type": "code",
   "execution_count": 83,
   "metadata": {
    "hidden": true
   },
   "outputs": [
    {
     "data": {
      "text/plain": [
       "array([0.06282253, 0.        , 0.03465098, 0.03360208, 0.04950418,\n",
       "       0.10371772, 0.        , 0.05124923, 0.05330898, 0.08993527,\n",
       "       0.05672274, 0.06317617, 0.03136624, 0.        , 0.        ,\n",
       "       0.04207227, 0.03600651, 0.08860468, 0.02901666, 0.07636386,\n",
       "       0.04314354, 0.07216863, 0.07992739, 0.03613717, 0.04921009,\n",
       "       0.08140451, 0.02914772, 0.05933369, 0.12511185, 0.03024833,\n",
       "       0.06623714, 0.05152853, 0.04737621, 0.04271489, 0.04710503,\n",
       "       0.        , 0.05301557, 0.04066635, 0.05310243, 0.04105156,\n",
       "       0.0387366 , 0.05479076, 0.        , 0.        , 0.04038066,\n",
       "       0.05270715, 0.06711929, 0.02869759, 0.08368264, 0.03049948,\n",
       "       0.07051376, 0.03191863, 0.03352573, 0.        , 0.06742042,\n",
       "       0.03433686, 0.05930026, 0.02789173, 0.07422668, 0.03427512,\n",
       "       0.04090385, 0.04570702, 0.        , 0.06305625, 0.03622341,\n",
       "       0.05260765, 0.        , 0.03913743, 0.04331258, 0.06595346,\n",
       "       0.17340577, 0.04594875, 0.0439522 , 0.05207115, 0.02814689,\n",
       "       0.05804238, 0.04107676, 0.10361063, 0.05023074, 0.0382284 ,\n",
       "       0.04814504, 0.0527946 , 0.05226335, 0.        , 0.        ,\n",
       "       0.05067247, 0.04125499, 0.03453281, 0.04573712, 0.09687632,\n",
       "       0.03667227, 0.039821  , 0.04378187, 0.        , 0.10037471,\n",
       "       0.04720349, 0.05536442, 0.        , 0.05694858, 0.07106563,\n",
       "       0.04935431, 0.        , 0.05324214, 0.        , 0.04584641,\n",
       "       0.03795936, 0.0503864 , 0.06208554, 0.05759411, 0.14727813,\n",
       "       0.04586646, 0.        , 0.06490131, 0.02843388, 0.        ,\n",
       "       0.02726763, 0.06789496, 0.061667  , 0.07575724, 0.        ,\n",
       "       0.02913059, 0.11012223, 0.        , 0.06491981, 0.03433937,\n",
       "       0.03885433, 0.        , 0.03649567, 0.        , 0.03475975,\n",
       "       0.07125717, 0.06944588, 0.05572702, 0.09520014, 0.03979538,\n",
       "       0.06564455, 0.        , 0.07321281, 0.05027388, 0.        ,\n",
       "       0.05964611, 0.02507025, 0.03471516, 0.04138815, 0.04805752,\n",
       "       0.04729232, 0.08237402, 0.03963239, 0.03111626, 0.05488551,\n",
       "       0.07339185, 0.03750182, 0.        , 0.05596036, 0.03530613,\n",
       "       0.03224709, 0.1193896 , 0.07714876, 0.06830768, 0.        ,\n",
       "       0.053298  , 0.02929924, 0.05079261, 0.05526851, 0.        ,\n",
       "       0.06584508, 0.04099266, 0.04478306, 0.04084092, 0.05818009,\n",
       "       0.02356449], dtype=float32)"
      ]
     },
     "execution_count": 83,
     "metadata": {},
     "output_type": "execute_result"
    }
   ],
   "source": [
    "out['logM_1D_std']"
   ]
  },
  {
   "cell_type": "code",
   "execution_count": 70,
   "metadata": {
    "hidden": true
   },
   "outputs": [],
   "source": [
    "cl_files = os.listdir(os.path.join(wdir,'data_obs','temp','GAMA'))\n",
    "cl_files = [i for i in cl_files if i[-4:]=='.csv']\n",
    "\n",
    "file = cl_files[0]\n",
    "dat_gama = pd.read_csv(os.path.join(wdir, 'data_obs','temp','GAMA',file))"
   ]
  },
  {
   "cell_type": "code",
   "execution_count": 71,
   "metadata": {
    "hidden": true
   },
   "outputs": [
    {
     "data": {
      "text/html": [
       "<div>\n",
       "<style scoped>\n",
       "    .dataframe tbody tr th:only-of-type {\n",
       "        vertical-align: middle;\n",
       "    }\n",
       "\n",
       "    .dataframe tbody tr th {\n",
       "        vertical-align: top;\n",
       "    }\n",
       "\n",
       "    .dataframe thead th {\n",
       "        text-align: right;\n",
       "    }\n",
       "</style>\n",
       "<table border=\"1\" class=\"dataframe\">\n",
       "  <thead>\n",
       "    <tr style=\"text-align: right;\">\n",
       "      <th></th>\n",
       "      <th>DEC</th>\n",
       "      <th>R</th>\n",
       "      <th>RA</th>\n",
       "      <th>VEL</th>\n",
       "      <th>z</th>\n",
       "      <th>GroupID</th>\n",
       "    </tr>\n",
       "  </thead>\n",
       "  <tbody>\n",
       "    <tr>\n",
       "      <th>0</th>\n",
       "      <td>0.40102</td>\n",
       "      <td>3.952492</td>\n",
       "      <td>220.09029</td>\n",
       "      <td>-3669.153602</td>\n",
       "      <td>0.16484</td>\n",
       "      <td>300121</td>\n",
       "    </tr>\n",
       "    <tr>\n",
       "      <th>1</th>\n",
       "      <td>0.44999</td>\n",
       "      <td>3.878366</td>\n",
       "      <td>220.11046</td>\n",
       "      <td>-4088.613315</td>\n",
       "      <td>0.16319</td>\n",
       "      <td>300121</td>\n",
       "    </tr>\n",
       "    <tr>\n",
       "      <th>2</th>\n",
       "      <td>0.41293</td>\n",
       "      <td>3.623344</td>\n",
       "      <td>220.13617</td>\n",
       "      <td>-3437.815215</td>\n",
       "      <td>0.16575</td>\n",
       "      <td>300121</td>\n",
       "    </tr>\n",
       "    <tr>\n",
       "      <th>3</th>\n",
       "      <td>0.17546</td>\n",
       "      <td>3.664397</td>\n",
       "      <td>220.14425</td>\n",
       "      <td>-216.873054</td>\n",
       "      <td>0.17842</td>\n",
       "      <td>300121</td>\n",
       "    </tr>\n",
       "    <tr>\n",
       "      <th>4</th>\n",
       "      <td>0.10723</td>\n",
       "      <td>3.674732</td>\n",
       "      <td>220.17033</td>\n",
       "      <td>2559.187593</td>\n",
       "      <td>0.18934</td>\n",
       "      <td>300121</td>\n",
       "    </tr>\n",
       "  </tbody>\n",
       "</table>\n",
       "</div>"
      ],
      "text/plain": [
       "       DEC         R         RA          VEL        z  GroupID\n",
       "0  0.40102  3.952492  220.09029 -3669.153602  0.16484   300121\n",
       "1  0.44999  3.878366  220.11046 -4088.613315  0.16319   300121\n",
       "2  0.41293  3.623344  220.13617 -3437.815215  0.16575   300121\n",
       "3  0.17546  3.664397  220.14425  -216.873054  0.17842   300121\n",
       "4  0.10723  3.674732  220.17033  2559.187593  0.18934   300121"
      ]
     },
     "execution_count": 71,
     "metadata": {},
     "output_type": "execute_result"
    }
   ],
   "source": [
    "dat_gama.head()"
   ]
  },
  {
   "cell_type": "markdown",
   "metadata": {},
   "source": [
    "## Coma"
   ]
  },
  {
   "cell_type": "code",
   "execution_count": 49,
   "metadata": {},
   "outputs": [
    {
     "name": "stdout",
     "output_type": "stream",
     "text": [
      "['ra' 'dec' 'specobjid' 'z']\n"
     ]
    },
    {
     "data": {
      "text/html": [
       "<div>\n",
       "<style scoped>\n",
       "    .dataframe tbody tr th:only-of-type {\n",
       "        vertical-align: middle;\n",
       "    }\n",
       "\n",
       "    .dataframe tbody tr th {\n",
       "        vertical-align: top;\n",
       "    }\n",
       "\n",
       "    .dataframe thead th {\n",
       "        text-align: right;\n",
       "    }\n",
       "</style>\n",
       "<table border=\"1\" class=\"dataframe\">\n",
       "  <thead>\n",
       "    <tr style=\"text-align: right;\">\n",
       "      <th></th>\n",
       "      <th>RA</th>\n",
       "      <th>DEC</th>\n",
       "      <th>specobjid</th>\n",
       "      <th>Z</th>\n",
       "    </tr>\n",
       "  </thead>\n",
       "  <tbody>\n",
       "    <tr>\n",
       "      <th>0</th>\n",
       "      <td>193.97707</td>\n",
       "      <td>27.734459</td>\n",
       "      <td>7295860639766605824</td>\n",
       "      <td>2.888782</td>\n",
       "    </tr>\n",
       "    <tr>\n",
       "      <th>1</th>\n",
       "      <td>193.99803</td>\n",
       "      <td>28.486930</td>\n",
       "      <td>2264256514497734656</td>\n",
       "      <td>0.142809</td>\n",
       "    </tr>\n",
       "    <tr>\n",
       "      <th>2</th>\n",
       "      <td>193.99821</td>\n",
       "      <td>28.622316</td>\n",
       "      <td>7296075319411929088</td>\n",
       "      <td>0.511981</td>\n",
       "    </tr>\n",
       "    <tr>\n",
       "      <th>3</th>\n",
       "      <td>193.99900</td>\n",
       "      <td>27.955075</td>\n",
       "      <td>2522132678577252352</td>\n",
       "      <td>0.027008</td>\n",
       "    </tr>\n",
       "    <tr>\n",
       "      <th>4</th>\n",
       "      <td>194.09395</td>\n",
       "      <td>28.796575</td>\n",
       "      <td>7296086314528206848</td>\n",
       "      <td>0.530268</td>\n",
       "    </tr>\n",
       "  </tbody>\n",
       "</table>\n",
       "</div>"
      ],
      "text/plain": [
       "          RA        DEC            specobjid         Z\n",
       "0  193.97707  27.734459  7295860639766605824  2.888782\n",
       "1  193.99803  28.486930  2264256514497734656  0.142809\n",
       "2  193.99821  28.622316  7296075319411929088  0.511981\n",
       "3  193.99900  27.955075  2522132678577252352  0.027008\n",
       "4  194.09395  28.796575  7296086314528206848  0.530268"
      ]
     },
     "execution_count": 49,
     "metadata": {},
     "output_type": "execute_result"
    }
   ],
   "source": [
    "dat_cl = pd.read_csv(os.path.join(wdir,'data_obs','GAMAspec_coma','coma_cluster.csv'))\n",
    "\n",
    "print(dat_cl.columns.values)\n",
    "\n",
    "dat_cl=dat_cl.rename(index=str,columns={'ra':'RA','dec':'DEC','z':'Z'}) # same format as RedMapper\n",
    "\n",
    "dat_cl.head()"
   ]
  },
  {
   "cell_type": "code",
   "execution_count": 50,
   "metadata": {},
   "outputs": [
    {
     "name": "stdout",
     "output_type": "stream",
     "text": [
      "z_0: [0.0231]\n",
      "ra_0: [194.87663]\n",
      "dec_0: [27.924927]\n"
     ]
    }
   ],
   "source": [
    "# Cluster center\n",
    "\n",
    "cl = np.zeros(shape=(1,),dtype=obj_dtype)\n",
    "\n",
    "cl['z'] = 0.0231 # wikipedia\n",
    "cl['ra'] = np.mean(dat_cl['RA'])\n",
    "cl['dec'] = np.mean(dat_cl['DEC'])\n",
    "\n",
    "print('z_0:', cl['z'])\n",
    "print('ra_0:', cl['ra'])\n",
    "print('dec_0:', cl['dec'])"
   ]
  },
  {
   "cell_type": "code",
   "execution_count": 51,
   "metadata": {},
   "outputs": [],
   "source": [
    "# Galaxy sample\n",
    "\n",
    "gals = np.zeros(shape=(len(dat_cl),), dtype=obj_dtype)\n",
    "\n",
    "gals['z'] = dat_cl['Z']\n",
    "gals['ra'] = dat_cl['RA']\n",
    "gals['dec'] = dat_cl['DEC']\n",
    "\n",
    "gals = add_vlos_Rproj(gals, cl)\n",
    "\n",
    "# gals['vlos'] *= 1.5\n",
    "# gals['Rproj'] *= 1.5\n",
    "\n",
    "gals = cylinder_cut(gals, cl)"
   ]
  },
  {
   "cell_type": "code",
   "execution_count": null,
   "metadata": {},
   "outputs": [],
   "source": []
  },
  {
   "cell_type": "code",
   "execution_count": 52,
   "metadata": {},
   "outputs": [],
   "source": [
    "kdeval_1d = kde_1d(gals)\n",
    "kdeval_2d = kde_2d(gals)"
   ]
  },
  {
   "cell_type": "code",
   "execution_count": 57,
   "metadata": {
    "scrolled": false
   },
   "outputs": [
    {
     "name": "stdout",
     "output_type": "stream",
     "text": [
      "FOLD 0 ~~ cnn1d: 14.95217 +- 0.14836 \tcnn2d: 14.87206 +- 0.09742\n",
      "FOLD 1 ~~ cnn1d: 14.97393 +- 0.1444 \tcnn2d: 14.92563 +- 0.11742\n",
      "FOLD 2 ~~ cnn1d: 14.99649 +- 0.13061 \tcnn2d: 14.92247 +- 0.11535\n",
      "FOLD 3 ~~ cnn1d: 14.99268 +- 0.14283 \tcnn2d: 14.91671 +- 0.10518\n",
      "FOLD 4 ~~ cnn1d: 14.94769 +- 0.14117 \tcnn2d: 14.91547 +- 0.1094\n",
      "FOLD 5 ~~ cnn1d: 14.9514 +- 0.15667 \tcnn2d: 14.96765 +- 0.1172\n",
      "FOLD 6 ~~ cnn1d: 14.93055 +- 0.1514 \tcnn2d: 14.89223 +- 0.1085\n",
      "FOLD 7 ~~ cnn1d: 14.98775 +- 0.15471 \tcnn2d: 14.93838 +- 0.11884\n",
      "FOLD 8 ~~ cnn1d: 14.94904 +- 0.1494 \tcnn2d: 14.90461 +- 0.10707\n",
      "FOLD 9 ~~ cnn1d: 14.96983 +- 0.13892 \tcnn2d: 14.95865 +- 0.11406\n",
      "\n",
      "AVG ~~ cnn1d: 14.965152444736331 \tcnn2d: 14.92138541689967\n",
      "STD ~~ cnn1d: 0.14603888446463015 \tcnn2d: 0.11122884950359965\n"
     ]
    },
    {
     "data": {
      "image/png": "[encoded data removed]",
      "text/plain": [
       "<Figure size 360x288 with 1 Axes>"
      ]
     },
     "metadata": {},
     "output_type": "display_data"
    }
   ],
   "source": [
    "logM_1d = np.zeros(shape=(par_1d['nfolds'],par_1d['nbins']))\n",
    "logM_2d = np.zeros(shape=(par_2d['nfolds'],par_2d['nbins']))\n",
    "\n",
    "for i in range(par_1d['nfolds']):\n",
    "    logM_1d[i,:] = model_1d[i].predict(kdeval_1d)[0]\n",
    "    logM_2d[i,:] = model_2d[i].predict(kdeval_2d)[0]\n",
    "    \n",
    "    pred_1d = np.dot(logM_1d[i,:], bin_centers_1d)\n",
    "    pred_2d = np.dot(logM_2d[i,:], bin_centers_2d)\n",
    "    std_1d = np.sqrt(np.dot(logM_1d[i,:], bin_centers_1d**2) - pred_1d**2)\n",
    "    std_2d = np.sqrt(np.dot(logM_2d[i,:], bin_centers_2d**2) - pred_2d**2)\n",
    "    \n",
    "    print('FOLD', i, '~~ cnn1d:', round(pred_1d,5),'+-',round(std_1d,5),\n",
    "          '\\tcnn2d:', round(pred_2d,5),'+-',round(std_2d,5),)\n",
    "    \n",
    "print('\\nAVG ~~ cnn1d:', np.dot(np.mean(logM_1d, axis=0),bin_centers_1d), \n",
    "      '\\tcnn2d:', np.dot(np.mean(logM_2d, axis=0),bin_centers_2d))\n",
    "print('STD ~~ cnn1d:', np.sqrt(np.sum(np.dot(logM_1d,bin_centers_1d**2) - np.dot(logM_1d,bin_centers_1d)**2))/np.sqrt(par_1d['nfolds'])\n",
    "      , '\\tcnn2d:', np.sqrt(np.sum(np.dot(logM_2d,bin_centers_2d**2) - np.dot(logM_2d,bin_centers_2d)**2))/np.sqrt(par_2d['nfolds']))\n",
    "\n",
    "f = plt.figure(figsize=(5,4))\n",
    "\n",
    "plt.plot(bin_centers_1d, np.mean(logM_1d,axis=0), label='cnn1d', color='b', alpha=1)#, width=2.5/par_1d['nbins'])\n",
    "plt.plot(bin_centers_2d, np.mean(logM_2d,axis=0), label='cnn2d', color='r', alpha=1)#, width=2.5/par_2d['nbins'])\n",
    "plt.axvline(np.dot(np.mean(logM_1d, axis=0),bin_centers_1d), color='b', alpha=0.35)\n",
    "plt.axvline(np.dot(np.mean(logM_2d, axis=0),bin_centers_2d), color='r', alpha=0.35)\n",
    "\n",
    "plt.xlabel('$\\log M$')\n",
    "plt.ylabel('PDF')\n",
    "\n",
    "plt.xlim(14,15.7)\n",
    "plt.ylim(0,0.2)\n",
    "plt.legend()\n",
    "\n",
    "f.savefig(os.path.join(imdir,'temp.png'),bbox_inches='tight', dpi=300)"
   ]
  },
  {
   "cell_type": "code",
   "execution_count": null,
   "metadata": {},
   "outputs": [],
   "source": []
  },
  {
   "cell_type": "code",
   "execution_count": null,
   "metadata": {},
   "outputs": [],
   "source": []
  },
  {
   "cell_type": "code",
   "execution_count": null,
   "metadata": {},
   "outputs": [],
   "source": []
  },
  {
   "cell_type": "code",
   "execution_count": null,
   "metadata": {},
   "outputs": [],
   "source": []
  },
  {
   "cell_type": "markdown",
   "metadata": {
    "heading_collapsed": true
   },
   "source": [
    "# Preprocessing"
   ]
  },
  {
   "cell_type": "markdown",
   "metadata": {
    "hidden": true
   },
   "source": [
    "## Sample Stats, Cylinder Cut"
   ]
  },
  {
   "cell_type": "code",
   "execution_count": 81,
   "metadata": {
    "hidden": true
   },
   "outputs": [
    {
     "data": {
      "text/plain": [
       "Text(0,0.5,'dec')"
      ]
     },
     "execution_count": 81,
     "metadata": {},
     "output_type": "execute_result"
    },
    {
     "data": {
      "image/png": "[encoded data removed]",
      "text/plain": [
       "<Figure size 432x288 with 1 Axes>"
      ]
     },
     "metadata": {},
     "output_type": "display_data"
    },
    {
     "data": {
      "image/png": "[encoded data removed]",
      "text/plain": [
       "<Figure size 288x288 with 1 Axes>"
      ]
     },
     "metadata": {},
     "output_type": "display_data"
    }
   ],
   "source": [
    "# p(z)\n",
    "\n",
    "\n",
    "\n",
    "plt.figure()\n",
    "x,y=plot_hist(dat_cl['Z'],label='z_spec')\n",
    "plt.xlabel('z')\n",
    "plt.legend()\n",
    "\n",
    "\n",
    "# projected plane-of-sky\n",
    "plt.figure(figsize=(4,4))\n",
    "plt.plot(dat_cl['RA'],dat_cl['DEC'],'.')\n",
    "plt.xlabel('ra')\n",
    "plt.ylabel('dec')"
   ]
  },
  {
   "cell_type": "code",
   "execution_count": 82,
   "metadata": {
    "hidden": true,
    "scrolled": false
   },
   "outputs": [],
   "source": [
    "# Calculate Rproj, vlos\n",
    "\n",
    "c = 299792.458  # [km/s]\n",
    "\n",
    "gal_vlos = c*(dat_cl['Z'] - cl_z)/(1.0+cl_z) # [km/s]\n",
    "\n",
    "pos_cl = SkyCoord(ra=cl_ra*units.deg, dec=cl_dec*units.deg)\n",
    "pos_gal = SkyCoord(ra=dat_cl['RA'].values*units.deg, dec=dat_cl['DEC'].values*units.deg)\n",
    "gal_Rproj = cosmo.kpc_proper_per_arcmin(cl_z).value * pos_gal.separation(pos_cl).arcmin / cosmo.h # [kpc/h]\n",
    "gal_Rproj /= 1000. # [Mpc/h]\n",
    "\n",
    "gal_vlos = gal_vlos.values\n",
    "# gal_Rproj = gal_Rproj.values"
   ]
  },
  {
   "cell_type": "code",
   "execution_count": 83,
   "metadata": {
    "hidden": true
   },
   "outputs": [],
   "source": [
    "# Cylinder cut\n",
    "\n",
    "members =(gal_vlos > -vcut) & (gal_vlos < vcut) & (gal_Rproj < aperture)\n",
    "gal_vlos = gal_vlos[members]\n",
    "gal_Rproj = gal_Rproj[members]"
   ]
  },
  {
   "cell_type": "code",
   "execution_count": 84,
   "metadata": {
    "hidden": true
   },
   "outputs": [
    {
     "data": {
      "text/plain": [
       "(-2500.0, 2500.0)"
      ]
     },
     "execution_count": 84,
     "metadata": {},
     "output_type": "execute_result"
    },
    {
     "data": {
      "image/png": "[encoded data removed]",
      "text/plain": [
       "<Figure size 432x288 with 1 Axes>"
      ]
     },
     "metadata": {},
     "output_type": "display_data"
    }
   ],
   "source": [
    "plt.figure()\n",
    "\n",
    "plt.plot(gal_Rproj, gal_vlos,'.')\n",
    "plt.xlabel('$R_\\mathrm{proj}$ [Mpc/h]')\n",
    "plt.ylabel('$v_\\mathrm{los}$ [km/s]')\n",
    "\n",
    "plt.xlim(0,aperture)\n",
    "plt.ylim(-vcut,vcut)"
   ]
  },
  {
   "cell_type": "markdown",
   "metadata": {
    "hidden": true
   },
   "source": [
    "## KDE"
   ]
  },
  {
   "cell_type": "code",
   "execution_count": 85,
   "metadata": {
    "hidden": true
   },
   "outputs": [
    {
     "data": {
      "image/png": "[encoded data removed]",
      "text/plain": [
       "<Figure size 504x360 with 3 Axes>"
      ]
     },
     "metadata": {},
     "output_type": "display_data"
    }
   ],
   "source": [
    "shape=(48,48)\n",
    "\n",
    "\n",
    "#1D KDE\n",
    "kde = gaussian_kde(gal_vlos, bw_method=kde_bandwidth)\n",
    "v_pos = np.linspace(-vcut, vcut, shape[1] + 1)\n",
    "v_pos = [np.mean(v_pos[[i,i+1]]) for i in range(len(v_pos)-1)]\n",
    "\n",
    "kdeval_1d = kde(v_pos)\n",
    "kdeval_1d = np.flip(kdeval_1d,0)/kdeval_1d.sum()\n",
    "\n",
    "\n",
    "#2D KDE\n",
    "a_pos = np.linspace(0, aperture, shape[0] + 1)\n",
    "a_pos = [np.mean(a_pos[[i,i+1]]) for i in range(len(a_pos)-1)]\n",
    "\n",
    "mesh = np.meshgrid(a_pos,v_pos)\n",
    "mesh = np.flip(mesh,0)\n",
    "sample = np.vstack([mesh[0].ravel(), mesh[1].ravel()]) # Sample at fixed intervals. Used to sample pdfs\n",
    "\n",
    "memb = np.ndarray(shape=(2,len(gal_vlos)))\n",
    "memb[0,:] = gal_vlos\n",
    "memb[1,:] = gal_Rproj\n",
    "\n",
    "# initialize a gaussian kde from galaxies\n",
    "kde = gaussian_kde(memb, kde_bandwidth)\n",
    "\n",
    "# sample kde at fixed intervals\n",
    "kdeval_2d = np.reshape(kde(sample), mesh[0].shape)\n",
    "\n",
    "# normalize input\n",
    "kdeval_2d /= kdeval_2d.sum()\n",
    "\n",
    "\n",
    "\n",
    "# plot\n",
    "f = plt.figure(figsize=(7,5))\n",
    "gs = mpl.gridspec.GridSpec(2,3, wspace=0.05,hspace=0.4, width_ratios=[1.2,2.8,1],height_ratios=[15,1])\n",
    "\n",
    "\n",
    "# 2D\n",
    "ax1 = f.add_subplot(gs[0,0:2])\n",
    "\n",
    "im =ax1.imshow(kdeval_2d, aspect='auto', interpolation='nearest',\n",
    "               extent=[0, aperture, -vcut, vcut])\n",
    "\n",
    "\n",
    "ax1.plot(gal_Rproj, \n",
    "         -gal_vlos,\n",
    "         'b.', markersize=5)\n",
    "\n",
    "ax1.set_ylim(-vcut, vcut)\n",
    "\n",
    "ax1.ticklabel_format(style='sci',axis='y', scilimits=(-1,1))\n",
    "ax1.set_aspect(aspect=aperture/(2*vcut),adjustable='box', anchor='E')\n",
    "# ax1.set_title('2D KDE', y=1.07)\n",
    "ax1.set_xlabel('$R_\\mathrm{proj}$ (Mpc h$^{-1}$)', fontsize=10)\n",
    "ax1.set_ylabel('$v_\\mathrm{los}$ (km s$^{-1}$)', fontsize=10)\n",
    "\n",
    "\n",
    "# 1D\n",
    "ax2 = f.add_subplot(gs[0,2])\n",
    "ax2.barh(v_pos, kdeval_1d, height=50)\n",
    "\n",
    "ax2.set_ylim(-vcut, vcut)\n",
    "\n",
    "# ax2.set_title('1D KDE', y=1.07)\n",
    "ax2.set_xlabel('Norm PDF', fontsize=10)\n",
    "# ax2.set_ylabel('$v_{los}$ (km s$^{-1}$)', fontsize=10)\n",
    "# ax2.yaxis.tick_right()\n",
    "# ax2.yaxis.set_label_position('right')\n",
    "ax2.set_yticks([])\n",
    "\n",
    "ax2.ticklabel_format(style='sci',axis='both', scilimits=(-1,1))\n",
    "ax2.xaxis.tick_top()\n",
    "ax2.xaxis.set_label_position('top')\n",
    "\n",
    "# Colorbar\n",
    "ax3 = f.add_subplot(gs[1,1])\n",
    "cmap = mpl.cm.cool\n",
    "norm = mpl.colors.Normalize(vmin=kdeval_2d.min(), vmax=kdeval_2d.max())\n",
    "\n",
    "cb = mpl.colorbar.ColorbarBase(label='Norm PDF', ax=ax3, norm=norm, orientation='horizontal')\n",
    "cb.set_label('Norm PDF',fontsize=10)\n",
    "cb.formatter.set_powerlimits((0, 1))\n",
    "cb.update_ticks()\n",
    "\n",
    "\n",
    "\n",
    "# plt.suptitle('$\\log[M_{200c}\\ ($M$_\\odot h^{-1})] = $' + str(np.log10(cat.prop.loc[i,'M200c']))[0:6], fontsize=14, y=1.05)\n",
    "\n",
    "# plt.tight_layout()\n",
    "\n",
    "# f.savefig(os.path.join(imdir,'ex_kde.pdf'),bbox_inches='tight')"
   ]
  },
  {
   "cell_type": "code",
   "execution_count": 86,
   "metadata": {
    "hidden": true
   },
   "outputs": [
    {
     "data": {
      "text/plain": [
       "array([0.34209111, 1.11555182, 0.18075832, 0.6086112 , 0.90338409,\n",
       "       1.27702716, 1.55290758, 1.56447674, 1.27635014, 0.90527459,\n",
       "       0.34435185, 0.18051852, 1.11433057, 0.60880274, 1.30432877,\n",
       "       1.27703347, 1.56500813, 0.90350422, 1.11581034, 0.34183103,\n",
       "       0.79592612, 0.58715284, 0.49540845, 0.11251688, 0.94142021,\n",
       "       0.30907062, 0.25230572, 0.31068956, 0.33255313, 0.51682964,\n",
       "       1.25358855, 0.81691094, 0.22456653, 1.50011899, 1.33835916,\n",
       "       0.59875968, 0.38002548, 0.3766731 , 1.33395674, 1.32638444,\n",
       "       0.22456653, 0.3766731 , 0.63504318, 0.22456653, 0.3766731 ,\n",
       "       0.63504318, 1.07288317, 0.66748004, 0.78618149, 0.36733082,\n",
       "       1.26036028, 0.41036695, 0.41036695, 0.42889851, 0.97585029,\n",
       "       1.26036028, 0.25272938, 0.9114728 , 1.20384182, 0.99438259,\n",
       "       0.42889851, 1.31535813, 0.97585029, 0.97585029, 1.20384182,\n",
       "       0.42889851])"
      ]
     },
     "execution_count": 86,
     "metadata": {},
     "output_type": "execute_result"
    }
   ],
   "source": [
    "gal_Rproj"
   ]
  },
  {
   "cell_type": "code",
   "execution_count": null,
   "metadata": {
    "hidden": true
   },
   "outputs": [],
   "source": []
  },
  {
   "cell_type": "markdown",
   "metadata": {},
   "source": [
    "# Load RedMapper"
   ]
  },
  {
   "cell_type": "code",
   "execution_count": 23,
   "metadata": {},
   "outputs": [
    {
     "name": "stdout",
     "output_type": "stream",
     "text": [
      "['SPECID' 'SURVEY' 'SURVEY_CODE' 'RA' 'DEC' 'WMIN' 'WMAX' 'Z' 'NQ' 'PROB'\n",
      " 'FILENAME' 'URL' 'URL_IMG' 'CATAID' 'GAMA_NAME' 'IC_FLAG' 'DIST'\n",
      " 'IS_SBEST' 'IS_BEST' 'NAME' 'RA_RM' 'DEC_RM' 'Z_LAMBDA' 'Z_LAMBDA_ERR'\n",
      " 'LAMBDA' 'LAMBDA_ERR' 'S' 'Z_SPEC' 'OBJID' 'IMAG' 'IMAG_ERR'\n",
      " 'MODEL_MAG_U' 'MODEL_MAGERR_U' 'MODEL_MAG_G' 'MODEL_MAGERR_G'\n",
      " 'MODEL_MAG_R' 'MODEL_MAGERR_R' 'MODEL_MAG_I' 'MODEL_MAGERR_I'\n",
      " 'MODEL_MAG_Z' 'MODEL_MAGERR_Z' 'ILUM' 'ang_sep' 'LOS_vel'\n",
      " 'proper_distance']\n"
     ]
    }
   ],
   "source": [
    "cl_files = os.listdir(os.path.join(wdir,'data_obs','clusters_arya'))\n",
    "cl_files = [i for i in cl_files if i[-4:]=='.csv']\n",
    "\n",
    "print(pd.read_csv(os.path.join(wdir, 'data_obs','clusters_arya',cl_files[0])).columns.values)"
   ]
  },
  {
   "cell_type": "markdown",
   "metadata": {},
   "source": [
    "## Duplicates"
   ]
  },
  {
   "cell_type": "code",
   "execution_count": 72,
   "metadata": {
    "scrolled": true
   },
   "outputs": [
    {
     "data": {
      "text/plain": [
       "0.1647744440397632"
      ]
     },
     "execution_count": 72,
     "metadata": {},
     "output_type": "execute_result"
    }
   ],
   "source": [
    "perc_dupl = []\n",
    "\n",
    "for cl in cl_files[:10]:\n",
    "#     print(cl)\n",
    "    dat_cl = pd.read_csv(os.path.join(wdir, 'data_obs','clusters_arya',cl))\n",
    "    \n",
    "    perc_dupl.append(np.sum(dat_cl.duplicated(subset=['RA','DEC']))/len(dat_cl))\n",
    "\n",
    "np.mean(perc_dupl)"
   ]
  },
  {
   "cell_type": "code",
   "execution_count": 73,
   "metadata": {
    "scrolled": true
   },
   "outputs": [
    {
     "data": {
      "text/html": [
       "<div>\n",
       "<style scoped>\n",
       "    .dataframe tbody tr th:only-of-type {\n",
       "        vertical-align: middle;\n",
       "    }\n",
       "\n",
       "    .dataframe tbody tr th {\n",
       "        vertical-align: top;\n",
       "    }\n",
       "\n",
       "    .dataframe thead th {\n",
       "        text-align: right;\n",
       "    }\n",
       "</style>\n",
       "<table border=\"1\" class=\"dataframe\">\n",
       "  <thead>\n",
       "    <tr style=\"text-align: right;\">\n",
       "      <th></th>\n",
       "      <th>SPECID</th>\n",
       "      <th>SURVEY</th>\n",
       "      <th>SURVEY_CODE</th>\n",
       "      <th>RA</th>\n",
       "      <th>DEC</th>\n",
       "      <th>WMIN</th>\n",
       "      <th>WMAX</th>\n",
       "      <th>Z</th>\n",
       "      <th>NQ</th>\n",
       "      <th>PROB</th>\n",
       "      <th>...</th>\n",
       "      <th>MODEL_MAG_R</th>\n",
       "      <th>MODEL_MAGERR_R</th>\n",
       "      <th>MODEL_MAG_I</th>\n",
       "      <th>MODEL_MAGERR_I</th>\n",
       "      <th>MODEL_MAG_Z</th>\n",
       "      <th>MODEL_MAGERR_Z</th>\n",
       "      <th>ILUM</th>\n",
       "      <th>ang_sep</th>\n",
       "      <th>LOS_vel</th>\n",
       "      <th>proper_distance</th>\n",
       "    </tr>\n",
       "  </thead>\n",
       "  <tbody>\n",
       "    <tr>\n",
       "      <th>301</th>\n",
       "      <td>G15_Y4_208_218</td>\n",
       "      <td>GAMA</td>\n",
       "      <td>5</td>\n",
       "      <td>213.42446</td>\n",
       "      <td>2.77143</td>\n",
       "      <td>3726.53</td>\n",
       "      <td>8857.58</td>\n",
       "      <td>0.70723</td>\n",
       "      <td>1</td>\n",
       "      <td>0.16</td>\n",
       "      <td>...</td>\n",
       "      <td>19.802841</td>\n",
       "      <td>0.040077</td>\n",
       "      <td>19.105967</td>\n",
       "      <td>0.033132</td>\n",
       "      <td>18.627953</td>\n",
       "      <td>0.075661</td>\n",
       "      <td>19.243595</td>\n",
       "      <td>0.45279</td>\n",
       "      <td>125199.292663</td>\n",
       "      <td>7982.430089</td>\n",
       "    </tr>\n",
       "    <tr>\n",
       "      <th>970</th>\n",
       "      <td>G15_Y6_098_260</td>\n",
       "      <td>GAMA</td>\n",
       "      <td>5</td>\n",
       "      <td>213.42446</td>\n",
       "      <td>2.77143</td>\n",
       "      <td>3727.88</td>\n",
       "      <td>8858.87</td>\n",
       "      <td>0.44282</td>\n",
       "      <td>4</td>\n",
       "      <td>1.00</td>\n",
       "      <td>...</td>\n",
       "      <td>19.802841</td>\n",
       "      <td>0.040077</td>\n",
       "      <td>19.105967</td>\n",
       "      <td>0.033132</td>\n",
       "      <td>18.627953</td>\n",
       "      <td>0.075661</td>\n",
       "      <td>19.243595</td>\n",
       "      <td>0.45279</td>\n",
       "      <td>59378.009770</td>\n",
       "      <td>7982.430089</td>\n",
       "    </tr>\n",
       "  </tbody>\n",
       "</table>\n",
       "<p>2 rows × 45 columns</p>\n",
       "</div>"
      ],
      "text/plain": [
       "                                SPECID     SURVEY  SURVEY_CODE         RA  \\\n",
       "301  G15_Y4_208_218                     GAMA                 5  213.42446   \n",
       "970  G15_Y6_098_260                     GAMA                 5  213.42446   \n",
       "\n",
       "         DEC     WMIN     WMAX        Z  NQ  PROB       ...       MODEL_MAG_R  \\\n",
       "301  2.77143  3726.53  8857.58  0.70723   1  0.16       ...         19.802841   \n",
       "970  2.77143  3727.88  8858.87  0.44282   4  1.00       ...         19.802841   \n",
       "\n",
       "    MODEL_MAGERR_R MODEL_MAG_I  MODEL_MAGERR_I MODEL_MAG_Z  MODEL_MAGERR_Z  \\\n",
       "301       0.040077   19.105967        0.033132   18.627953        0.075661   \n",
       "970       0.040077   19.105967        0.033132   18.627953        0.075661   \n",
       "\n",
       "          ILUM  ang_sep        LOS_vel proper_distance  \n",
       "301  19.243595  0.45279  125199.292663     7982.430089  \n",
       "970  19.243595  0.45279   59378.009770     7982.430089  \n",
       "\n",
       "[2 rows x 45 columns]"
      ]
     },
     "metadata": {},
     "output_type": "display_data"
    }
   ],
   "source": [
    "cl = np.random.choice(cl_files)\n",
    "dat_cl = pd.read_csv(os.path.join(wdir, 'data_obs','clusters_arya',cl))\n",
    "\n",
    "# print(dat_cl.columns.values)\n",
    "# print(len(dat_cl))\n",
    "\n",
    "# dat_cl[dat_cl.duplicated(subset=['RA','DEC'])].sort_values(['RA','DEC'])\n",
    "if np.sum(dat_cl.duplicated(subset=['RA','DEC']))>0:\n",
    "    i = np.random.choice(np.argwhere(dat_cl.duplicated(subset=['RA','DEC']).values).flatten())\n",
    "    display(dat_cl[np.sum(dat_cl[['RA','DEC']] == dat_cl[['RA','DEC']].iloc[i].values, axis=1)>0])"
   ]
  },
  {
   "cell_type": "markdown",
   "metadata": {},
   "source": [
    "## Load Single Clusters"
   ]
  },
  {
   "cell_type": "code",
   "execution_count": 79,
   "metadata": {},
   "outputs": [],
   "source": [
    "cl = np.random.choice(cl_files)\n",
    "dat_cl = pd.read_csv(os.path.join(wdir, 'data_obs','clusters_arya',cl))\n",
    "\n",
    "dat_cl = dat_cl[dat_cl['Z']>0]"
   ]
  },
  {
   "cell_type": "code",
   "execution_count": 80,
   "metadata": {},
   "outputs": [
    {
     "name": "stdout",
     "output_type": "stream",
     "text": [
      "z_0: 0.14816378\n",
      "ra_0: 221.817547015748\n",
      "dec_0: -1.2548185118110236\n"
     ]
    }
   ],
   "source": [
    "# Cluster center\n",
    "\n",
    "if len(dat_cl['Z_SPEC'].unique()):\n",
    "    cl_z = dat_cl['Z_SPEC'].unique()[0]\n",
    "else:\n",
    "    raise Exception('multiple cl centers')\n",
    "    \n",
    "cl_ra = np.mean(dat_cl['RA'])\n",
    "cl_dec = np.mean(dat_cl['DEC'])\n",
    "\n",
    "print('z_0:', cl_z)\n",
    "print('ra_0:', cl_ra)\n",
    "print('dec_0:', cl_dec)"
   ]
  },
  {
   "cell_type": "code",
   "execution_count": null,
   "metadata": {},
   "outputs": [],
   "source": []
  },
  {
   "cell_type": "code",
   "execution_count": null,
   "metadata": {},
   "outputs": [],
   "source": []
  },
  {
   "cell_type": "code",
   "execution_count": null,
   "metadata": {},
   "outputs": [],
   "source": []
  },
  {
   "cell_type": "code",
   "execution_count": null,
   "metadata": {},
   "outputs": [],
   "source": []
  },
  {
   "cell_type": "markdown",
   "metadata": {},
   "source": [
    "# Scratch"
   ]
  },
  {
   "cell_type": "code",
   "execution_count": 9,
   "metadata": {},
   "outputs": [
    {
     "data": {
      "image/png": "[encoded data removed]",
      "text/plain": [
       "<Figure size 252x432 with 2 Axes>"
      ]
     },
     "metadata": {},
     "output_type": "display_data"
    }
   ],
   "source": [
    "model_name = 'halo_cnn2d_rP'\n",
    "model_num = 4\n",
    "\n",
    "data_dir = os.path.join(wdir, 'saved_models', model_name)\n",
    "model_name_save = model_name + '_' + str(model_num)\n",
    "\n",
    "cnn_dat = np.load(os.path.join(data_dir, model_name_save, model_name_save + '.npy'), \n",
    "                encoding='latin1').item()\n",
    "cnn_par = cnn_dat['params']\n",
    "\n",
    "one_to_one = np.arange(11)*(cnn_par['logmass_max'] - cnn_par['logmass_min'])/10. + cnn_par['logmass_min']\n",
    "\n",
    "f = plt.figure(figsize=[3.5,6])\n",
    "gs = mpl.gridspec.GridSpec(2,1,height_ratios=[4,1], hspace=0)\n",
    "\n",
    "ax1 = f.add_subplot(gs[0,0])\n",
    "ax1.plot(one_to_one,one_to_one, color='k', linestyle='dashed')\n",
    "\n",
    "matt.binnedplot(cnn_dat['logmass_test'], cnn_dat['logmass_pred'], n=20, \n",
    "            percentiles=[34,47], median=True, ax=ax1, log=0, c='g'\n",
    "            )\n",
    "ax1.set_ylabel(r'$\\log_{10}[M_\\mathrm{pred}\\ (\\mathrm{M}_\\odot h^{-1})$]',fontsize=12)\n",
    "\n",
    "ax1.set_xticklabels([])\n",
    "ax1.set_xlim(xmin=14, xmax=15)\n",
    "ax1.set_ylim(ymin=13.7, ymax=15.2)\n",
    "ax1.set_aspect(aspect='equal',adjustable='box', anchor='S')\n",
    "\n",
    "\n",
    "# pred_err = (10.**cnn_dat['logmass_pred'])/(10.**cnn_dat['logmass_test']) - 1.\n",
    "pred_err = cnn_dat['logmass_pred'] - cnn_dat['logmass_test']\n",
    "\n",
    "ax2 = f.add_subplot(gs[1,0])# , sharex=ax1)\n",
    "ax2.plot(one_to_one,[0]*len(one_to_one), color='k', linestyle='dashed')\n",
    "\n",
    "matt.binnedplot(cnn_dat['logmass_test'],pred_err,n=20, percentiles=[34, 47], \n",
    "                median=True, ax=ax2, label='cnn',c='g', errorbar=False, names=False, log=0)\n",
    "\n",
    "ax2.set_xlim(xmin=14, xmax=15)\n",
    "\n",
    "ax2.set_ylim(ymin=-0.4,ymax=0.4)\n",
    "ax2.set_ylabel(r'$\\epsilon$',fontsize=12)\n",
    "ax2.set_xlabel(r'$\\log_{10}[M_\\mathrm{true}\\ (\\mathrm{M}_\\odot h^{-1})$]',fontsize=12)\n",
    "\n",
    "# ax2.set_yticklabels([-0.5,0,1])\n",
    "\n",
    "\n",
    "ax1.set_title('CNN$_\\mathrm{2DP}$', fontsize=12)\n",
    "\n",
    "plt.tight_layout()\n",
    "\n",
    "# f.savefig(os.path.join(imdir,'pred_1d.pdf'),bbox_inches='tight', dpi=300)"
   ]
  },
  {
   "cell_type": "code",
   "execution_count": 11,
   "metadata": {},
   "outputs": [
    {
     "data": {
      "text/plain": [
       "(array([    0.,     0.,     0.,     0.,     0., 74363.,     0.,     0.,\n",
       "            0.,     0.]),\n",
       " array([13.00062084, 13.10062084, 13.20062084, 13.30062084, 13.40062084,\n",
       "        13.50062084, 13.60062084, 13.70062084, 13.80062084, 13.90062084,\n",
       "        14.00062084]),\n",
       " <a list of 10 Patch objects>)"
      ]
     },
     "execution_count": 11,
     "metadata": {},
     "output_type": "execute_result"
    },
    {
     "data": {
      "image/png": "[encoded data removed]",
      "text/plain": [
       "<Figure size 720x720 with 1 Axes>"
      ]
     },
     "metadata": {},
     "output_type": "display_data"
    }
   ],
   "source": [
    "plt.hist(cnn_dat['logmass_pred'])"
   ]
  }
 ],
 "metadata": {
  "kernelspec": {
   "display_name": "Python 3",
   "language": "python",
   "name": "python3"
  },
  "language_info": {
   "codemirror_mode": {
    "name": "ipython",
    "version": 3
   },
   "file_extension": ".py",
   "mimetype": "text/x-python",
   "name": "python",
   "nbconvert_exporter": "python",
   "pygments_lexer": "ipython3",
   "version": "3.6.5"
  },
  "toc": {
   "base_numbering": 1,
   "nav_menu": {},
   "number_sections": true,
   "sideBar": true,
   "skip_h1_title": false,
   "title_cell": "Table of Contents",
   "title_sidebar": "Contents",
   "toc_cell": false,
   "toc_position": {},
   "toc_section_display": true,
   "toc_window_display": false
  }
 },
 "nbformat": 4,
 "nbformat_minor": 2
}
