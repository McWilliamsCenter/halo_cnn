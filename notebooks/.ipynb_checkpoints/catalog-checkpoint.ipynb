{
 "cells": [
  {
   "cell_type": "markdown",
   "metadata": {},
   "source": [
    "## Imports"
   ]
  },
  {
   "cell_type": "code",
   "execution_count": 4,
   "metadata": {
    "ExecuteTime": {
     "end_time": "2018-06-14T00:17:04.232138Z",
     "start_time": "2018-06-14T00:16:55.947379Z"
    },
    "scrolled": true
   },
   "outputs": [],
   "source": [
    "import sys\n",
    "import os\n",
    "import numpy as np\n",
    "import numpy.lib.recfunctions as nprf\n",
    "from sklearn import linear_model\n",
    "import matplotlib as mpl\n",
    "\n",
    "from importlib import reload\n",
    "import pandas as pd\n",
    "\n",
    "mpl.use('Agg')\n",
    "\n",
    "mpl.rcParams['figure.figsize'] = (7,7)\n",
    "mpl.rcParams['figure.facecolor'] = (1,1,1,1)\n",
    "mpl.rcParams.update({'font.size':22})\n",
    "\n",
    "% matplotlib inline\n",
    "\n",
    "import matplotlib.pyplot as plt"
   ]
  },
  {
   "cell_type": "code",
   "execution_count": 5,
   "metadata": {
    "ExecuteTime": {
     "end_time": "2018-06-14T00:17:04.274002Z",
     "start_time": "2018-06-14T00:17:04.234218Z"
    }
   },
   "outputs": [
    {
     "data": {
      "text/plain": [
       "<module 'tools.matt_tools' from '/home/mho1/halo_cnn/notebooks/tools/matt_tools.py'>"
      ]
     },
     "execution_count": 5,
     "metadata": {},
     "output_type": "execute_result"
    }
   ],
   "source": [
    "import tools.matt_tools as matt\n",
    "\n",
    "reload(matt)"
   ]
  },
  {
   "cell_type": "code",
   "execution_count": 6,
   "metadata": {
    "ExecuteTime": {
     "end_time": "2018-06-14T00:17:04.278039Z",
     "start_time": "2018-06-14T00:17:04.275809Z"
    }
   },
   "outputs": [],
   "source": [
    "wdir = '/home/mho1/scratch/halo_cnn'"
   ]
  },
  {
   "cell_type": "markdown",
   "metadata": {},
   "source": [
    "# Load"
   ]
  },
  {
   "cell_type": "code",
   "execution_count": 8,
   "metadata": {
    "ExecuteTime": {
     "end_time": "2018-06-14T00:18:41.309359Z",
     "start_time": "2018-06-14T00:18:41.306076Z"
    }
   },
   "outputs": [],
   "source": [
    "data_file = os.path.join(wdir,\n",
    "                         'data_raw',\n",
    "                         'sfr_catalog_0.671200.npy')\n",
    "#                         'MDPL2_Rockstar_z=0.117_Macc=1e11.csv')"
   ]
  },
  {
   "cell_type": "code",
   "execution_count": 9,
   "metadata": {
    "ExecuteTime": {
     "end_time": "2018-06-14T00:18:45.464746Z",
     "start_time": "2018-06-14T00:18:42.155320Z"
    }
   },
   "outputs": [],
   "source": [
    "# dat_MD = pd.read_csv(data_file)\n",
    "dat_UM = np.load(data_file)"
   ]
  },
  {
   "cell_type": "code",
   "execution_count": 11,
   "metadata": {
    "ExecuteTime": {
     "end_time": "2018-06-14T00:20:20.607755Z",
     "start_time": "2018-06-14T00:20:17.461642Z"
    }
   },
   "outputs": [],
   "source": [
    "dat = pd.DataFrame(dat_UM)"
   ]
  },
  {
   "cell_type": "code",
   "execution_count": 13,
   "metadata": {
    "ExecuteTime": {
     "end_time": "2018-06-14T00:24:12.661990Z",
     "start_time": "2018-06-14T00:24:10.857869Z"
    }
   },
   "outputs": [
    {
     "data": {
      "text/html": [
       "<div>\n",
       "<style scoped>\n",
       "    .dataframe tbody tr th:only-of-type {\n",
       "        vertical-align: middle;\n",
       "    }\n",
       "\n",
       "    .dataframe tbody tr th {\n",
       "        vertical-align: top;\n",
       "    }\n",
       "\n",
       "    .dataframe thead th {\n",
       "        text-align: right;\n",
       "    }\n",
       "</style>\n",
       "<table border=\"1\" class=\"dataframe\">\n",
       "  <thead>\n",
       "    <tr style=\"text-align: right;\">\n",
       "      <th></th>\n",
       "      <th>x</th>\n",
       "      <th>y</th>\n",
       "      <th>z</th>\n",
       "      <th>vx</th>\n",
       "      <th>vy</th>\n",
       "      <th>vz</th>\n",
       "      <th>upid</th>\n",
       "      <th>id</th>\n",
       "      <th>mvir</th>\n",
       "      <th>mpeak</th>\n",
       "      <th>obs_sm</th>\n",
       "      <th>obs_sfr</th>\n",
       "    </tr>\n",
       "  </thead>\n",
       "  <tbody>\n",
       "    <tr>\n",
       "      <th>0</th>\n",
       "      <td>4.187600</td>\n",
       "      <td>17.53948</td>\n",
       "      <td>91.168747</td>\n",
       "      <td>-287.220001</td>\n",
       "      <td>-306.540009</td>\n",
       "      <td>182.160004</td>\n",
       "      <td>-1</td>\n",
       "      <td>9772896080</td>\n",
       "      <td>1.596900e+14</td>\n",
       "      <td>1.596900e+14</td>\n",
       "      <td>1.115314e+12</td>\n",
       "      <td>0.926469</td>\n",
       "    </tr>\n",
       "    <tr>\n",
       "      <th>22</th>\n",
       "      <td>3.279080</td>\n",
       "      <td>16.63237</td>\n",
       "      <td>90.895103</td>\n",
       "      <td>-393.600006</td>\n",
       "      <td>-819.729980</td>\n",
       "      <td>253.919998</td>\n",
       "      <td>-1</td>\n",
       "      <td>9772896201</td>\n",
       "      <td>3.914100e+11</td>\n",
       "      <td>6.909800e+11</td>\n",
       "      <td>4.576889e+09</td>\n",
       "      <td>0.000542</td>\n",
       "    </tr>\n",
       "    <tr>\n",
       "      <th>29</th>\n",
       "      <td>8.769870</td>\n",
       "      <td>5.52550</td>\n",
       "      <td>48.626659</td>\n",
       "      <td>-405.440002</td>\n",
       "      <td>67.300003</td>\n",
       "      <td>231.410004</td>\n",
       "      <td>-1</td>\n",
       "      <td>9772859719</td>\n",
       "      <td>6.285200e+13</td>\n",
       "      <td>6.285200e+13</td>\n",
       "      <td>7.904743e+10</td>\n",
       "      <td>0.330337</td>\n",
       "    </tr>\n",
       "    <tr>\n",
       "      <th>44</th>\n",
       "      <td>22.498610</td>\n",
       "      <td>17.85078</td>\n",
       "      <td>83.431992</td>\n",
       "      <td>-317.640015</td>\n",
       "      <td>-360.929993</td>\n",
       "      <td>211.699997</td>\n",
       "      <td>-1</td>\n",
       "      <td>9772896922</td>\n",
       "      <td>5.270900e+13</td>\n",
       "      <td>5.270900e+13</td>\n",
       "      <td>3.098795e+11</td>\n",
       "      <td>0.483424</td>\n",
       "    </tr>\n",
       "    <tr>\n",
       "      <th>50</th>\n",
       "      <td>21.833179</td>\n",
       "      <td>17.55689</td>\n",
       "      <td>82.589333</td>\n",
       "      <td>-193.380005</td>\n",
       "      <td>-431.429993</td>\n",
       "      <td>395.279999</td>\n",
       "      <td>-1</td>\n",
       "      <td>9772896936</td>\n",
       "      <td>2.709700e+10</td>\n",
       "      <td>1.911900e+11</td>\n",
       "      <td>1.236188e+10</td>\n",
       "      <td>0.602446</td>\n",
       "    </tr>\n",
       "  </tbody>\n",
       "</table>\n",
       "</div>"
      ],
      "text/plain": [
       "            x         y          z          vx          vy          vz  upid  \\\n",
       "0    4.187600  17.53948  91.168747 -287.220001 -306.540009  182.160004    -1   \n",
       "22   3.279080  16.63237  90.895103 -393.600006 -819.729980  253.919998    -1   \n",
       "29   8.769870   5.52550  48.626659 -405.440002   67.300003  231.410004    -1   \n",
       "44  22.498610  17.85078  83.431992 -317.640015 -360.929993  211.699997    -1   \n",
       "50  21.833179  17.55689  82.589333 -193.380005 -431.429993  395.279999    -1   \n",
       "\n",
       "            id          mvir         mpeak        obs_sm   obs_sfr  \n",
       "0   9772896080  1.596900e+14  1.596900e+14  1.115314e+12  0.926469  \n",
       "22  9772896201  3.914100e+11  6.909800e+11  4.576889e+09  0.000542  \n",
       "29  9772859719  6.285200e+13  6.285200e+13  7.904743e+10  0.330337  \n",
       "44  9772896922  5.270900e+13  5.270900e+13  3.098795e+11  0.483424  \n",
       "50  9772896936  2.709700e+10  1.911900e+11  1.236188e+10  0.602446  "
      ]
     },
     "execution_count": 13,
     "metadata": {},
     "output_type": "execute_result"
    }
   ],
   "source": [
    "dat[dat['upid']==-1].head()"
   ]
  },
  {
   "cell_type": "markdown",
   "metadata": {},
   "source": [
    "# Scratch"
   ]
  },
  {
   "cell_type": "code",
   "execution_count": 2,
   "metadata": {},
   "outputs": [],
   "source": [
    "from collections import OrderedDict"
   ]
  },
  {
   "cell_type": "code",
   "execution_count": 4,
   "metadata": {},
   "outputs": [],
   "source": [
    "par = OrderedDict()"
   ]
  },
  {
   "cell_type": "code",
   "execution_count": 17,
   "metadata": {},
   "outputs": [],
   "source": [
    "par1 = OrderedDict([\n",
    "    ('wdir', '/home/mho1/scratch/halo_cnn/')\n",
    "])\n",
    "par2 = OrderedDict([\n",
    "    ('model_name', 'halo_cnn1d_r')\n",
    "])"
   ]
  },
  {
   "cell_type": "code",
   "execution_count": 13,
   "metadata": {},
   "outputs": [
    {
     "name": "stdout",
     "output_type": "stream",
     "text": [
      "wdir : /home/mho1/scratch/halo_cnn/\n",
      "model_name : halo_cnn1d_r\n"
     ]
    }
   ],
   "source": [
    "for key in par.keys():\n",
    "    print(key + ' : ' + str(par[key]))"
   ]
  },
  {
   "cell_type": "code",
   "execution_count": 18,
   "metadata": {},
   "outputs": [],
   "source": [
    "par1.update(par2)"
   ]
  },
  {
   "cell_type": "code",
   "execution_count": 23,
   "metadata": {},
   "outputs": [
    {
     "data": {
      "text/plain": [
       "OrderedDict([('wdir', '/home/mho1/scratch/halo_cnn/'),\n",
       "             ('model_name', 'halo_cnn1d_r')])"
      ]
     },
     "execution_count": 23,
     "metadata": {},
     "output_type": "execute_result"
    }
   ],
   "source": [
    "par1"
   ]
  },
  {
   "cell_type": "code",
   "execution_count": null,
   "metadata": {},
   "outputs": [],
   "source": []
  },
  {
   "cell_type": "code",
   "execution_count": 4,
   "metadata": {
    "ExecuteTime": {
     "end_time": "2018-06-12T21:31:14.297227Z",
     "start_time": "2018-06-12T21:31:14.294727Z"
    }
   },
   "outputs": [],
   "source": [
    "from bs4 import BeautifulSoup"
   ]
  },
  {
   "cell_type": "code",
   "execution_count": 6,
   "metadata": {
    "ExecuteTime": {
     "end_time": "2018-06-12T21:31:55.101677Z",
     "start_time": "2018-06-12T21:31:55.098715Z"
    }
   },
   "outputs": [],
   "source": [
    "xml = '''<uws:job xmlns:uws=\"http://www.ivoa.net/xml/UWS/v1.0\" xmlns:xsi=\"http://www.w3.org/2001/XMLSchema-instance\" version=\"1.1\">\n",
    "  <uws:jobId>1528838918683310284</uws:jobId>\n",
    "  <uws:runId xsi:nil=\"true\"/>\n",
    "  <uws:ownerId>maho3</uws:ownerId>\n",
    "  <uws:phase>PENDING</uws:phase>\n",
    "  <uws:quote xsi:nil=\"true\"/>\n",
    "  <uws:creationTime>2018-06-12T23:28:38+02:00</uws:creationTime>\n",
    "  <uws:startTime xsi:nil=\"true\"/>\n",
    "  <uws:endTime xsi:nil=\"true\"/>\n",
    "  <uws:executionDuration>0</uws:executionDuration>\n",
    "  <uws:destruction xsi:nil=\"true\"/>\n",
    "  <uws:parameters/>\n",
    "  <uws:results/>\n",
    "</uws:job>\n",
    "'''"
   ]
  },
  {
   "cell_type": "code",
   "execution_count": 11,
   "metadata": {
    "ExecuteTime": {
     "end_time": "2018-06-12T21:35:05.893951Z",
     "start_time": "2018-06-12T21:35:05.890503Z"
    }
   },
   "outputs": [],
   "source": [
    "soup = BeautifulSoup(xml,'xml')"
   ]
  },
  {
   "cell_type": "code",
   "execution_count": 15,
   "metadata": {
    "ExecuteTime": {
     "end_time": "2018-06-12T21:35:31.228504Z",
     "start_time": "2018-06-12T21:35:31.225234Z"
    }
   },
   "outputs": [
    {
     "data": {
      "text/plain": [
       "'1528838918683310284'"
      ]
     },
     "execution_count": 15,
     "metadata": {},
     "output_type": "execute_result"
    }
   ],
   "source": [
    "soup.find('uws:jobId').getText()"
   ]
  },
  {
   "cell_type": "code",
   "execution_count": null,
   "metadata": {},
   "outputs": [],
   "source": []
  }
 ],
 "metadata": {
  "kernelspec": {
   "display_name": "Python 3",
   "language": "python",
   "name": "python3"
  },
  "language_info": {
   "codemirror_mode": {
    "name": "ipython",
    "version": 3
   },
   "file_extension": ".py",
   "mimetype": "text/x-python",
   "name": "python",
   "nbconvert_exporter": "python",
   "pygments_lexer": "ipython3",
   "version": "3.6.4"
  },
  "toc": {
   "nav_menu": {},
   "number_sections": true,
   "sideBar": true,
   "skip_h1_title": false,
   "title_cell": "Table of Contents",
   "title_sidebar": "Contents",
   "toc_cell": false,
   "toc_position": {},
   "toc_section_display": true,
   "toc_window_display": false
  }
 },
 "nbformat": 4,
 "nbformat_minor": 2
}
