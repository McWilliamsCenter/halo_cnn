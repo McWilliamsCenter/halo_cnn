{
 "cells": [
  {
   "cell_type": "markdown",
   "metadata": {},
   "source": [
    "## Imports"
   ]
  },
  {
   "cell_type": "code",
   "execution_count": 2,
   "metadata": {
    "ExecuteTime": {
     "end_time": "2018-04-25T06:35:31.988280Z",
     "start_time": "2018-04-25T06:35:19.198502Z"
    }
   },
   "outputs": [
    {
     "name": "stderr",
     "output_type": "stream",
     "text": [
      "Using TensorFlow backend.\n"
     ]
    }
   ],
   "source": [
    "import keras"
   ]
  },
  {
   "cell_type": "code",
   "execution_count": null,
   "metadata": {},
   "outputs": [],
   "source": []
  },
  {
   "cell_type": "code",
   "execution_count": 2,
   "metadata": {
    "ExecuteTime": {
     "end_time": "2018-04-25T14:31:32.806555Z",
     "start_time": "2018-04-25T14:31:30.655557Z"
    },
    "scrolled": true
   },
   "outputs": [],
   "source": [
    "import sys\n",
    "import os\n",
    "import numpy as np\n",
    "import numpy.lib.recfunctions as nprf\n",
    "from sklearn import linear_model\n",
    "import matplotlib as mpl\n",
    "from scipy.stats import gaussian_kde\n",
    "\n",
    "mpl.rcParams['figure.figsize'] = (7,7)\n",
    "mpl.rcParams['figure.facecolor'] = (1,1,1,1)\n",
    "mpl.rcParams.update({'font.size':22})\n",
    "\n",
    "% matplotlib inline\n",
    "\n",
    "import matplotlib.pyplot as plt\n",
    "from mpl_toolkits.mplot3d import Axes3D"
   ]
  },
  {
   "cell_type": "code",
   "execution_count": 3,
   "metadata": {
    "ExecuteTime": {
     "end_time": "2018-04-25T14:31:32.827150Z",
     "start_time": "2018-04-25T14:31:32.809696Z"
    }
   },
   "outputs": [],
   "source": [
    "from tools.matt_tools import *\n",
    "from tools.cnn_tools import *"
   ]
  },
  {
   "cell_type": "code",
   "execution_count": 4,
   "metadata": {
    "ExecuteTime": {
     "end_time": "2018-04-25T14:31:32.834857Z",
     "start_time": "2018-04-25T14:31:32.830314Z"
    }
   },
   "outputs": [],
   "source": [
    "wdir = '/home/mho1/scratch/halo_cnn'"
   ]
  },
  {
   "cell_type": "markdown",
   "metadata": {
    "heading_collapsed": true
   },
   "source": [
    "# Algorithm Design"
   ]
  },
  {
   "cell_type": "markdown",
   "metadata": {
    "heading_collapsed": true,
    "hidden": true
   },
   "source": [
    "## Data Load"
   ]
  },
  {
   "cell_type": "code",
   "execution_count": 8,
   "metadata": {
    "hidden": true
   },
   "outputs": [],
   "source": [
    "dat_orig = np.load(wdir+\"halo_cnn/data/MDPL2_large_z=0.117.npy\")"
   ]
  },
  {
   "cell_type": "code",
   "execution_count": 9,
   "metadata": {
    "hidden": true
   },
   "outputs": [
    {
     "name": "stdout",
     "output_type": "stream",
     "text": [
      "7.046732052  GB\n",
      "1.72686154  GB\n"
     ]
    }
   ],
   "source": [
    "keep = ['Mtot', 'rotation', 'fold', 'Ngal', 'vlos', 'Rproj',\n",
    "        'name', 'intest', 'intrain', 'redshift','sigmav', 'xyproj'\n",
    "       ]\n",
    "print sys.getsizeof(dat_orig)/10.**9, ' GB'\n",
    "\n",
    "temp = nprf.drop_fields(dat_orig, \n",
    "                            [i for i in dat_orig.dtype.names if i not in keep])\n",
    "\n",
    "print sys.getsizeof(temp)/10.**9, ' GB'\n",
    "\n",
    "del(dat_orig)\n",
    "\n",
    "dat_orig = temp"
   ]
  },
  {
   "cell_type": "markdown",
   "metadata": {
    "hidden": true
   },
   "source": [
    "## Data Preprocess"
   ]
  },
  {
   "cell_type": "code",
   "execution_count": 7,
   "metadata": {
    "hidden": true
   },
   "outputs": [
    {
     "name": "stdout",
     "output_type": "stream",
     "text": [
      "(9921,)\n"
     ]
    }
   ],
   "source": [
    "dat = dat_orig[(dat_orig['Mtot']>10**14) & (dat_orig['Mtot']<10**15) & (dat_orig['intrain']==1)]\n",
    "\n",
    "# dat = np.random.choice(dat, 100, replace=False)\n",
    "\n",
    "print dat.shape"
   ]
  },
  {
   "cell_type": "code",
   "execution_count": 10,
   "metadata": {
    "hidden": true
   },
   "outputs": [
    {
     "name": "stdout",
     "output_type": "stream",
     "text": [
      "3.37 3.31 5.33\n"
     ]
    }
   ],
   "source": [
    "# xmax, ymax = dat['xyproj'].max(axis=1).max(axis=0)\n",
    "# vmax = dat['vlos'].max()\n",
    "\n",
    "\n",
    "vmax = 5.33\n",
    "xmax = 3.37\n",
    "ymax = 3.31\n",
    "\n",
    "print xmax, ymax, vmax"
   ]
  },
  {
   "cell_type": "code",
   "execution_count": 9,
   "metadata": {
    "hidden": true,
    "scrolled": true
   },
   "outputs": [],
   "source": [
    "m = np.log10(dat['Mtot'])\n",
    "m = m.reshape((len(m),1))\n",
    "\n",
    "# Xarr = [np.ndarray(shape=(3,dat['Ngal'][i])) for i in range(len(dat))]\n",
    "Xstd = np.ndarray(shape=(len(dat),3))\n",
    "Xkde = np.ndarray(shape = (len(dat), 32, 32, 32))\n",
    "Xmax = np.ndarray(shape=(len(dat),3))\n",
    "\n",
    "mesh = np.mgrid[-vmax:vmax:32j, -xmax:xmax:32j, -ymax:ymax:32j]\n",
    "positions = np.vstack([mesh[0].ravel(), mesh[1].ravel(), mesh[2].ravel()])"
   ]
  },
  {
   "cell_type": "code",
   "execution_count": 10,
   "metadata": {
    "hidden": true,
    "scrolled": true
   },
   "outputs": [
    {
     "name": "stdout",
     "output_type": "stream",
     "text": [
      "0\n",
      "500\n",
      "1000\n",
      "1500\n",
      "2000\n",
      "2500\n",
      "3000\n",
      "3500\n",
      "4000\n",
      "4500\n",
      "5000\n",
      "5500\n",
      "6000\n",
      "6500\n",
      "7000\n",
      "7500\n",
      "8000\n",
      "8500\n",
      "9000\n",
      "9500\n"
     ]
    }
   ],
   "source": [
    "for i in range(len(dat)):\n",
    "    if i%500==0: print i\n",
    "    \n",
    "    Xarr = np.ndarray(shape=(3,dat['Ngal'][i]))\n",
    "    \n",
    "    Xarr[0,:] = dat['vlos'][i][:dat['Ngal'][i]]\n",
    "    Xarr[1:,:] = np.array(zip(*dat['xyproj'][i][:dat['Ngal'][i]]))\n",
    "    \n",
    "    Xarr = Xarr - Xarr.mean(axis=1).reshape((3,1)) # shift to 0 mean\n",
    "    \n",
    "    Xstd[i,:] = Xarr.std(axis=1)\n",
    "    \n",
    "    Xarr = Xarr/Xstd[i,:].reshape((3,1))\n",
    "    \n",
    "    Xmax[i,:] = Xarr.max(axis=1)\n",
    "    \n",
    "#     kde = gaussian_kde(Xarr)\n",
    "#     kdeval = np.reshape(kde(positions).T, mesh[0].shape)\n",
    "    kdeval = np.zeros(mesh[0].shape)\n",
    "    \n",
    "    Xkde[i,:,:,:] = kdeval\n",
    "\n",
    "Xkde = Xkde.astype('float32')\n",
    "Xkde /= Xkde.max()"
   ]
  },
  {
   "cell_type": "code",
   "execution_count": 11,
   "metadata": {
    "hidden": true
   },
   "outputs": [
    {
     "data": {
      "text/plain": [
       "nan"
      ]
     },
     "execution_count": 11,
     "metadata": {},
     "output_type": "execute_result"
    },
    {
     "name": "stderr",
     "output_type": "stream",
     "text": [
      "/home/mho1/miniconda2/lib/python2.7/site-packages/numpy/ma/core.py:4185: UserWarning: Warning: converting a masked element to nan.\n",
      "  warnings.warn(\"Warning: converting a masked element to nan.\")\n"
     ]
    },
    {
     "data": {
      "image/png": "[encoded data removed]",
      "text/plain": [
       "<matplotlib.figure.Figure at 0x2ab1d187a990>"
      ]
     },
     "metadata": {},
     "output_type": "display_data"
    }
   ],
   "source": [
    "i = np.random.randint(len(dat))\n",
    "v = 15\n",
    "\n",
    "f3 = plt.figure(figsize=(7,7))\n",
    "\n",
    "plt.imshow(np.rot90(Xkde[i][v], k=1), extent=[-xmax,xmax, -ymax , ymax], \n",
    "           aspect='auto',cmap=plt.cm.winter, vmax=1)\n",
    "\n",
    "Xkde[i].max()"
   ]
  },
  {
   "cell_type": "code",
   "execution_count": 12,
   "metadata": {
    "hidden": true
   },
   "outputs": [
    {
     "name": "stdout",
     "output_type": "stream",
     "text": [
      "regr coef:  [[ 1.8835376  -0.10916214 -0.00657355]]\n",
      "regr intercept:  [ 9.27462473]\n",
      "regr R^2:  0.764971166024\n"
     ]
    },
    {
     "data": {
      "text/plain": [
       "<matplotlib.text.Text at 0x2ab1e1d88e10>"
      ]
     },
     "execution_count": 12,
     "metadata": {},
     "output_type": "execute_result"
    },
    {
     "data": {
      "image/png": "[encoded data removed]",
      "text/plain": [
       "<matplotlib.figure.Figure at 0x2ab1cbf9c890>"
      ]
     },
     "metadata": {},
     "output_type": "display_data"
    }
   ],
   "source": [
    "X = np.log10(Xstd)\n",
    "\n",
    "regr = linear_model.LinearRegression(fit_intercept=True)\n",
    "regr.fit(X,m)\n",
    "\n",
    "\n",
    "print 'regr coef: ', regr.coef_\n",
    "print 'regr intercept: ', regr.intercept_\n",
    "print 'regr R^2: ', regr.score(X,m)\n",
    "\n",
    "Mpred = regr.predict(X)\n",
    "\n",
    "f = plt.figure(figsize=(7,7))\n",
    "\n",
    "out = binnedplot(m,\n",
    "                 Mpred, \n",
    "                 n=75,\n",
    "                 percentiles = [2,15,50,85,98]\n",
    "                )\n",
    "\n",
    "plt.plot(m,m, label='fit')\n",
    "\n",
    "plt.xlabel('$\\log(M_{200c})$', fontsize=20)\n",
    "plt.ylabel('$\\log(M_{pred})$', fontsize=20)\n",
    "\n",
    "# plt.legend()\n",
    "\n",
    "# savefig(f,out_dat + '_massvsig_prebuffer', xlabel=r'$log(M_{200c})$', ylabel=r'$log(\\sigma_v)$')"
   ]
  },
  {
   "cell_type": "code",
   "execution_count": 13,
   "metadata": {
    "hidden": true,
    "scrolled": true
   },
   "outputs": [
    {
     "data": {
      "text/plain": [
       "5499"
      ]
     },
     "execution_count": 13,
     "metadata": {},
     "output_type": "execute_result"
    }
   ],
   "source": [
    "Y = m > Mpred\n",
    "Y = Y.astype('int')\n",
    "np.sum(Y)"
   ]
  },
  {
   "cell_type": "code",
   "execution_count": 14,
   "metadata": {
    "hidden": true
   },
   "outputs": [
    {
     "name": "stdout",
     "output_type": "stream",
     "text": [
      "4.19120662198e-15\n",
      "0.138978559537\n"
     ]
    }
   ],
   "source": [
    "\n",
    "mdiff = (Mpred - m)\n",
    "print mdiff.mean()\n",
    "print mdiff.std()\n",
    "\n",
    "mdiff = (mdiff - mdiff.mean())\n",
    "mdiff_s = np.sort(mdiff, axis=0)\n",
    "\n",
    "bins = 6\n",
    "borders = [mdiff_s[i * len(mdiff_s)/bins] for i in range(0,bins)]\n",
    "\n",
    "Mbins = np.ndarray(shape=(len(mdiff),1))\n",
    "\n",
    "for i in range(len(mdiff)):\n",
    "    \n",
    "    Mbins[i] = bins-1\n",
    "    \n",
    "    for j in range(bins - 1):\n",
    "        if ((borders[j] <= mdiff[i]) & (borders[j+1] > mdiff[i])):\n",
    "            Mbins[i] = j\n",
    "            break\n",
    "\n"
   ]
  },
  {
   "cell_type": "code",
   "execution_count": 15,
   "metadata": {
    "hidden": true
   },
   "outputs": [
    {
     "data": {
      "text/plain": [
       "<matplotlib.text.Text at 0x2ab1e2018590>"
      ]
     },
     "execution_count": 15,
     "metadata": {},
     "output_type": "execute_result"
    },
    {
     "data": {
      "image/png": "[encoded data removed]",
      "text/plain": [
       "<matplotlib.figure.Figure at 0x2ab1e2065d90>"
      ]
     },
     "metadata": {},
     "output_type": "display_data"
    }
   ],
   "source": [
    "f, ax = plt.subplots(figsize=(7,7))\n",
    "\n",
    "out = histplot(mdiff, n=70, log=False)\n",
    "\n",
    "for i in borders + [mdiff_s[-1]]:\n",
    "    ax.axvline(i, color='r')\n",
    "    \n",
    "plt.xlabel(r'$\\log(M_{pred}) - \\log(M_{200c})$', fontsize=20)\n",
    "plt.ylabel('$N$', fontsize=20)"
   ]
  },
  {
   "cell_type": "markdown",
   "metadata": {
    "hidden": true
   },
   "source": [
    "## Train and test"
   ]
  },
  {
   "cell_type": "code",
   "execution_count": 16,
   "metadata": {
    "hidden": true
   },
   "outputs": [],
   "source": [
    "Xkde = np.reshape(Xkde, list(Xkde.shape) + [1])\n",
    "\n",
    "indices = list(range(len(dat)))\n",
    "test = np.random.choice(indices, int(len(dat)/10), replace=False)\n",
    "train = [i for i in range(len(dat)) if i not in test]\n",
    "\n",
    "x_train = Xkde[train,:,:,:]\n",
    "y_train = Y[train]\n",
    "\n",
    "x_test = Xkde[test,:,:,:]\n",
    "y_test = Y[test]"
   ]
  },
  {
   "cell_type": "markdown",
   "metadata": {
    "heading_collapsed": true,
    "hidden": true
   },
   "source": [
    "## Model"
   ]
  },
  {
   "cell_type": "code",
   "execution_count": 17,
   "metadata": {
    "hidden": true
   },
   "outputs": [],
   "source": [
    "batch_size = 10\n",
    "num_classes = 2\n",
    "epochs = 100"
   ]
  },
  {
   "cell_type": "code",
   "execution_count": null,
   "metadata": {
    "hidden": true
   },
   "outputs": [],
   "source": [
    "from keras.models import Sequential\n",
    "from keras.layers import Dense, Dropout, Activation, Flatten\n",
    "from keras.layers import Conv3D, MaxPooling3D"
   ]
  },
  {
   "cell_type": "code",
   "execution_count": null,
   "metadata": {
    "hidden": true
   },
   "outputs": [],
   "source": [
    "model = Sequential()\n",
    "model.add(Conv3D(16, (3, 3, 3), padding='same',\n",
    "                 input_shape=x_train.shape[1:]))\n",
    "model.add(Activation('relu'))\n",
    "model.add(Conv3D(16, (3, 3, 3)))\n",
    "model.add(Activation('relu'))\n",
    "model.add(MaxPooling3D(pool_size=(2, 2, 2)))\n",
    "model.add(Conv3D(16, (3, 3, 3)))\n",
    "model.add(Activation('relu'))\n",
    "model.add(MaxPooling3D(pool_size=(2, 2, 2)))\n",
    "model.add(Dropout(0.25))\n",
    "\n",
    "model.add(Flatten())\n",
    "model.add(Dense(128))\n",
    "model.add(Activation('relu'))\n",
    "model.add(Dropout(0.5))\n",
    "model.add(Dense(1))\n",
    "model.add(Activation('softmax'))"
   ]
  },
  {
   "cell_type": "code",
   "execution_count": null,
   "metadata": {
    "hidden": true
   },
   "outputs": [],
   "source": [
    "opt = keras.optimizers.rmsprop(lr=0.0001, decay=1e-6)\n",
    "\n",
    "model.compile(loss='binary_crossentropy',\n",
    "              optimizer=opt,\n",
    "              metrics=['accuracy'])\n",
    "\n",
    "print model.summary()"
   ]
  },
  {
   "cell_type": "markdown",
   "metadata": {
    "heading_collapsed": true,
    "hidden": true
   },
   "source": [
    "## Train"
   ]
  },
  {
   "cell_type": "code",
   "execution_count": 137,
   "metadata": {
    "hidden": true
   },
   "outputs": [
    {
     "name": "stdout",
     "output_type": "stream",
     "text": [
      "Train on 90 samples, validate on 10 samples\n",
      "Epoch 1/100\n",
      "90/90 [==============================] - 11s 121ms/step - loss: 6.0227 - acc: 0.6222 - val_loss: 7.9712 - val_acc: 0.5000\n",
      "Epoch 2/100\n",
      "90/90 [==============================] - 11s 121ms/step - loss: 6.0227 - acc: 0.6222 - val_loss: 7.9712 - val_acc: 0.5000\n",
      "Epoch 3/100\n",
      "90/90 [==============================] - 11s 121ms/step - loss: 6.0227 - acc: 0.6222 - val_loss: 7.9712 - val_acc: 0.5000\n",
      "Epoch 4/100\n",
      "90/90 [==============================] - 11s 121ms/step - loss: 6.0227 - acc: 0.6222 - val_loss: 7.9712 - val_acc: 0.5000\n",
      "Epoch 5/100\n",
      "90/90 [==============================] - 11s 121ms/step - loss: 6.0227 - acc: 0.6222 - val_loss: 7.9712 - val_acc: 0.5000\n",
      "Epoch 6/100\n",
      "90/90 [==============================] - 11s 121ms/step - loss: 6.0227 - acc: 0.6222 - val_loss: 7.9712 - val_acc: 0.5000\n",
      "Epoch 7/100\n",
      "90/90 [==============================] - 11s 121ms/step - loss: 6.0227 - acc: 0.6222 - val_loss: 7.9712 - val_acc: 0.5000\n",
      "Epoch 8/100\n",
      "90/90 [==============================] - 11s 121ms/step - loss: 6.0227 - acc: 0.6222 - val_loss: 7.9712 - val_acc: 0.5000\n",
      "Epoch 9/100\n",
      "90/90 [==============================] - 11s 121ms/step - loss: 6.0227 - acc: 0.6222 - val_loss: 7.9712 - val_acc: 0.5000\n",
      "Epoch 10/100\n",
      "90/90 [==============================] - 11s 121ms/step - loss: 6.0227 - acc: 0.6222 - val_loss: 7.9712 - val_acc: 0.5000\n",
      "Epoch 11/100\n",
      "90/90 [==============================] - 11s 121ms/step - loss: 6.0227 - acc: 0.6222 - val_loss: 7.9712 - val_acc: 0.5000\n",
      "Epoch 12/100\n",
      "90/90 [==============================] - 11s 121ms/step - loss: 6.0227 - acc: 0.6222 - val_loss: 7.9712 - val_acc: 0.5000\n",
      "Epoch 13/100\n",
      "90/90 [==============================] - 11s 121ms/step - loss: 6.0227 - acc: 0.6222 - val_loss: 7.9712 - val_acc: 0.5000\n",
      "Epoch 14/100\n",
      "90/90 [==============================] - 11s 121ms/step - loss: 6.0227 - acc: 0.6222 - val_loss: 7.9712 - val_acc: 0.5000\n",
      "Epoch 15/100\n",
      "90/90 [==============================] - 11s 121ms/step - loss: 6.0227 - acc: 0.6222 - val_loss: 7.9712 - val_acc: 0.5000\n",
      "Epoch 16/100\n",
      "90/90 [==============================] - 11s 121ms/step - loss: 6.0227 - acc: 0.6222 - val_loss: 7.9712 - val_acc: 0.5000\n",
      "Epoch 17/100\n",
      "90/90 [==============================] - 11s 121ms/step - loss: 6.0227 - acc: 0.6222 - val_loss: 7.9712 - val_acc: 0.5000\n",
      "Epoch 18/100\n",
      "90/90 [==============================] - 11s 121ms/step - loss: 6.0227 - acc: 0.6222 - val_loss: 7.9712 - val_acc: 0.5000\n",
      "Epoch 19/100\n",
      "90/90 [==============================] - 11s 121ms/step - loss: 6.0227 - acc: 0.6222 - val_loss: 7.9712 - val_acc: 0.5000\n",
      "Epoch 20/100\n",
      "90/90 [==============================] - 11s 123ms/step - loss: 6.0227 - acc: 0.6222 - val_loss: 7.9712 - val_acc: 0.5000\n",
      "Epoch 21/100\n",
      "90/90 [==============================] - 11s 121ms/step - loss: 6.0227 - acc: 0.6222 - val_loss: 7.9712 - val_acc: 0.5000\n",
      "Epoch 22/100\n",
      "90/90 [==============================] - 11s 121ms/step - loss: 6.0227 - acc: 0.6222 - val_loss: 7.9712 - val_acc: 0.5000\n",
      "Epoch 23/100\n",
      "90/90 [==============================] - 11s 121ms/step - loss: 6.0227 - acc: 0.6222 - val_loss: 7.9712 - val_acc: 0.5000\n",
      "Epoch 24/100\n",
      "90/90 [==============================] - 11s 121ms/step - loss: 6.0227 - acc: 0.6222 - val_loss: 7.9712 - val_acc: 0.5000\n",
      "Epoch 25/100\n",
      "20/90 [=====>........................] - ETA: 8s - loss: 3.9856 - acc: 0.7500"
     ]
    },
    {
     "ename": "KeyboardInterrupt",
     "evalue": "",
     "output_type": "error",
     "traceback": [
      "\u001b[0;31m---------------------------------------------------------------------------\u001b[0m",
      "\u001b[0;31mKeyboardInterrupt\u001b[0m                         Traceback (most recent call last)",
      "\u001b[0;32m<ipython-input-137-9b8de59dcc25>\u001b[0m in \u001b[0;36m<module>\u001b[0;34m()\u001b[0m\n\u001b[1;32m      4\u001b[0m                   \u001b[0mvalidation_data\u001b[0m\u001b[0;34m=\u001b[0m\u001b[0;34m(\u001b[0m\u001b[0mx_test\u001b[0m\u001b[0;34m,\u001b[0m \u001b[0my_test\u001b[0m\u001b[0;34m)\u001b[0m\u001b[0;34m,\u001b[0m\u001b[0;34m\u001b[0m\u001b[0m\n\u001b[1;32m      5\u001b[0m                   \u001b[0mshuffle\u001b[0m\u001b[0;34m=\u001b[0m\u001b[0mTrue\u001b[0m\u001b[0;34m,\u001b[0m\u001b[0;34m\u001b[0m\u001b[0m\n\u001b[0;32m----> 6\u001b[0;31m                   verbose=1)\n\u001b[0m",
      "\u001b[0;32m/home/mho1/miniconda2/lib/python2.7/site-packages/keras/models.pyc\u001b[0m in \u001b[0;36mfit\u001b[0;34m(self, x, y, batch_size, epochs, verbose, callbacks, validation_split, validation_data, shuffle, class_weight, sample_weight, initial_epoch, steps_per_epoch, validation_steps, **kwargs)\u001b[0m\n\u001b[1;32m    961\u001b[0m                               \u001b[0minitial_epoch\u001b[0m\u001b[0;34m=\u001b[0m\u001b[0minitial_epoch\u001b[0m\u001b[0;34m,\u001b[0m\u001b[0;34m\u001b[0m\u001b[0m\n\u001b[1;32m    962\u001b[0m                               \u001b[0msteps_per_epoch\u001b[0m\u001b[0;34m=\u001b[0m\u001b[0msteps_per_epoch\u001b[0m\u001b[0;34m,\u001b[0m\u001b[0;34m\u001b[0m\u001b[0m\n\u001b[0;32m--> 963\u001b[0;31m                               validation_steps=validation_steps)\n\u001b[0m\u001b[1;32m    964\u001b[0m \u001b[0;34m\u001b[0m\u001b[0m\n\u001b[1;32m    965\u001b[0m     def evaluate(self, x=None, y=None,\n",
      "\u001b[0;32m/home/mho1/miniconda2/lib/python2.7/site-packages/keras/engine/training.pyc\u001b[0m in \u001b[0;36mfit\u001b[0;34m(self, x, y, batch_size, epochs, verbose, callbacks, validation_split, validation_data, shuffle, class_weight, sample_weight, initial_epoch, steps_per_epoch, validation_steps, **kwargs)\u001b[0m\n\u001b[1;32m   1710\u001b[0m                               \u001b[0minitial_epoch\u001b[0m\u001b[0;34m=\u001b[0m\u001b[0minitial_epoch\u001b[0m\u001b[0;34m,\u001b[0m\u001b[0;34m\u001b[0m\u001b[0m\n\u001b[1;32m   1711\u001b[0m                               \u001b[0msteps_per_epoch\u001b[0m\u001b[0;34m=\u001b[0m\u001b[0msteps_per_epoch\u001b[0m\u001b[0;34m,\u001b[0m\u001b[0;34m\u001b[0m\u001b[0m\n\u001b[0;32m-> 1712\u001b[0;31m                               validation_steps=validation_steps)\n\u001b[0m\u001b[1;32m   1713\u001b[0m \u001b[0;34m\u001b[0m\u001b[0m\n\u001b[1;32m   1714\u001b[0m     def evaluate(self, x=None, y=None,\n",
      "\u001b[0;32m/home/mho1/miniconda2/lib/python2.7/site-packages/keras/engine/training.pyc\u001b[0m in \u001b[0;36m_fit_loop\u001b[0;34m(self, f, ins, out_labels, batch_size, epochs, verbose, callbacks, val_f, val_ins, shuffle, callback_metrics, initial_epoch, steps_per_epoch, validation_steps)\u001b[0m\n\u001b[1;32m   1233\u001b[0m                         \u001b[0mins_batch\u001b[0m\u001b[0;34m[\u001b[0m\u001b[0mi\u001b[0m\u001b[0;34m]\u001b[0m \u001b[0;34m=\u001b[0m \u001b[0mins_batch\u001b[0m\u001b[0;34m[\u001b[0m\u001b[0mi\u001b[0m\u001b[0;34m]\u001b[0m\u001b[0;34m.\u001b[0m\u001b[0mtoarray\u001b[0m\u001b[0;34m(\u001b[0m\u001b[0;34m)\u001b[0m\u001b[0;34m\u001b[0m\u001b[0m\n\u001b[1;32m   1234\u001b[0m \u001b[0;34m\u001b[0m\u001b[0m\n\u001b[0;32m-> 1235\u001b[0;31m                     \u001b[0mouts\u001b[0m \u001b[0;34m=\u001b[0m \u001b[0mf\u001b[0m\u001b[0;34m(\u001b[0m\u001b[0mins_batch\u001b[0m\u001b[0;34m)\u001b[0m\u001b[0;34m\u001b[0m\u001b[0m\n\u001b[0m\u001b[1;32m   1236\u001b[0m                     \u001b[0;32mif\u001b[0m \u001b[0;32mnot\u001b[0m \u001b[0misinstance\u001b[0m\u001b[0;34m(\u001b[0m\u001b[0mouts\u001b[0m\u001b[0;34m,\u001b[0m \u001b[0mlist\u001b[0m\u001b[0;34m)\u001b[0m\u001b[0;34m:\u001b[0m\u001b[0;34m\u001b[0m\u001b[0m\n\u001b[1;32m   1237\u001b[0m                         \u001b[0mouts\u001b[0m \u001b[0;34m=\u001b[0m \u001b[0;34m[\u001b[0m\u001b[0mouts\u001b[0m\u001b[0;34m]\u001b[0m\u001b[0;34m\u001b[0m\u001b[0m\n",
      "\u001b[0;32m/home/mho1/miniconda2/lib/python2.7/site-packages/keras/backend/theano_backend.pyc\u001b[0m in \u001b[0;36m__call__\u001b[0;34m(self, inputs)\u001b[0m\n\u001b[1;32m   1225\u001b[0m     \u001b[0;32mdef\u001b[0m \u001b[0m__call__\u001b[0m\u001b[0;34m(\u001b[0m\u001b[0mself\u001b[0m\u001b[0;34m,\u001b[0m \u001b[0minputs\u001b[0m\u001b[0;34m)\u001b[0m\u001b[0;34m:\u001b[0m\u001b[0;34m\u001b[0m\u001b[0m\n\u001b[1;32m   1226\u001b[0m         \u001b[0;32massert\u001b[0m \u001b[0misinstance\u001b[0m\u001b[0;34m(\u001b[0m\u001b[0minputs\u001b[0m\u001b[0;34m,\u001b[0m \u001b[0;34m(\u001b[0m\u001b[0mlist\u001b[0m\u001b[0;34m,\u001b[0m \u001b[0mtuple\u001b[0m\u001b[0;34m)\u001b[0m\u001b[0;34m)\u001b[0m\u001b[0;34m\u001b[0m\u001b[0m\n\u001b[0;32m-> 1227\u001b[0;31m         \u001b[0;32mreturn\u001b[0m \u001b[0mself\u001b[0m\u001b[0;34m.\u001b[0m\u001b[0mfunction\u001b[0m\u001b[0;34m(\u001b[0m\u001b[0;34m*\u001b[0m\u001b[0minputs\u001b[0m\u001b[0;34m)\u001b[0m\u001b[0;34m\u001b[0m\u001b[0m\n\u001b[0m\u001b[1;32m   1228\u001b[0m \u001b[0;34m\u001b[0m\u001b[0m\n\u001b[1;32m   1229\u001b[0m \u001b[0;34m\u001b[0m\u001b[0m\n",
      "\u001b[0;32m/home/mho1/.local/lib/python2.7/site-packages/theano/compile/function_module.pyc\u001b[0m in \u001b[0;36m__call__\u001b[0;34m(self, *args, **kwargs)\u001b[0m\n\u001b[1;32m    901\u001b[0m         \u001b[0;32mtry\u001b[0m\u001b[0;34m:\u001b[0m\u001b[0;34m\u001b[0m\u001b[0m\n\u001b[1;32m    902\u001b[0m             \u001b[0moutputs\u001b[0m \u001b[0;34m=\u001b[0m\u001b[0;31m\\\u001b[0m\u001b[0;34m\u001b[0m\u001b[0m\n\u001b[0;32m--> 903\u001b[0;31m                 \u001b[0mself\u001b[0m\u001b[0;34m.\u001b[0m\u001b[0mfn\u001b[0m\u001b[0;34m(\u001b[0m\u001b[0;34m)\u001b[0m \u001b[0;32mif\u001b[0m \u001b[0moutput_subset\u001b[0m \u001b[0;32mis\u001b[0m \u001b[0mNone\u001b[0m \u001b[0;32melse\u001b[0m\u001b[0;31m\\\u001b[0m\u001b[0;34m\u001b[0m\u001b[0m\n\u001b[0m\u001b[1;32m    904\u001b[0m                 \u001b[0mself\u001b[0m\u001b[0;34m.\u001b[0m\u001b[0mfn\u001b[0m\u001b[0;34m(\u001b[0m\u001b[0moutput_subset\u001b[0m\u001b[0;34m=\u001b[0m\u001b[0moutput_subset\u001b[0m\u001b[0;34m)\u001b[0m\u001b[0;34m\u001b[0m\u001b[0m\n\u001b[1;32m    905\u001b[0m         \u001b[0;32mexcept\u001b[0m \u001b[0mException\u001b[0m\u001b[0;34m:\u001b[0m\u001b[0;34m\u001b[0m\u001b[0m\n",
      "\u001b[0;31mKeyboardInterrupt\u001b[0m: "
     ]
    }
   ],
   "source": [
    "hist = model.fit(x_train, y_train,\n",
    "                  batch_size=batch_size,\n",
    "                  epochs=epochs,\n",
    "                  validation_data=(x_test, y_test),\n",
    "                  shuffle=True,\n",
    "                  verbose=1)"
   ]
  },
  {
   "cell_type": "markdown",
   "metadata": {
    "heading_collapsed": true,
    "hidden": true
   },
   "source": [
    "## Results"
   ]
  },
  {
   "cell_type": "code",
   "execution_count": null,
   "metadata": {
    "hidden": true
   },
   "outputs": [],
   "source": [
    "f = plt.figure(figsize=[8,6])\n",
    "plt.plot(hist.history['loss'],'r',linewidth=3.0)\n",
    "plt.plot(hist.history['val_loss'],'b',linewidth=3.0)\n",
    "plt.legend(['Training loss', 'Validation Loss'],fontsize=18)\n",
    "plt.xlabel('Epochs ',fontsize=16)\n",
    "plt.ylabel('Loss',fontsize=16)\n",
    "plt.title('Loss Curves',fontsize=16)\n",
    "# f.savefig(os.path.join(model_dir,'training_loss.pdf'))\n",
    "\n",
    "f = plt.figure(figsize=[8,6])\n",
    "plt.plot(hist.history['acc'],'r',linewidth=3.0)\n",
    "plt.plot(hist.history['val_acc'],'b',linewidth=3.0)\n",
    "plt.legend(['Training Accuracy', 'Validation Accuracy'],fontsize=18)\n",
    "plt.xlabel('Epochs ',fontsize=16)\n",
    "plt.ylabel('Accuracy',fontsize=16)\n",
    "plt.title('Accuracy Curves',fontsize=16)\n",
    "# f.savefig(os.path.join(model_dir,'training_acc.pdf'))"
   ]
  },
  {
   "cell_type": "code",
   "execution_count": null,
   "metadata": {
    "hidden": true
   },
   "outputs": [],
   "source": []
  },
  {
   "cell_type": "code",
   "execution_count": null,
   "metadata": {
    "hidden": true
   },
   "outputs": [],
   "source": []
  },
  {
   "cell_type": "markdown",
   "metadata": {},
   "source": [
    "# Out data"
   ]
  },
  {
   "cell_type": "code",
   "execution_count": null,
   "metadata": {},
   "outputs": [],
   "source": []
  },
  {
   "cell_type": "code",
   "execution_count": 5,
   "metadata": {
    "ExecuteTime": {
     "end_time": "2018-04-25T14:31:37.194439Z",
     "start_time": "2018-04-25T14:31:37.189008Z"
    }
   },
   "outputs": [],
   "source": [
    "# vmax = 5.33\n",
    "# xmax = 3.37\n",
    "# ymax = 3.31\n",
    "\n",
    "# vmax=3.6\n",
    "# rmax=1.53\n",
    "\n",
    "vmax = 3409.98\n",
    "rmax = 2.2999"
   ]
  },
  {
   "cell_type": "markdown",
   "metadata": {
    "heading_collapsed": true
   },
   "source": [
    "## 2d"
   ]
  },
  {
   "cell_type": "code",
   "execution_count": null,
   "metadata": {
    "hidden": true
   },
   "outputs": [],
   "source": []
  },
  {
   "cell_type": "code",
   "execution_count": 11,
   "metadata": {
    "ExecuteTime": {
     "end_time": "2018-04-11T17:32:23.715124Z",
     "start_time": "2018-04-11T17:32:23.709990Z"
    },
    "hidden": true
   },
   "outputs": [],
   "source": [
    "model_name = 'halo_cnn2d'\n",
    "\n",
    "data_dir = os.path.join(wdir,'data',model_name)"
   ]
  },
  {
   "cell_type": "code",
   "execution_count": 12,
   "metadata": {
    "ExecuteTime": {
     "end_time": "2018-04-11T17:32:24.120923Z",
     "start_time": "2018-04-11T17:32:23.920407Z"
    },
    "hidden": true
   },
   "outputs": [],
   "source": [
    "X = np.load(os.path.join(data_dir, model_name + '_x.npy'))\n",
    "Y = np.load(os.path.join(data_dir, model_name + '_y.npy'))"
   ]
  },
  {
   "cell_type": "code",
   "execution_count": 13,
   "metadata": {
    "ExecuteTime": {
     "end_time": "2018-04-11T17:32:24.149067Z",
     "start_time": "2018-04-11T17:32:24.137920Z"
    },
    "hidden": true
   },
   "outputs": [
    {
     "name": "stdout",
     "output_type": "stream",
     "text": [
      "1.0\n"
     ]
    }
   ],
   "source": [
    "cmax = X.max()\n",
    "print cmax\n",
    "\n",
    "# X /= cmax\n",
    "# cmax = X.max()\n",
    "# print cmax\n",
    "\n",
    "# X[X<0.1]=0"
   ]
  },
  {
   "cell_type": "code",
   "execution_count": 14,
   "metadata": {
    "ExecuteTime": {
     "end_time": "2018-04-11T17:32:26.712148Z",
     "start_time": "2018-04-11T17:32:24.363684Z"
    },
    "code_folding": [],
    "hidden": true,
    "scrolled": false
   },
   "outputs": [
    {
     "data": {
      "text/plain": [
       "<matplotlib.text.Text at 0x7dba090>"
      ]
     },
     "execution_count": 14,
     "metadata": {},
     "output_type": "execute_result"
    },
    {
     "data": {
      "image/png": "[encoded data removed]",
      "text/plain": [
       "<matplotlib.figure.Figure at 0x710edd0>"
      ]
     },
     "metadata": {},
     "output_type": "display_data"
    }
   ],
   "source": [
    "X = np.load(os.path.join(data_dir, model_name + '_x.npy'))\n",
    "\n",
    "# X_sort = np.sort(X.flatten())\n",
    "# for i in range(len(X)):\n",
    "#     for j in range(len(X[i])):\n",
    "#         for k in range(len(X[i][j])):\n",
    "#             X[i,j,k] = np.random.choice(np.where(X_sort == X[i,j,k])[0])\n",
    "# X[X==0] = X[X!=0].min()\n",
    "# X = np.log10(X)\n",
    "# X-=X.min()\n",
    "# X/=X.max()\n",
    "# X = X.astype('float32')\n",
    "# X/= X.max()\n",
    "\n",
    "m = histplot(X, n=100,log=False)\n",
    "plt.xlabel('Xkde values', fontsize=16)"
   ]
  },
  {
   "cell_type": "code",
   "execution_count": 15,
   "metadata": {
    "ExecuteTime": {
     "end_time": "2018-04-11T17:32:27.409263Z",
     "start_time": "2018-04-11T17:32:26.716322Z"
    },
    "code_folding": [],
    "hidden": true
   },
   "outputs": [
    {
     "name": "stdout",
     "output_type": "stream",
     "text": [
      "[ 2.]\n"
     ]
    },
    {
     "name": "stderr",
     "output_type": "stream",
     "text": [
      "/usr/lib64/python2.7/site-packages/matplotlib/collections.py:526: FutureWarning: elementwise comparison failed; returning scalar instead, but in the future will perform elementwise comparison\n",
      "  if self._edgecolors == 'face':\n"
     ]
    },
    {
     "data": {
      "image/png": "[encoded data removed]",
      "text/plain": [
       "<matplotlib.figure.Figure at 0x710e950>"
      ]
     },
     "metadata": {},
     "output_type": "display_data"
    }
   ],
   "source": [
    "i = np.random.randint(len(X))\n",
    "\n",
    "f3 = plt.figure(figsize=(7,7))\n",
    "\n",
    "plt.imshow(np.rot90(X[i].T, k=3), extent=[0, rmax,-vmax,vmax], \n",
    "           aspect='auto',cmap=plt.cm.winter, interpolation='none', vmax=cmax)\n",
    "\n",
    "plt.xlabel(r'$R_{proj}$', fontsize=20)\n",
    "plt.ylabel(r'$v_{los}$', fontsize=20)\n",
    "plt.colorbar()\n",
    "print (Y[i])"
   ]
  },
  {
   "cell_type": "code",
   "execution_count": 16,
   "metadata": {
    "ExecuteTime": {
     "end_time": "2018-04-11T17:32:27.818234Z",
     "start_time": "2018-04-11T17:32:27.412328Z"
    },
    "hidden": true
   },
   "outputs": [
    {
     "data": {
      "text/plain": [
       "<matplotlib.text.Text at 0x8ae8210>"
      ]
     },
     "execution_count": 16,
     "metadata": {},
     "output_type": "execute_result"
    },
    {
     "data": {
      "image/png": "[encoded data removed]",
      "text/plain": [
       "<matplotlib.figure.Figure at 0x67de850>"
      ]
     },
     "metadata": {},
     "output_type": "display_data"
    }
   ],
   "source": [
    "bin1, bin2 = (0, 5)\n",
    "\n",
    "c1 = np.random.choice([i for i in range(len(Y)) if Y[i] == bin1])\n",
    "c2 = np.random.choice([i for i in range(len(Y)) if Y[i] == bin2])\n",
    "\n",
    "f, (ax1, ax2) = plt.subplots(1, 2, sharey=True, figsize=(14,7))\n",
    "\n",
    "ax1.imshow(np.rot90(X[c1].T, k=3), extent=[0, rmax,-vmax,vmax], \n",
    "           aspect='auto',cmap=plt.cm.winter, vmax=cmax, interpolation='none')\n",
    "ax2.imshow(np.rot90(X[c2].T, k=3), extent=[0, rmax,-vmax,vmax], \n",
    "           aspect='auto',cmap=plt.cm.winter, vmax=cmax, interpolation='none')\n",
    "\n",
    "ax1.set_title(str(bin1))\n",
    "ax2.set_title(str(bin2))\n",
    "ax1.set_xlabel(r'$R_{proj}$', fontsize=20)\n",
    "ax2.set_xlabel(r'$R_{proj}$', fontsize=20)\n",
    "ax1.set_ylabel(r'$v_{los}$', fontsize=20)\n",
    "\n",
    "# f.savefig(wdir+'images/' + 'bin_unnorm.pdf')"
   ]
  },
  {
   "cell_type": "code",
   "execution_count": 17,
   "metadata": {
    "ExecuteTime": {
     "end_time": "2018-04-11T17:32:27.829233Z",
     "start_time": "2018-04-11T17:32:27.821273Z"
    },
    "hidden": true
   },
   "outputs": [
    {
     "data": {
      "text/plain": [
       "41.430733"
      ]
     },
     "execution_count": 17,
     "metadata": {},
     "output_type": "execute_result"
    }
   ],
   "source": [
    "np.sum(X[c2])"
   ]
  },
  {
   "cell_type": "markdown",
   "metadata": {
    "heading_collapsed": true
   },
   "source": [
    "## 1d"
   ]
  },
  {
   "cell_type": "code",
   "execution_count": 6,
   "metadata": {
    "ExecuteTime": {
     "end_time": "2018-04-25T14:31:41.270910Z",
     "start_time": "2018-04-25T14:31:41.266114Z"
    },
    "hidden": true
   },
   "outputs": [],
   "source": [
    "model_name = 'halo_cnn1d_r'\n",
    "\n",
    "data_dir = os.path.join(wdir,'data',model_name)"
   ]
  },
  {
   "cell_type": "code",
   "execution_count": 7,
   "metadata": {
    "ExecuteTime": {
     "end_time": "2018-04-25T14:31:41.684484Z",
     "start_time": "2018-04-25T14:31:41.611412Z"
    },
    "hidden": true
   },
   "outputs": [],
   "source": [
    "dat = np.load(os.path.join(data_dir, model_name + '.npy'), encoding='latin1').item()\n",
    "X = dat['X']\n",
    "Y = dat['Y']\n",
    "in_train = dat['in_train']"
   ]
  },
  {
   "cell_type": "code",
   "execution_count": 8,
   "metadata": {
    "ExecuteTime": {
     "end_time": "2018-04-25T14:31:42.012336Z",
     "start_time": "2018-04-25T14:31:42.005906Z"
    },
    "hidden": true
   },
   "outputs": [
    {
     "name": "stdout",
     "output_type": "stream",
     "text": [
      "0.39738\n"
     ]
    }
   ],
   "source": [
    "cmax = X.max()\n",
    "print cmax"
   ]
  },
  {
   "cell_type": "code",
   "execution_count": 9,
   "metadata": {
    "ExecuteTime": {
     "end_time": "2018-04-25T14:31:43.446690Z",
     "start_time": "2018-04-25T14:31:42.886169Z"
    },
    "hidden": true
   },
   "outputs": [
    {
     "name": "stdout",
     "output_type": "stream",
     "text": [
      "[ 14.58686829]\n"
     ]
    },
    {
     "data": {
      "image/png": "[encoded data removed]",
      "text/plain": [
       "<matplotlib.figure.Figure at 0x57bf950>"
      ]
     },
     "metadata": {},
     "output_type": "display_data"
    }
   ],
   "source": [
    "i = np.random.randint(len(X))\n",
    "\n",
    "f3 = plt.figure(figsize=(7,7))\n",
    "\n",
    "plt.bar(np.arange(-vmax, vmax, 2*vmax/len(X[i])),X[i], width=50)\n",
    "\n",
    "plt.xlabel(r'$v_{los}$', fontsize=20)\n",
    "print (Y[i])"
   ]
  },
  {
   "cell_type": "markdown",
   "metadata": {
    "ExecuteTime": {
     "end_time": "2018-04-19T05:28:03.014065Z",
     "start_time": "2018-04-19T05:28:03.010017Z"
    },
    "hidden": true
   },
   "source": [
    "### Model weights"
   ]
  },
  {
   "cell_type": "code",
   "execution_count": 10,
   "metadata": {
    "ExecuteTime": {
     "end_time": "2018-04-25T14:31:50.889734Z",
     "start_time": "2018-04-25T14:31:44.239078Z"
    },
    "hidden": true
   },
   "outputs": [
    {
     "name": "stderr",
     "output_type": "stream",
     "text": [
      "Using TensorFlow backend.\n"
     ]
    }
   ],
   "source": [
    "model_num = 90\n",
    "\n",
    "model_dir = os.path.join(wdir, 'saved_models',model_name)\n",
    "model_path = os.path.join(model_dir, model_name+'_'+str(model_num), \n",
    "                          model_name+'_' + str(model_num) + '.h5')\n",
    "\n",
    "from keras.models import load_model\n",
    "\n",
    "model = load_model(model_path)"
   ]
  },
  {
   "cell_type": "code",
   "execution_count": 11,
   "metadata": {
    "ExecuteTime": {
     "end_time": "2018-04-25T14:31:50.902967Z",
     "start_time": "2018-04-25T14:31:50.894003Z"
    },
    "hidden": true
   },
   "outputs": [],
   "source": [
    "x = model.get_weights()"
   ]
  },
  {
   "cell_type": "code",
   "execution_count": 12,
   "metadata": {
    "ExecuteTime": {
     "end_time": "2018-04-25T14:31:53.544280Z",
     "start_time": "2018-04-25T14:31:50.906135Z"
    },
    "hidden": true,
    "scrolled": true
   },
   "outputs": [
    {
     "data": {
      "image/png": "[encoded data removed]",
      "text/plain": [
       "<matplotlib.figure.Figure at 0x966d7d0>"
      ]
     },
     "metadata": {},
     "output_type": "display_data"
    }
   ],
   "source": [
    "layer = 0\n",
    "shape = list(x[layer].shape)\n",
    "\n",
    "# shape[-1]=10\n",
    "\n",
    "max_x = np.abs(x[layer]).max()\n",
    "\n",
    "xrow = 4\n",
    "yrow = int((shape[-1]+0.5)/xrow+0.5)\n",
    "\n",
    "f = plt.figure(figsize=(xrow*4,yrow*4))\n",
    "gs = mpl.gridspec.GridSpec(yrow,xrow)\n",
    "\n",
    "axarr = [None] *shape[-1]    \n",
    "\n",
    "for i in range(shape[-1]):\n",
    "    filt = x[layer][:,:,i].flatten()\n",
    "    filt /= np.linalg.norm(filt)\n",
    "    \n",
    "    if i == 0:\n",
    "        axarr[0] = f.add_subplot(gs[0,0])\n",
    "    else:\n",
    "        axarr[i] = f.add_subplot(gs[i/xrow, i%xrow],\n",
    "                                sharex=axarr[0], sharey=axarr[0]\n",
    "                               )\n",
    "\n",
    "    axarr[i].plot(np.arange(shape[0]),[0]*shape[0])\n",
    "    axarr[i].bar(np.arange(shape[0]),filt, width=0.3)\n",
    "    axarr[i].set_ylim(-1,1)\n",
    "    axarr[i].set_xticks([])\n",
    "    axarr[i].set_yticks([])"
   ]
  },
  {
   "cell_type": "code",
   "execution_count": 13,
   "metadata": {
    "ExecuteTime": {
     "end_time": "2018-04-25T14:31:53.890353Z",
     "start_time": "2018-04-25T14:31:53.549011Z"
    },
    "hidden": true
   },
   "outputs": [
    {
     "data": {
      "text/plain": [
       "(-1, 1)"
      ]
     },
     "execution_count": 13,
     "metadata": {},
     "output_type": "execute_result"
    },
    {
     "data": {
      "image/png": "[encoded data removed]",
      "text/plain": [
       "<matplotlib.figure.Figure at 0x974ead0>"
      ]
     },
     "metadata": {},
     "output_type": "display_data"
    }
   ],
   "source": [
    "i = np.random.randint(shape[-1])\n",
    "\n",
    "filt = x[layer][:,:,i].flatten()\n",
    "filt /= np.linalg.norm(filt)\n",
    "\n",
    "plt.figure()\n",
    "plt.plot(np.arange(shape[0]),[0]*shape[0])\n",
    "plt.bar(np.arange(shape[0]),filt, width=0.3)\n",
    "plt.ylim(-1,1)"
   ]
  },
  {
   "cell_type": "markdown",
   "metadata": {},
   "source": [
    "# Data"
   ]
  },
  {
   "cell_type": "code",
   "execution_count": 5,
   "metadata": {
    "ExecuteTime": {
     "end_time": "2018-04-17T06:06:47.165861Z",
     "start_time": "2018-04-17T06:06:47.160430Z"
    }
   },
   "outputs": [],
   "source": [
    "model_name = 'halo_cnn1d'\n",
    "\n",
    "data_dir = os.path.join(wdir,'data',model_name)"
   ]
  },
  {
   "cell_type": "code",
   "execution_count": 6,
   "metadata": {
    "ExecuteTime": {
     "end_time": "2018-04-17T06:06:47.488295Z",
     "start_time": "2018-04-17T06:06:47.168781Z"
    }
   },
   "outputs": [],
   "source": [
    "d = np.load(os.path.join(data_dir, model_name + '.npy')).item()"
   ]
  },
  {
   "cell_type": "code",
   "execution_count": 12,
   "metadata": {
    "ExecuteTime": {
     "end_time": "2018-04-17T06:07:35.223070Z",
     "start_time": "2018-04-17T06:07:35.218262Z"
    }
   },
   "outputs": [
    {
     "name": "stdout",
     "output_type": "stream",
     "text": [
      "[u'Y', u'X', u'dat_params', u'm', u'in_train']\n"
     ]
    }
   ],
   "source": [
    "print d.keys()"
   ]
  },
  {
   "cell_type": "code",
   "execution_count": 7,
   "metadata": {
    "ExecuteTime": {
     "end_time": "2018-04-17T06:06:48.769163Z",
     "start_time": "2018-04-17T06:06:48.759259Z"
    }
   },
   "outputs": [
    {
     "data": {
      "text/plain": [
       "numpy.float64"
      ]
     },
     "execution_count": 7,
     "metadata": {},
     "output_type": "execute_result"
    }
   ],
   "source": [
    "type(d['dat_params']['borders'][0])"
   ]
  },
  {
   "cell_type": "code",
   "execution_count": 8,
   "metadata": {
    "ExecuteTime": {
     "end_time": "2018-04-17T06:06:49.719599Z",
     "start_time": "2018-04-17T06:06:49.710199Z"
    }
   },
   "outputs": [
    {
     "data": {
      "text/plain": [
       "\"{'123': 123, 'temp': 'yo'}\""
      ]
     },
     "execution_count": 8,
     "metadata": {},
     "output_type": "execute_result"
    }
   ],
   "source": [
    "x = {'123':123}\n",
    "x['temp'] = 'yo'\n",
    "str(x)"
   ]
  },
  {
   "cell_type": "code",
   "execution_count": 9,
   "metadata": {
    "ExecuteTime": {
     "end_time": "2018-04-17T06:06:50.671731Z",
     "start_time": "2018-04-17T06:06:50.662537Z"
    }
   },
   "outputs": [
    {
     "data": {
      "text/plain": [
       "array([14, 32])"
      ]
     },
     "execution_count": 9,
     "metadata": {},
     "output_type": "execute_result"
    }
   ],
   "source": [
    "np.dot([[1,2,3],[4,5,6]],[1,2,3])"
   ]
  },
  {
   "cell_type": "code",
   "execution_count": 10,
   "metadata": {
    "ExecuteTime": {
     "end_time": "2018-04-17T06:06:51.295824Z",
     "start_time": "2018-04-17T06:06:51.286724Z"
    }
   },
   "outputs": [
    {
     "data": {
      "text/plain": [
       "(3,)"
      ]
     },
     "execution_count": 10,
     "metadata": {},
     "output_type": "execute_result"
    }
   ],
   "source": [
    "np.array([[1,2,3],[4,5,6]]).shape\n",
    "np.array([1,2,3]).shape"
   ]
  },
  {
   "cell_type": "markdown",
   "metadata": {},
   "source": [
    "# Uni Machine"
   ]
  },
  {
   "cell_type": "code",
   "execution_count": 16,
   "metadata": {
    "ExecuteTime": {
     "end_time": "2018-04-17T06:09:56.127669Z",
     "start_time": "2018-04-17T06:09:52.551172Z"
    }
   },
   "outputs": [],
   "source": [
    "uni_dat_path = os.path.join(wdir,'data','sfr_catalog_0.671200.npy')\n",
    "uni_dat = np.load(uni_dat_path)\n"
   ]
  },
  {
   "cell_type": "code",
   "execution_count": 25,
   "metadata": {
    "ExecuteTime": {
     "end_time": "2018-04-17T06:13:46.572613Z",
     "start_time": "2018-04-17T06:13:46.564256Z"
    }
   },
   "outputs": [
    {
     "data": {
      "text/plain": [
       "('x',\n",
       " 'y',\n",
       " 'z',\n",
       " 'vx',\n",
       " 'vy',\n",
       " 'vz',\n",
       " 'upid',\n",
       " 'id',\n",
       " 'mvir',\n",
       " 'mpeak',\n",
       " 'obs_sm',\n",
       " 'obs_sfr')"
      ]
     },
     "execution_count": 25,
     "metadata": {},
     "output_type": "execute_result"
    }
   ],
   "source": [
    "uni_dat.dtype.names"
   ]
  },
  {
   "cell_type": "code",
   "execution_count": 27,
   "metadata": {
    "ExecuteTime": {
     "end_time": "2018-04-17T06:13:59.371940Z",
     "start_time": "2018-04-17T06:13:58.929878Z"
    }
   },
   "outputs": [
    {
     "data": {
      "text/plain": [
       "array([(       9772896080,         -1), (43000002460545783, 9772896080),\n",
       "       (26000005231481032, 9772896080), (40000002900107172, 9772896080),\n",
       "       (28000004879831165, 9772896080), (31000004360511635, 9772896080),\n",
       "       (23000005764327304, 9772896080), (22000005942826643, 9772896080),\n",
       "       (51000001450535234, 9772896080), (12000007722938411, 9772896080)],\n",
       "      dtype=[('id', '<i8'), ('upid', '<i8')])"
      ]
     },
     "execution_count": 27,
     "metadata": {},
     "output_type": "execute_result"
    }
   ],
   "source": [
    "uni_dat[['id','upid']][:10]"
   ]
  },
  {
   "cell_type": "code",
   "execution_count": null,
   "metadata": {},
   "outputs": [],
   "source": []
  }
 ],
 "metadata": {
  "kernelspec": {
   "display_name": "Python 2",
   "language": "python",
   "name": "python2"
  },
  "language_info": {
   "codemirror_mode": {
    "name": "ipython",
    "version": 3
   },
   "file_extension": ".py",
   "mimetype": "text/x-python",
   "name": "python",
   "nbconvert_exporter": "python",
   "pygments_lexer": "ipython3",
   "version": "3.6.5"
  },
  "toc": {
   "nav_menu": {},
   "number_sections": true,
   "sideBar": true,
   "skip_h1_title": false,
   "title_cell": "Table of Contents",
   "title_sidebar": "Contents",
   "toc_cell": false,
   "toc_position": {},
   "toc_section_display": true,
   "toc_window_display": false
  },
  "varInspector": {
   "cols": {
    "lenName": 16,
    "lenType": 16,
    "lenVar": 40
   },
   "kernels_config": {
    "python": {
     "delete_cmd_postfix": "",
     "delete_cmd_prefix": "del ",
     "library": "var_list.py",
     "varRefreshCmd": "print(var_dic_list())"
    },
    "r": {
     "delete_cmd_postfix": ") ",
     "delete_cmd_prefix": "rm(",
     "library": "var_list.r",
     "varRefreshCmd": "cat(var_dic_list()) "
    }
   },
   "types_to_exclude": [
    "module",
    "function",
    "builtin_function_or_method",
    "instance",
    "_Feature"
   ],
   "window_display": false
  }
 },
 "nbformat": 4,
 "nbformat_minor": 2
}
