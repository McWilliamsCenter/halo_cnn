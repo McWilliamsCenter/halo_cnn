{
 "cells": [
  {
   "cell_type": "markdown",
   "metadata": {},
   "source": [
    "## Imports"
   ]
  },
  {
   "cell_type": "code",
   "execution_count": 1,
   "metadata": {
    "scrolled": true
   },
   "outputs": [],
   "source": [
    "import sys\n",
    "import os\n",
    "import numpy as np\n",
    "import numpy.lib.recfunctions as nprf\n",
    "from sklearn import linear_model\n",
    "import matplotlib as mpl\n",
    "\n",
    "from importlib import reload\n",
    "import pandas as pd\n",
    "\n",
    "mpl.use('Agg')\n",
    "\n",
    "mpl.rcParams['figure.figsize'] = (7,7)\n",
    "mpl.rcParams['figure.facecolor'] = (1,1,1,1)\n",
    "mpl.rcParams.update({'font.size':22})\n",
    "\n",
    "% matplotlib inline\n",
    "\n",
    "import matplotlib.pyplot as plt"
   ]
  },
  {
   "cell_type": "code",
   "execution_count": 3,
   "metadata": {},
   "outputs": [
    {
     "data": {
      "text/plain": [
       "<module 'tools.matt_tools' from '/home/mho1/halo_cnn/notebooks/tools/matt_tools.py'>"
      ]
     },
     "execution_count": 3,
     "metadata": {},
     "output_type": "execute_result"
    }
   ],
   "source": [
    "import tools.matt_tools as matt\n",
    "\n",
    "reload(matt)"
   ]
  },
  {
   "cell_type": "code",
   "execution_count": 4,
   "metadata": {},
   "outputs": [],
   "source": [
    "wdir = '/home/mho1/scratch/halo_cnn'"
   ]
  },
  {
   "cell_type": "markdown",
   "metadata": {},
   "source": [
    "# Load"
   ]
  },
  {
   "cell_type": "code",
   "execution_count": 5,
   "metadata": {},
   "outputs": [],
   "source": [
    "data_file = os.path.join(wdir,\n",
    "                         'data_raw',\n",
    "                         'MDPL2_Rockstar_z=0.117_Macc=1e11.csv')"
   ]
  },
  {
   "cell_type": "code",
   "execution_count": null,
   "metadata": {},
   "outputs": [],
   "source": [
    "dat_MD = pd.read_csv(data_file)"
   ]
  },
  {
   "cell_type": "code",
   "execution_count": null,
   "metadata": {},
   "outputs": [],
   "source": [
    "dat_MD.head()"
   ]
  },
  {
   "cell_type": "markdown",
   "metadata": {},
   "source": [
    "# Scratch"
   ]
  },
  {
   "cell_type": "code",
   "execution_count": 2,
   "metadata": {},
   "outputs": [],
   "source": [
    "from collections import OrderedDict"
   ]
  },
  {
   "cell_type": "code",
   "execution_count": 4,
   "metadata": {},
   "outputs": [],
   "source": [
    "par = OrderedDict()"
   ]
  },
  {
   "cell_type": "code",
   "execution_count": 17,
   "metadata": {},
   "outputs": [],
   "source": [
    "par1 = OrderedDict([\n",
    "    ('wdir', '/home/mho1/scratch/halo_cnn/')\n",
    "])\n",
    "par2 = OrderedDict([\n",
    "    ('model_name', 'halo_cnn1d_r')\n",
    "])"
   ]
  },
  {
   "cell_type": "code",
   "execution_count": 13,
   "metadata": {},
   "outputs": [
    {
     "name": "stdout",
     "output_type": "stream",
     "text": [
      "wdir : /home/mho1/scratch/halo_cnn/\n",
      "model_name : halo_cnn1d_r\n"
     ]
    }
   ],
   "source": [
    "for key in par.keys():\n",
    "    print(key + ' : ' + str(par[key]))"
   ]
  },
  {
   "cell_type": "code",
   "execution_count": 18,
   "metadata": {},
   "outputs": [],
   "source": [
    "par1.update(par2)"
   ]
  },
  {
   "cell_type": "code",
   "execution_count": 23,
   "metadata": {},
   "outputs": [
    {
     "data": {
      "text/plain": [
       "OrderedDict([('wdir', '/home/mho1/scratch/halo_cnn/'),\n",
       "             ('model_name', 'halo_cnn1d_r')])"
      ]
     },
     "execution_count": 23,
     "metadata": {},
     "output_type": "execute_result"
    }
   ],
   "source": [
    "par1"
   ]
  },
  {
   "cell_type": "code",
   "execution_count": null,
   "metadata": {},
   "outputs": [],
   "source": []
  },
  {
   "cell_type": "code",
   "execution_count": 4,
   "metadata": {
    "ExecuteTime": {
     "end_time": "2018-06-12T21:31:14.297227Z",
     "start_time": "2018-06-12T21:31:14.294727Z"
    }
   },
   "outputs": [],
   "source": [
    "from bs4 import BeautifulSoup"
   ]
  },
  {
   "cell_type": "code",
   "execution_count": 6,
   "metadata": {
    "ExecuteTime": {
     "end_time": "2018-06-12T21:31:55.101677Z",
     "start_time": "2018-06-12T21:31:55.098715Z"
    }
   },
   "outputs": [],
   "source": [
    "xml = '''<uws:job xmlns:uws=\"http://www.ivoa.net/xml/UWS/v1.0\" xmlns:xsi=\"http://www.w3.org/2001/XMLSchema-instance\" version=\"1.1\">\n",
    "  <uws:jobId>1528838918683310284</uws:jobId>\n",
    "  <uws:runId xsi:nil=\"true\"/>\n",
    "  <uws:ownerId>maho3</uws:ownerId>\n",
    "  <uws:phase>PENDING</uws:phase>\n",
    "  <uws:quote xsi:nil=\"true\"/>\n",
    "  <uws:creationTime>2018-06-12T23:28:38+02:00</uws:creationTime>\n",
    "  <uws:startTime xsi:nil=\"true\"/>\n",
    "  <uws:endTime xsi:nil=\"true\"/>\n",
    "  <uws:executionDuration>0</uws:executionDuration>\n",
    "  <uws:destruction xsi:nil=\"true\"/>\n",
    "  <uws:parameters/>\n",
    "  <uws:results/>\n",
    "</uws:job>\n",
    "'''"
   ]
  },
  {
   "cell_type": "code",
   "execution_count": 11,
   "metadata": {
    "ExecuteTime": {
     "end_time": "2018-06-12T21:35:05.893951Z",
     "start_time": "2018-06-12T21:35:05.890503Z"
    }
   },
   "outputs": [],
   "source": [
    "soup = BeautifulSoup(xml,'xml')"
   ]
  },
  {
   "cell_type": "code",
   "execution_count": 15,
   "metadata": {
    "ExecuteTime": {
     "end_time": "2018-06-12T21:35:31.228504Z",
     "start_time": "2018-06-12T21:35:31.225234Z"
    }
   },
   "outputs": [
    {
     "data": {
      "text/plain": [
       "'1528838918683310284'"
      ]
     },
     "execution_count": 15,
     "metadata": {},
     "output_type": "execute_result"
    }
   ],
   "source": [
    "soup.find('uws:jobId').getText()"
   ]
  },
  {
   "cell_type": "code",
   "execution_count": null,
   "metadata": {},
   "outputs": [],
   "source": []
  }
 ],
 "metadata": {
  "kernelspec": {
   "display_name": "Python 3",
   "language": "python",
   "name": "python3"
  },
  "language_info": {
   "codemirror_mode": {
    "name": "ipython",
    "version": 3
   },
   "file_extension": ".py",
   "mimetype": "text/x-python",
   "name": "python",
   "nbconvert_exporter": "python",
   "pygments_lexer": "ipython3",
   "version": "3.6.4"
  },
  "toc": {
   "nav_menu": {},
   "number_sections": true,
   "sideBar": true,
   "skip_h1_title": false,
   "title_cell": "Table of Contents",
   "title_sidebar": "Contents",
   "toc_cell": false,
   "toc_position": {},
   "toc_section_display": true,
   "toc_window_display": false
  }
 },
 "nbformat": 4,
 "nbformat_minor": 2
}
