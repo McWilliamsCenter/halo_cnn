{
 "cells": [
  {
   "cell_type": "markdown",
   "metadata": {},
   "source": [
    "## Imports"
   ]
  },
  {
   "cell_type": "code",
   "execution_count": 1,
   "metadata": {
    "scrolled": true
   },
   "outputs": [],
   "source": [
    "import sys\n",
    "import os\n",
    "import numpy as np\n",
    "import numpy.lib.recfunctions as nprf\n",
    "from sklearn import linear_model\n",
    "import matplotlib as mpl\n",
    "from scipy.stats import gaussian_kde\n",
    "from importlib import reload\n",
    "import pandas as pd\n",
    "\n",
    "mpl.use('Agg')\n",
    "\n",
    "mpl.rcParams['figure.figsize'] = (7,7)\n",
    "mpl.rcParams['figure.facecolor'] = (1,1,1,1)\n",
    "mpl.rcParams.update({'font.size':22})\n",
    "\n",
    "% matplotlib inline\n",
    "\n",
    "import matplotlib.pyplot as plt"
   ]
  },
  {
   "cell_type": "code",
   "execution_count": 2,
   "metadata": {},
   "outputs": [
    {
     "data": {
      "text/plain": [
       "<module 'tools.cnn_tools' from '/home/mho1/halo_cnn/notebooks/tools/cnn_tools.py'>"
      ]
     },
     "execution_count": 2,
     "metadata": {},
     "output_type": "execute_result"
    }
   ],
   "source": [
    "import tools.matt_tools as matt\n",
    "import tools.cnn_tools as cnn\n",
    "\n",
    "reload(matt)\n",
    "reload(cnn)"
   ]
  },
  {
   "cell_type": "code",
   "execution_count": 3,
   "metadata": {},
   "outputs": [],
   "source": [
    "wdir = '/home/mho1/scratch/halo_cnn'"
   ]
  },
  {
   "cell_type": "markdown",
   "metadata": {},
   "source": [
    "# Load"
   ]
  },
  {
   "cell_type": "code",
   "execution_count": 4,
   "metadata": {},
   "outputs": [],
   "source": [
    "data_file = os.path.join(wdir,\n",
    "                         'raw',\n",
    "                         'MDPL2_Rockstar_z=0.117_Macc=1e11.csv')"
   ]
  },
  {
   "cell_type": "code",
   "execution_count": 5,
   "metadata": {},
   "outputs": [],
   "source": [
    "dat_MD = pd.read_csv(data_file)"
   ]
  },
  {
   "cell_type": "code",
   "execution_count": 6,
   "metadata": {},
   "outputs": [
    {
     "data": {
      "text/html": [
       "<div>\n",
       "<style scoped>\n",
       "    .dataframe tbody tr th:only-of-type {\n",
       "        vertical-align: middle;\n",
       "    }\n",
       "\n",
       "    .dataframe tbody tr th {\n",
       "        vertical-align: top;\n",
       "    }\n",
       "\n",
       "    .dataframe thead th {\n",
       "        text-align: right;\n",
       "    }\n",
       "</style>\n",
       "<table border=\"1\" class=\"dataframe\">\n",
       "  <thead>\n",
       "    <tr style=\"text-align: right;\">\n",
       "      <th></th>\n",
       "      <th>row_id</th>\n",
       "      <th>rockstarId</th>\n",
       "      <th>upId</th>\n",
       "      <th>M200b</th>\n",
       "      <th>Rvir</th>\n",
       "      <th>x</th>\n",
       "      <th>y</th>\n",
       "      <th>z</th>\n",
       "      <th>vx</th>\n",
       "      <th>vy</th>\n",
       "      <th>vz</th>\n",
       "      <th>M500c</th>\n",
       "      <th>Rs</th>\n",
       "      <th>Macc</th>\n",
       "      <th>Vacc</th>\n",
       "      <th>Mvir</th>\n",
       "      <th>M200c</th>\n",
       "    </tr>\n",
       "  </thead>\n",
       "  <tbody>\n",
       "    <tr>\n",
       "      <th>0</th>\n",
       "      <td>1</td>\n",
       "      <td>11830268795</td>\n",
       "      <td>-1</td>\n",
       "      <td>1.716200e+11</td>\n",
       "      <td>115.780</td>\n",
       "      <td>0.24644</td>\n",
       "      <td>0.24207</td>\n",
       "      <td>267.242</td>\n",
       "      <td>56.51</td>\n",
       "      <td>-380.49</td>\n",
       "      <td>-149.36</td>\n",
       "      <td>1.219400e+11</td>\n",
       "      <td>12.480</td>\n",
       "      <td>1.625800e+11</td>\n",
       "      <td>98.51</td>\n",
       "      <td>1.625800e+11</td>\n",
       "      <td>1.475300e+11</td>\n",
       "    </tr>\n",
       "    <tr>\n",
       "      <th>1</th>\n",
       "      <td>2</td>\n",
       "      <td>11821679825</td>\n",
       "      <td>11821679827</td>\n",
       "      <td>2.604400e+11</td>\n",
       "      <td>134.682</td>\n",
       "      <td>0.80576</td>\n",
       "      <td>1.62425</td>\n",
       "      <td>283.605</td>\n",
       "      <td>63.22</td>\n",
       "      <td>132.57</td>\n",
       "      <td>113.04</td>\n",
       "      <td>1.656000e+11</td>\n",
       "      <td>8.144</td>\n",
       "      <td>2.950600e+11</td>\n",
       "      <td>124.31</td>\n",
       "      <td>2.559200e+11</td>\n",
       "      <td>2.137700e+11</td>\n",
       "    </tr>\n",
       "    <tr>\n",
       "      <th>2</th>\n",
       "      <td>3</td>\n",
       "      <td>11821797355</td>\n",
       "      <td>-1</td>\n",
       "      <td>3.025900e+11</td>\n",
       "      <td>139.524</td>\n",
       "      <td>0.05414</td>\n",
       "      <td>1.74925</td>\n",
       "      <td>460.638</td>\n",
       "      <td>344.27</td>\n",
       "      <td>176.85</td>\n",
       "      <td>-145.34</td>\n",
       "      <td>1.972100e+11</td>\n",
       "      <td>11.197</td>\n",
       "      <td>2.845200e+11</td>\n",
       "      <td>121.28</td>\n",
       "      <td>2.845200e+11</td>\n",
       "      <td>2.423700e+11</td>\n",
       "    </tr>\n",
       "    <tr>\n",
       "      <th>3</th>\n",
       "      <td>4</td>\n",
       "      <td>11821801845</td>\n",
       "      <td>-1</td>\n",
       "      <td>1.896800e+11</td>\n",
       "      <td>116.491</td>\n",
       "      <td>0.46209</td>\n",
       "      <td>1.73137</td>\n",
       "      <td>470.666</td>\n",
       "      <td>253.49</td>\n",
       "      <td>-31.45</td>\n",
       "      <td>-230.78</td>\n",
       "      <td>1.144100e+11</td>\n",
       "      <td>13.009</td>\n",
       "      <td>1.656000e+11</td>\n",
       "      <td>102.83</td>\n",
       "      <td>1.656000e+11</td>\n",
       "      <td>1.490400e+11</td>\n",
       "    </tr>\n",
       "    <tr>\n",
       "      <th>4</th>\n",
       "      <td>5</td>\n",
       "      <td>11821864805</td>\n",
       "      <td>-1</td>\n",
       "      <td>4.365700e+11</td>\n",
       "      <td>152.337</td>\n",
       "      <td>0.49521</td>\n",
       "      <td>1.10364</td>\n",
       "      <td>564.098</td>\n",
       "      <td>253.09</td>\n",
       "      <td>264.77</td>\n",
       "      <td>217.72</td>\n",
       "      <td>2.438800e+11</td>\n",
       "      <td>12.862</td>\n",
       "      <td>3.703300e+11</td>\n",
       "      <td>134.21</td>\n",
       "      <td>3.703300e+11</td>\n",
       "      <td>3.071000e+11</td>\n",
       "    </tr>\n",
       "  </tbody>\n",
       "</table>\n",
       "</div>"
      ],
      "text/plain": [
       "   row_id   rockstarId         upId         M200b     Rvir        x        y  \\\n",
       "0       1  11830268795           -1  1.716200e+11  115.780  0.24644  0.24207   \n",
       "1       2  11821679825  11821679827  2.604400e+11  134.682  0.80576  1.62425   \n",
       "2       3  11821797355           -1  3.025900e+11  139.524  0.05414  1.74925   \n",
       "3       4  11821801845           -1  1.896800e+11  116.491  0.46209  1.73137   \n",
       "4       5  11821864805           -1  4.365700e+11  152.337  0.49521  1.10364   \n",
       "\n",
       "         z      vx      vy      vz         M500c      Rs          Macc  \\\n",
       "0  267.242   56.51 -380.49 -149.36  1.219400e+11  12.480  1.625800e+11   \n",
       "1  283.605   63.22  132.57  113.04  1.656000e+11   8.144  2.950600e+11   \n",
       "2  460.638  344.27  176.85 -145.34  1.972100e+11  11.197  2.845200e+11   \n",
       "3  470.666  253.49  -31.45 -230.78  1.144100e+11  13.009  1.656000e+11   \n",
       "4  564.098  253.09  264.77  217.72  2.438800e+11  12.862  3.703300e+11   \n",
       "\n",
       "     Vacc          Mvir         M200c  \n",
       "0   98.51  1.625800e+11  1.475300e+11  \n",
       "1  124.31  2.559200e+11  2.137700e+11  \n",
       "2  121.28  2.845200e+11  2.423700e+11  \n",
       "3  102.83  1.656000e+11  1.490400e+11  \n",
       "4  134.21  3.703300e+11  3.071000e+11  "
      ]
     },
     "execution_count": 6,
     "metadata": {},
     "output_type": "execute_result"
    }
   ],
   "source": [
    "dat_MD.head()"
   ]
  },
  {
   "cell_type": "markdown",
   "metadata": {},
   "source": [
    "# Scratch"
   ]
  },
  {
   "cell_type": "code",
   "execution_count": 2,
   "metadata": {
    "ExecuteTime": {
     "end_time": "2018-06-11T18:30:59.201985Z",
     "start_time": "2018-06-11T18:30:59.199639Z"
    }
   },
   "outputs": [],
   "source": [
    "from collections import OrderedDict"
   ]
  },
  {
   "cell_type": "code",
   "execution_count": 4,
   "metadata": {
    "ExecuteTime": {
     "end_time": "2018-06-11T18:31:01.234745Z",
     "start_time": "2018-06-11T18:31:01.232581Z"
    }
   },
   "outputs": [],
   "source": [
    "par = OrderedDict()"
   ]
  },
  {
   "cell_type": "code",
   "execution_count": 5,
   "metadata": {
    "ExecuteTime": {
     "end_time": "2018-06-11T18:36:12.523696Z",
     "start_time": "2018-06-11T18:36:12.520940Z"
    }
   },
   "outputs": [],
   "source": [
    "par = OrderedDict([\n",
    "    ('wdir', '/home/mho1/scratch/halo_cnn/'),\n",
    "    ('model_name', 'halo_cnn1d_r')\n",
    "])"
   ]
  },
  {
   "cell_type": "code",
   "execution_count": 13,
   "metadata": {
    "ExecuteTime": {
     "end_time": "2018-06-11T18:38:41.081713Z",
     "start_time": "2018-06-11T18:38:41.078838Z"
    }
   },
   "outputs": [
    {
     "name": "stdout",
     "output_type": "stream",
     "text": [
      "wdir : /home/mho1/scratch/halo_cnn/\n",
      "model_name : halo_cnn1d_r\n"
     ]
    }
   ],
   "source": [
    "for key in par.keys():\n",
    "    print(key + ' : ' + str(par[key]))"
   ]
  },
  {
   "cell_type": "code",
   "execution_count": null,
   "metadata": {},
   "outputs": [],
   "source": []
  },
  {
   "cell_type": "code",
   "execution_count": null,
   "metadata": {},
   "outputs": [],
   "source": []
  }
 ],
 "metadata": {
  "kernelspec": {
   "display_name": "Python 3",
   "language": "python",
   "name": "python3"
  },
  "language_info": {
   "codemirror_mode": {
    "name": "ipython",
    "version": 3
   },
   "file_extension": ".py",
   "mimetype": "text/x-python",
   "name": "python",
   "nbconvert_exporter": "python",
   "pygments_lexer": "ipython3",
   "version": "3.6.4"
  },
  "toc": {
   "nav_menu": {},
   "number_sections": true,
   "sideBar": true,
   "skip_h1_title": false,
   "title_cell": "Table of Contents",
   "title_sidebar": "Contents",
   "toc_cell": false,
   "toc_position": {},
   "toc_section_display": true,
   "toc_window_display": false
  }
 },
 "nbformat": 4,
 "nbformat_minor": 2
}
